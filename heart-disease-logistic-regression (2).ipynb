{
 "cells": [
  {
   "cell_type": "code",
   "execution_count": 1,
   "id": "9fcab373",
   "metadata": {
    "_cell_guid": "b1076dfc-b9ad-4769-8c92-a6c4dae69d19",
    "_uuid": "8f2839f25d086af736a60e9eeb907d3b93b6e0e5",
    "execution": {
     "iopub.execute_input": "2023-03-12T08:07:37.885057Z",
     "iopub.status.busy": "2023-03-12T08:07:37.883908Z",
     "iopub.status.idle": "2023-03-12T08:07:37.919845Z",
     "shell.execute_reply": "2023-03-12T08:07:37.918909Z"
    },
    "papermill": {
     "duration": 0.062206,
     "end_time": "2023-03-12T08:07:37.925018",
     "exception": false,
     "start_time": "2023-03-12T08:07:37.862812",
     "status": "completed"
    },
    "tags": []
   },
   "outputs": [
    {
     "name": "stdout",
     "output_type": "stream",
     "text": [
      "/kaggle/input/heart-disease-dataset/heart_disease.csv\n"
     ]
    }
   ],
   "source": [
    "# This Python 3 environment comes with many helpful analytics libraries installed\n",
    "# It is defined by the kaggle/python Docker image: https://github.com/kaggle/docker-python\n",
    "# For example, here's several helpful packages to load\n",
    "\n",
    "import numpy as np # linear algebra\n",
    "import pandas as pd # data processing, CSV file I/O (e.g. pd.read_csv)\n",
    "\n",
    "# Input data files are available in the read-only \"../input/\" directory\n",
    "# For example, running this (by clicking run or pressing Shift+Enter) will list all files under the input directory\n",
    "\n",
    "import os\n",
    "for dirname, _, filenames in os.walk('/kaggle/input'):\n",
    "    for filename in filenames:\n",
    "        print(os.path.join(dirname, filename))\n",
    "\n",
    "# You can write up to 20GB to the current directory (/kaggle/working/) that gets preserved as output when you create a version using \"Save & Run All\" \n",
    "# You can also write temporary files to /kaggle/temp/, but they won't be saved outside of the current session"
   ]
  },
  {
   "cell_type": "code",
   "execution_count": 2,
   "id": "66fdd8ba",
   "metadata": {
    "execution": {
     "iopub.execute_input": "2023-03-12T08:07:37.969194Z",
     "iopub.status.busy": "2023-03-12T08:07:37.968309Z",
     "iopub.status.idle": "2023-03-12T08:07:39.129357Z",
     "shell.execute_reply": "2023-03-12T08:07:39.127949Z"
    },
    "papermill": {
     "duration": 1.185707,
     "end_time": "2023-03-12T08:07:39.132577",
     "exception": false,
     "start_time": "2023-03-12T08:07:37.946870",
     "status": "completed"
    },
    "tags": []
   },
   "outputs": [],
   "source": [
    "import pandas as pd\n",
    "import numpy as np\n",
    "import seaborn as sns"
   ]
  },
  {
   "cell_type": "code",
   "execution_count": 3,
   "id": "ad581c01",
   "metadata": {
    "execution": {
     "iopub.execute_input": "2023-03-12T08:07:39.154863Z",
     "iopub.status.busy": "2023-03-12T08:07:39.154470Z",
     "iopub.status.idle": "2023-03-12T08:07:39.185858Z",
     "shell.execute_reply": "2023-03-12T08:07:39.184499Z"
    },
    "papermill": {
     "duration": 0.045898,
     "end_time": "2023-03-12T08:07:39.188852",
     "exception": false,
     "start_time": "2023-03-12T08:07:39.142954",
     "status": "completed"
    },
    "tags": []
   },
   "outputs": [],
   "source": [
    "data = pd.read_csv(\"/kaggle/input/heart-disease-dataset/heart_disease.csv\")"
   ]
  },
  {
   "cell_type": "code",
   "execution_count": 4,
   "id": "dc216977",
   "metadata": {
    "execution": {
     "iopub.execute_input": "2023-03-12T08:07:39.212165Z",
     "iopub.status.busy": "2023-03-12T08:07:39.211746Z",
     "iopub.status.idle": "2023-03-12T08:07:39.248652Z",
     "shell.execute_reply": "2023-03-12T08:07:39.247308Z"
    },
    "papermill": {
     "duration": 0.052934,
     "end_time": "2023-03-12T08:07:39.251759",
     "exception": false,
     "start_time": "2023-03-12T08:07:39.198825",
     "status": "completed"
    },
    "tags": []
   },
   "outputs": [
    {
     "data": {
      "text/html": [
       "<div>\n",
       "<style scoped>\n",
       "    .dataframe tbody tr th:only-of-type {\n",
       "        vertical-align: middle;\n",
       "    }\n",
       "\n",
       "    .dataframe tbody tr th {\n",
       "        vertical-align: top;\n",
       "    }\n",
       "\n",
       "    .dataframe thead th {\n",
       "        text-align: right;\n",
       "    }\n",
       "</style>\n",
       "<table border=\"1\" class=\"dataframe\">\n",
       "  <thead>\n",
       "    <tr style=\"text-align: right;\">\n",
       "      <th></th>\n",
       "      <th>Gender</th>\n",
       "      <th>age</th>\n",
       "      <th>education</th>\n",
       "      <th>currentSmoker</th>\n",
       "      <th>cigsPerDay</th>\n",
       "      <th>BPMeds</th>\n",
       "      <th>prevalentStroke</th>\n",
       "      <th>prevalentHyp</th>\n",
       "      <th>diabetes</th>\n",
       "      <th>totChol</th>\n",
       "      <th>sysBP</th>\n",
       "      <th>diaBP</th>\n",
       "      <th>BMI</th>\n",
       "      <th>heartRate</th>\n",
       "      <th>glucose</th>\n",
       "      <th>Heart_ stroke</th>\n",
       "    </tr>\n",
       "  </thead>\n",
       "  <tbody>\n",
       "    <tr>\n",
       "      <th>0</th>\n",
       "      <td>Male</td>\n",
       "      <td>39</td>\n",
       "      <td>postgraduate</td>\n",
       "      <td>0</td>\n",
       "      <td>0.0</td>\n",
       "      <td>0.0</td>\n",
       "      <td>no</td>\n",
       "      <td>0</td>\n",
       "      <td>0</td>\n",
       "      <td>195.0</td>\n",
       "      <td>106.0</td>\n",
       "      <td>70.0</td>\n",
       "      <td>26.97</td>\n",
       "      <td>80.0</td>\n",
       "      <td>77.0</td>\n",
       "      <td>No</td>\n",
       "    </tr>\n",
       "    <tr>\n",
       "      <th>1</th>\n",
       "      <td>Female</td>\n",
       "      <td>46</td>\n",
       "      <td>primaryschool</td>\n",
       "      <td>0</td>\n",
       "      <td>0.0</td>\n",
       "      <td>0.0</td>\n",
       "      <td>no</td>\n",
       "      <td>0</td>\n",
       "      <td>0</td>\n",
       "      <td>250.0</td>\n",
       "      <td>121.0</td>\n",
       "      <td>81.0</td>\n",
       "      <td>28.73</td>\n",
       "      <td>95.0</td>\n",
       "      <td>76.0</td>\n",
       "      <td>No</td>\n",
       "    </tr>\n",
       "    <tr>\n",
       "      <th>2</th>\n",
       "      <td>Male</td>\n",
       "      <td>48</td>\n",
       "      <td>uneducated</td>\n",
       "      <td>1</td>\n",
       "      <td>20.0</td>\n",
       "      <td>0.0</td>\n",
       "      <td>no</td>\n",
       "      <td>0</td>\n",
       "      <td>0</td>\n",
       "      <td>245.0</td>\n",
       "      <td>127.5</td>\n",
       "      <td>80.0</td>\n",
       "      <td>25.34</td>\n",
       "      <td>75.0</td>\n",
       "      <td>70.0</td>\n",
       "      <td>No</td>\n",
       "    </tr>\n",
       "    <tr>\n",
       "      <th>3</th>\n",
       "      <td>Female</td>\n",
       "      <td>61</td>\n",
       "      <td>graduate</td>\n",
       "      <td>1</td>\n",
       "      <td>30.0</td>\n",
       "      <td>0.0</td>\n",
       "      <td>no</td>\n",
       "      <td>1</td>\n",
       "      <td>0</td>\n",
       "      <td>225.0</td>\n",
       "      <td>150.0</td>\n",
       "      <td>95.0</td>\n",
       "      <td>28.58</td>\n",
       "      <td>65.0</td>\n",
       "      <td>103.0</td>\n",
       "      <td>yes</td>\n",
       "    </tr>\n",
       "    <tr>\n",
       "      <th>4</th>\n",
       "      <td>Female</td>\n",
       "      <td>46</td>\n",
       "      <td>graduate</td>\n",
       "      <td>1</td>\n",
       "      <td>23.0</td>\n",
       "      <td>0.0</td>\n",
       "      <td>no</td>\n",
       "      <td>0</td>\n",
       "      <td>0</td>\n",
       "      <td>285.0</td>\n",
       "      <td>130.0</td>\n",
       "      <td>84.0</td>\n",
       "      <td>23.10</td>\n",
       "      <td>85.0</td>\n",
       "      <td>85.0</td>\n",
       "      <td>No</td>\n",
       "    </tr>\n",
       "  </tbody>\n",
       "</table>\n",
       "</div>"
      ],
      "text/plain": [
       "   Gender  age      education  currentSmoker  cigsPerDay  BPMeds  \\\n",
       "0    Male   39   postgraduate              0         0.0     0.0   \n",
       "1  Female   46  primaryschool              0         0.0     0.0   \n",
       "2    Male   48     uneducated              1        20.0     0.0   \n",
       "3  Female   61       graduate              1        30.0     0.0   \n",
       "4  Female   46       graduate              1        23.0     0.0   \n",
       "\n",
       "  prevalentStroke  prevalentHyp  diabetes  totChol  sysBP  diaBP    BMI  \\\n",
       "0              no             0         0    195.0  106.0   70.0  26.97   \n",
       "1              no             0         0    250.0  121.0   81.0  28.73   \n",
       "2              no             0         0    245.0  127.5   80.0  25.34   \n",
       "3              no             1         0    225.0  150.0   95.0  28.58   \n",
       "4              no             0         0    285.0  130.0   84.0  23.10   \n",
       "\n",
       "   heartRate  glucose Heart_ stroke  \n",
       "0       80.0     77.0            No  \n",
       "1       95.0     76.0            No  \n",
       "2       75.0     70.0            No  \n",
       "3       65.0    103.0           yes  \n",
       "4       85.0     85.0            No  "
      ]
     },
     "execution_count": 4,
     "metadata": {},
     "output_type": "execute_result"
    }
   ],
   "source": [
    "data.head()\n"
   ]
  },
  {
   "cell_type": "code",
   "execution_count": 5,
   "id": "3b3fa06f",
   "metadata": {
    "execution": {
     "iopub.execute_input": "2023-03-12T08:07:39.275475Z",
     "iopub.status.busy": "2023-03-12T08:07:39.275079Z",
     "iopub.status.idle": "2023-03-12T08:07:39.296617Z",
     "shell.execute_reply": "2023-03-12T08:07:39.295241Z"
    },
    "papermill": {
     "duration": 0.036149,
     "end_time": "2023-03-12T08:07:39.298907",
     "exception": false,
     "start_time": "2023-03-12T08:07:39.262758",
     "status": "completed"
    },
    "tags": []
   },
   "outputs": [
    {
     "data": {
      "text/html": [
       "<div>\n",
       "<style scoped>\n",
       "    .dataframe tbody tr th:only-of-type {\n",
       "        vertical-align: middle;\n",
       "    }\n",
       "\n",
       "    .dataframe tbody tr th {\n",
       "        vertical-align: top;\n",
       "    }\n",
       "\n",
       "    .dataframe thead th {\n",
       "        text-align: right;\n",
       "    }\n",
       "</style>\n",
       "<table border=\"1\" class=\"dataframe\">\n",
       "  <thead>\n",
       "    <tr style=\"text-align: right;\">\n",
       "      <th></th>\n",
       "      <th>Gender</th>\n",
       "      <th>age</th>\n",
       "      <th>education</th>\n",
       "      <th>currentSmoker</th>\n",
       "      <th>cigsPerDay</th>\n",
       "      <th>BPMeds</th>\n",
       "      <th>prevalentStroke</th>\n",
       "      <th>prevalentHyp</th>\n",
       "      <th>diabetes</th>\n",
       "      <th>totChol</th>\n",
       "      <th>sysBP</th>\n",
       "      <th>diaBP</th>\n",
       "      <th>BMI</th>\n",
       "      <th>heartRate</th>\n",
       "      <th>glucose</th>\n",
       "      <th>Heart_ stroke</th>\n",
       "    </tr>\n",
       "  </thead>\n",
       "  <tbody>\n",
       "    <tr>\n",
       "      <th>4233</th>\n",
       "      <td>Male</td>\n",
       "      <td>50</td>\n",
       "      <td>uneducated</td>\n",
       "      <td>1</td>\n",
       "      <td>1.0</td>\n",
       "      <td>0.0</td>\n",
       "      <td>no</td>\n",
       "      <td>1</td>\n",
       "      <td>0</td>\n",
       "      <td>313.0</td>\n",
       "      <td>179.0</td>\n",
       "      <td>92.0</td>\n",
       "      <td>25.97</td>\n",
       "      <td>66.0</td>\n",
       "      <td>86.0</td>\n",
       "      <td>yes</td>\n",
       "    </tr>\n",
       "    <tr>\n",
       "      <th>4234</th>\n",
       "      <td>Male</td>\n",
       "      <td>51</td>\n",
       "      <td>graduate</td>\n",
       "      <td>1</td>\n",
       "      <td>43.0</td>\n",
       "      <td>0.0</td>\n",
       "      <td>no</td>\n",
       "      <td>0</td>\n",
       "      <td>0</td>\n",
       "      <td>207.0</td>\n",
       "      <td>126.5</td>\n",
       "      <td>80.0</td>\n",
       "      <td>19.71</td>\n",
       "      <td>65.0</td>\n",
       "      <td>68.0</td>\n",
       "      <td>No</td>\n",
       "    </tr>\n",
       "    <tr>\n",
       "      <th>4235</th>\n",
       "      <td>Female</td>\n",
       "      <td>48</td>\n",
       "      <td>primaryschool</td>\n",
       "      <td>1</td>\n",
       "      <td>20.0</td>\n",
       "      <td>NaN</td>\n",
       "      <td>no</td>\n",
       "      <td>0</td>\n",
       "      <td>0</td>\n",
       "      <td>248.0</td>\n",
       "      <td>131.0</td>\n",
       "      <td>72.0</td>\n",
       "      <td>22.00</td>\n",
       "      <td>84.0</td>\n",
       "      <td>86.0</td>\n",
       "      <td>No</td>\n",
       "    </tr>\n",
       "    <tr>\n",
       "      <th>4236</th>\n",
       "      <td>Female</td>\n",
       "      <td>44</td>\n",
       "      <td>uneducated</td>\n",
       "      <td>1</td>\n",
       "      <td>15.0</td>\n",
       "      <td>0.0</td>\n",
       "      <td>no</td>\n",
       "      <td>0</td>\n",
       "      <td>0</td>\n",
       "      <td>210.0</td>\n",
       "      <td>126.5</td>\n",
       "      <td>87.0</td>\n",
       "      <td>19.16</td>\n",
       "      <td>86.0</td>\n",
       "      <td>NaN</td>\n",
       "      <td>No</td>\n",
       "    </tr>\n",
       "    <tr>\n",
       "      <th>4237</th>\n",
       "      <td>Female</td>\n",
       "      <td>52</td>\n",
       "      <td>primaryschool</td>\n",
       "      <td>0</td>\n",
       "      <td>0.0</td>\n",
       "      <td>0.0</td>\n",
       "      <td>no</td>\n",
       "      <td>0</td>\n",
       "      <td>0</td>\n",
       "      <td>269.0</td>\n",
       "      <td>133.5</td>\n",
       "      <td>83.0</td>\n",
       "      <td>21.47</td>\n",
       "      <td>80.0</td>\n",
       "      <td>107.0</td>\n",
       "      <td>No</td>\n",
       "    </tr>\n",
       "  </tbody>\n",
       "</table>\n",
       "</div>"
      ],
      "text/plain": [
       "      Gender  age      education  currentSmoker  cigsPerDay  BPMeds  \\\n",
       "4233    Male   50     uneducated              1         1.0     0.0   \n",
       "4234    Male   51       graduate              1        43.0     0.0   \n",
       "4235  Female   48  primaryschool              1        20.0     NaN   \n",
       "4236  Female   44     uneducated              1        15.0     0.0   \n",
       "4237  Female   52  primaryschool              0         0.0     0.0   \n",
       "\n",
       "     prevalentStroke  prevalentHyp  diabetes  totChol  sysBP  diaBP    BMI  \\\n",
       "4233              no             1         0    313.0  179.0   92.0  25.97   \n",
       "4234              no             0         0    207.0  126.5   80.0  19.71   \n",
       "4235              no             0         0    248.0  131.0   72.0  22.00   \n",
       "4236              no             0         0    210.0  126.5   87.0  19.16   \n",
       "4237              no             0         0    269.0  133.5   83.0  21.47   \n",
       "\n",
       "      heartRate  glucose Heart_ stroke  \n",
       "4233       66.0     86.0           yes  \n",
       "4234       65.0     68.0            No  \n",
       "4235       84.0     86.0            No  \n",
       "4236       86.0      NaN            No  \n",
       "4237       80.0    107.0            No  "
      ]
     },
     "execution_count": 5,
     "metadata": {},
     "output_type": "execute_result"
    }
   ],
   "source": [
    "data.tail()\n"
   ]
  },
  {
   "cell_type": "code",
   "execution_count": 6,
   "id": "b0b1bd06",
   "metadata": {
    "execution": {
     "iopub.execute_input": "2023-03-12T08:07:39.322296Z",
     "iopub.status.busy": "2023-03-12T08:07:39.321780Z",
     "iopub.status.idle": "2023-03-12T08:07:39.330265Z",
     "shell.execute_reply": "2023-03-12T08:07:39.329053Z"
    },
    "papermill": {
     "duration": 0.023496,
     "end_time": "2023-03-12T08:07:39.332873",
     "exception": false,
     "start_time": "2023-03-12T08:07:39.309377",
     "status": "completed"
    },
    "tags": []
   },
   "outputs": [
    {
     "data": {
      "text/plain": [
       "(4238, 16)"
      ]
     },
     "execution_count": 6,
     "metadata": {},
     "output_type": "execute_result"
    }
   ],
   "source": [
    "data.shape"
   ]
  },
  {
   "cell_type": "code",
   "execution_count": 7,
   "id": "81fb7844",
   "metadata": {
    "execution": {
     "iopub.execute_input": "2023-03-12T08:07:39.357917Z",
     "iopub.status.busy": "2023-03-12T08:07:39.357434Z",
     "iopub.status.idle": "2023-03-12T08:07:39.384251Z",
     "shell.execute_reply": "2023-03-12T08:07:39.382875Z"
    },
    "papermill": {
     "duration": 0.047583,
     "end_time": "2023-03-12T08:07:39.391438",
     "exception": false,
     "start_time": "2023-03-12T08:07:39.343855",
     "status": "completed"
    },
    "tags": []
   },
   "outputs": [
    {
     "name": "stdout",
     "output_type": "stream",
     "text": [
      "<class 'pandas.core.frame.DataFrame'>\n",
      "RangeIndex: 4238 entries, 0 to 4237\n",
      "Data columns (total 16 columns):\n",
      " #   Column           Non-Null Count  Dtype  \n",
      "---  ------           --------------  -----  \n",
      " 0   Gender           4238 non-null   object \n",
      " 1   age              4238 non-null   int64  \n",
      " 2   education        4133 non-null   object \n",
      " 3   currentSmoker    4238 non-null   int64  \n",
      " 4   cigsPerDay       4209 non-null   float64\n",
      " 5   BPMeds           4185 non-null   float64\n",
      " 6   prevalentStroke  4238 non-null   object \n",
      " 7   prevalentHyp     4238 non-null   int64  \n",
      " 8   diabetes         4238 non-null   int64  \n",
      " 9   totChol          4188 non-null   float64\n",
      " 10  sysBP            4238 non-null   float64\n",
      " 11  diaBP            4238 non-null   float64\n",
      " 12  BMI              4219 non-null   float64\n",
      " 13  heartRate        4237 non-null   float64\n",
      " 14  glucose          3850 non-null   float64\n",
      " 15  Heart_ stroke    4238 non-null   object \n",
      "dtypes: float64(8), int64(4), object(4)\n",
      "memory usage: 529.9+ KB\n"
     ]
    }
   ],
   "source": [
    "data.info()\n"
   ]
  },
  {
   "cell_type": "code",
   "execution_count": 8,
   "id": "bd91292c",
   "metadata": {
    "execution": {
     "iopub.execute_input": "2023-03-12T08:07:39.418436Z",
     "iopub.status.busy": "2023-03-12T08:07:39.417928Z",
     "iopub.status.idle": "2023-03-12T08:07:39.428226Z",
     "shell.execute_reply": "2023-03-12T08:07:39.426761Z"
    },
    "papermill": {
     "duration": 0.027691,
     "end_time": "2023-03-12T08:07:39.430627",
     "exception": false,
     "start_time": "2023-03-12T08:07:39.402936",
     "status": "completed"
    },
    "tags": []
   },
   "outputs": [],
   "source": [
    "data2 = data.dropna()\n"
   ]
  },
  {
   "cell_type": "code",
   "execution_count": 9,
   "id": "16db55d6",
   "metadata": {
    "execution": {
     "iopub.execute_input": "2023-03-12T08:07:39.456286Z",
     "iopub.status.busy": "2023-03-12T08:07:39.455847Z",
     "iopub.status.idle": "2023-03-12T08:07:39.464744Z",
     "shell.execute_reply": "2023-03-12T08:07:39.463406Z"
    },
    "papermill": {
     "duration": 0.025407,
     "end_time": "2023-03-12T08:07:39.467479",
     "exception": false,
     "start_time": "2023-03-12T08:07:39.442072",
     "status": "completed"
    },
    "tags": []
   },
   "outputs": [
    {
     "data": {
      "text/plain": [
       "(3656, 16)"
      ]
     },
     "execution_count": 9,
     "metadata": {},
     "output_type": "execute_result"
    }
   ],
   "source": [
    "data2.shape"
   ]
  },
  {
   "cell_type": "code",
   "execution_count": 10,
   "id": "ed687d01",
   "metadata": {
    "execution": {
     "iopub.execute_input": "2023-03-12T08:07:39.492844Z",
     "iopub.status.busy": "2023-03-12T08:07:39.492454Z",
     "iopub.status.idle": "2023-03-12T08:07:39.508194Z",
     "shell.execute_reply": "2023-03-12T08:07:39.506647Z"
    },
    "papermill": {
     "duration": 0.032328,
     "end_time": "2023-03-12T08:07:39.511266",
     "exception": false,
     "start_time": "2023-03-12T08:07:39.478938",
     "status": "completed"
    },
    "tags": []
   },
   "outputs": [
    {
     "name": "stdout",
     "output_type": "stream",
     "text": [
      "<class 'pandas.core.frame.DataFrame'>\n",
      "Int64Index: 3656 entries, 0 to 4237\n",
      "Data columns (total 16 columns):\n",
      " #   Column           Non-Null Count  Dtype  \n",
      "---  ------           --------------  -----  \n",
      " 0   Gender           3656 non-null   object \n",
      " 1   age              3656 non-null   int64  \n",
      " 2   education        3656 non-null   object \n",
      " 3   currentSmoker    3656 non-null   int64  \n",
      " 4   cigsPerDay       3656 non-null   float64\n",
      " 5   BPMeds           3656 non-null   float64\n",
      " 6   prevalentStroke  3656 non-null   object \n",
      " 7   prevalentHyp     3656 non-null   int64  \n",
      " 8   diabetes         3656 non-null   int64  \n",
      " 9   totChol          3656 non-null   float64\n",
      " 10  sysBP            3656 non-null   float64\n",
      " 11  diaBP            3656 non-null   float64\n",
      " 12  BMI              3656 non-null   float64\n",
      " 13  heartRate        3656 non-null   float64\n",
      " 14  glucose          3656 non-null   float64\n",
      " 15  Heart_ stroke    3656 non-null   object \n",
      "dtypes: float64(8), int64(4), object(4)\n",
      "memory usage: 485.6+ KB\n"
     ]
    }
   ],
   "source": [
    "data2.info()"
   ]
  },
  {
   "cell_type": "code",
   "execution_count": 11,
   "id": "935fe6c5",
   "metadata": {
    "execution": {
     "iopub.execute_input": "2023-03-12T08:07:39.540610Z",
     "iopub.status.busy": "2023-03-12T08:07:39.539084Z",
     "iopub.status.idle": "2023-03-12T08:07:39.551346Z",
     "shell.execute_reply": "2023-03-12T08:07:39.549937Z"
    },
    "papermill": {
     "duration": 0.028231,
     "end_time": "2023-03-12T08:07:39.554155",
     "exception": false,
     "start_time": "2023-03-12T08:07:39.525924",
     "status": "completed"
    },
    "tags": []
   },
   "outputs": [
    {
     "data": {
      "text/plain": [
       "Gender               0\n",
       "age                  0\n",
       "education          105\n",
       "currentSmoker        0\n",
       "cigsPerDay          29\n",
       "BPMeds              53\n",
       "prevalentStroke      0\n",
       "prevalentHyp         0\n",
       "diabetes             0\n",
       "totChol             50\n",
       "sysBP                0\n",
       "diaBP                0\n",
       "BMI                 19\n",
       "heartRate            1\n",
       "glucose            388\n",
       "Heart_ stroke        0\n",
       "dtype: int64"
      ]
     },
     "execution_count": 11,
     "metadata": {},
     "output_type": "execute_result"
    }
   ],
   "source": [
    "data3 = data.isnull().sum()\n",
    "data3"
   ]
  },
  {
   "cell_type": "code",
   "execution_count": 12,
   "id": "453bac96",
   "metadata": {
    "execution": {
     "iopub.execute_input": "2023-03-12T08:07:39.580226Z",
     "iopub.status.busy": "2023-03-12T08:07:39.579797Z",
     "iopub.status.idle": "2023-03-12T08:07:39.592140Z",
     "shell.execute_reply": "2023-03-12T08:07:39.590351Z"
    },
    "papermill": {
     "duration": 0.028808,
     "end_time": "2023-03-12T08:07:39.594988",
     "exception": false,
     "start_time": "2023-03-12T08:07:39.566180",
     "status": "completed"
    },
    "tags": []
   },
   "outputs": [
    {
     "data": {
      "text/plain": [
       "count    3850.000000\n",
       "mean       81.966753\n",
       "std        23.959998\n",
       "min        40.000000\n",
       "25%        71.000000\n",
       "50%        78.000000\n",
       "75%        87.000000\n",
       "max       394.000000\n",
       "Name: glucose, dtype: float64"
      ]
     },
     "execution_count": 12,
     "metadata": {},
     "output_type": "execute_result"
    }
   ],
   "source": [
    "data['glucose'].describe()\n"
   ]
  },
  {
   "cell_type": "code",
   "execution_count": 13,
   "id": "a5cd6e3c",
   "metadata": {
    "execution": {
     "iopub.execute_input": "2023-03-12T08:07:39.621765Z",
     "iopub.status.busy": "2023-03-12T08:07:39.620352Z",
     "iopub.status.idle": "2023-03-12T08:07:39.852201Z",
     "shell.execute_reply": "2023-03-12T08:07:39.850908Z"
    },
    "papermill": {
     "duration": 0.249162,
     "end_time": "2023-03-12T08:07:39.855861",
     "exception": false,
     "start_time": "2023-03-12T08:07:39.606699",
     "status": "completed"
    },
    "tags": []
   },
   "outputs": [
    {
     "data": {
      "text/plain": [
       "<AxesSubplot:>"
      ]
     },
     "execution_count": 13,
     "metadata": {},
     "output_type": "execute_result"
    },
    {
     "data": {
      "image/png": "[encoded data removed]",
      "text/plain": [
       "<Figure size 640x480 with 1 Axes>"
      ]
     },
     "metadata": {},
     "output_type": "display_data"
    }
   ],
   "source": [
    "sns.boxplot(data['glucose'])\n"
   ]
  },
  {
   "cell_type": "code",
   "execution_count": 14,
   "id": "a0dc9c5c",
   "metadata": {
    "execution": {
     "iopub.execute_input": "2023-03-12T08:07:39.881614Z",
     "iopub.status.busy": "2023-03-12T08:07:39.881221Z",
     "iopub.status.idle": "2023-03-12T08:07:39.888320Z",
     "shell.execute_reply": "2023-03-12T08:07:39.886838Z"
    },
    "papermill": {
     "duration": 0.023497,
     "end_time": "2023-03-12T08:07:39.891291",
     "exception": false,
     "start_time": "2023-03-12T08:07:39.867794",
     "status": "completed"
    },
    "tags": []
   },
   "outputs": [],
   "source": [
    "data['glucose'] = data['glucose'].fillna(data['glucose'].mean())\n"
   ]
  },
  {
   "cell_type": "code",
   "execution_count": 15,
   "id": "32984d8d",
   "metadata": {
    "execution": {
     "iopub.execute_input": "2023-03-12T08:07:39.917174Z",
     "iopub.status.busy": "2023-03-12T08:07:39.916762Z",
     "iopub.status.idle": "2023-03-12T08:07:39.928490Z",
     "shell.execute_reply": "2023-03-12T08:07:39.927238Z"
    },
    "papermill": {
     "duration": 0.027356,
     "end_time": "2023-03-12T08:07:39.930698",
     "exception": false,
     "start_time": "2023-03-12T08:07:39.903342",
     "status": "completed"
    },
    "tags": []
   },
   "outputs": [
    {
     "data": {
      "text/plain": [
       "Gender               0\n",
       "age                  0\n",
       "education          105\n",
       "currentSmoker        0\n",
       "cigsPerDay          29\n",
       "BPMeds              53\n",
       "prevalentStroke      0\n",
       "prevalentHyp         0\n",
       "diabetes             0\n",
       "totChol             50\n",
       "sysBP                0\n",
       "diaBP                0\n",
       "BMI                 19\n",
       "heartRate            1\n",
       "glucose              0\n",
       "Heart_ stroke        0\n",
       "dtype: int64"
      ]
     },
     "execution_count": 15,
     "metadata": {},
     "output_type": "execute_result"
    }
   ],
   "source": [
    "data.isnull().sum()\n"
   ]
  },
  {
   "cell_type": "code",
   "execution_count": 16,
   "id": "f733f359",
   "metadata": {
    "execution": {
     "iopub.execute_input": "2023-03-12T08:07:39.955804Z",
     "iopub.status.busy": "2023-03-12T08:07:39.955185Z",
     "iopub.status.idle": "2023-03-12T08:07:39.963509Z",
     "shell.execute_reply": "2023-03-12T08:07:39.962544Z"
    },
    "papermill": {
     "duration": 0.023503,
     "end_time": "2023-03-12T08:07:39.965766",
     "exception": false,
     "start_time": "2023-03-12T08:07:39.942263",
     "status": "completed"
    },
    "tags": []
   },
   "outputs": [],
   "source": [
    "data = data.dropna()\n"
   ]
  },
  {
   "cell_type": "code",
   "execution_count": 17,
   "id": "9a69c4a0",
   "metadata": {
    "execution": {
     "iopub.execute_input": "2023-03-12T08:07:39.991665Z",
     "iopub.status.busy": "2023-03-12T08:07:39.990998Z",
     "iopub.status.idle": "2023-03-12T08:07:40.001386Z",
     "shell.execute_reply": "2023-03-12T08:07:40.000303Z"
    },
    "papermill": {
     "duration": 0.026055,
     "end_time": "2023-03-12T08:07:40.003716",
     "exception": false,
     "start_time": "2023-03-12T08:07:39.977661",
     "status": "completed"
    },
    "tags": []
   },
   "outputs": [
    {
     "data": {
      "text/plain": [
       "Gender             0\n",
       "age                0\n",
       "education          0\n",
       "currentSmoker      0\n",
       "cigsPerDay         0\n",
       "BPMeds             0\n",
       "prevalentStroke    0\n",
       "prevalentHyp       0\n",
       "diabetes           0\n",
       "totChol            0\n",
       "sysBP              0\n",
       "diaBP              0\n",
       "BMI                0\n",
       "heartRate          0\n",
       "glucose            0\n",
       "Heart_ stroke      0\n",
       "dtype: int64"
      ]
     },
     "execution_count": 17,
     "metadata": {},
     "output_type": "execute_result"
    }
   ],
   "source": [
    "data.isnull().sum()\n"
   ]
  },
  {
   "cell_type": "code",
   "execution_count": 18,
   "id": "213fb638",
   "metadata": {
    "execution": {
     "iopub.execute_input": "2023-03-12T08:07:40.030904Z",
     "iopub.status.busy": "2023-03-12T08:07:40.030184Z",
     "iopub.status.idle": "2023-03-12T08:07:40.037476Z",
     "shell.execute_reply": "2023-03-12T08:07:40.036276Z"
    },
    "papermill": {
     "duration": 0.023977,
     "end_time": "2023-03-12T08:07:40.039786",
     "exception": false,
     "start_time": "2023-03-12T08:07:40.015809",
     "status": "completed"
    },
    "tags": []
   },
   "outputs": [
    {
     "data": {
      "text/plain": [
       "(3987, 16)"
      ]
     },
     "execution_count": 18,
     "metadata": {},
     "output_type": "execute_result"
    }
   ],
   "source": [
    "data.shape\n"
   ]
  },
  {
   "cell_type": "code",
   "execution_count": 19,
   "id": "d1a5aa60",
   "metadata": {
    "execution": {
     "iopub.execute_input": "2023-03-12T08:07:40.066187Z",
     "iopub.status.busy": "2023-03-12T08:07:40.065761Z",
     "iopub.status.idle": "2023-03-12T08:07:40.081335Z",
     "shell.execute_reply": "2023-03-12T08:07:40.079136Z"
    },
    "papermill": {
     "duration": 0.032424,
     "end_time": "2023-03-12T08:07:40.084578",
     "exception": false,
     "start_time": "2023-03-12T08:07:40.052154",
     "status": "completed"
    },
    "tags": []
   },
   "outputs": [
    {
     "name": "stdout",
     "output_type": "stream",
     "text": [
      "<class 'pandas.core.frame.DataFrame'>\n",
      "Int64Index: 3987 entries, 0 to 4237\n",
      "Data columns (total 16 columns):\n",
      " #   Column           Non-Null Count  Dtype  \n",
      "---  ------           --------------  -----  \n",
      " 0   Gender           3987 non-null   object \n",
      " 1   age              3987 non-null   int64  \n",
      " 2   education        3987 non-null   object \n",
      " 3   currentSmoker    3987 non-null   int64  \n",
      " 4   cigsPerDay       3987 non-null   float64\n",
      " 5   BPMeds           3987 non-null   float64\n",
      " 6   prevalentStroke  3987 non-null   object \n",
      " 7   prevalentHyp     3987 non-null   int64  \n",
      " 8   diabetes         3987 non-null   int64  \n",
      " 9   totChol          3987 non-null   float64\n",
      " 10  sysBP            3987 non-null   float64\n",
      " 11  diaBP            3987 non-null   float64\n",
      " 12  BMI              3987 non-null   float64\n",
      " 13  heartRate        3987 non-null   float64\n",
      " 14  glucose          3987 non-null   float64\n",
      " 15  Heart_ stroke    3987 non-null   object \n",
      "dtypes: float64(8), int64(4), object(4)\n",
      "memory usage: 529.5+ KB\n"
     ]
    }
   ],
   "source": [
    "data.info()\n"
   ]
  },
  {
   "cell_type": "code",
   "execution_count": 20,
   "id": "d9dfcc7c",
   "metadata": {
    "execution": {
     "iopub.execute_input": "2023-03-12T08:07:40.112797Z",
     "iopub.status.busy": "2023-03-12T08:07:40.111379Z",
     "iopub.status.idle": "2023-03-12T08:07:40.120961Z",
     "shell.execute_reply": "2023-03-12T08:07:40.119742Z"
    },
    "papermill": {
     "duration": 0.026416,
     "end_time": "2023-03-12T08:07:40.123692",
     "exception": false,
     "start_time": "2023-03-12T08:07:40.097276",
     "status": "completed"
    },
    "tags": []
   },
   "outputs": [],
   "source": [
    "data4 = data.drop(['Gender','education','prevalentStroke'],axis=1)\n"
   ]
  },
  {
   "cell_type": "code",
   "execution_count": 21,
   "id": "8fa9abb1",
   "metadata": {
    "execution": {
     "iopub.execute_input": "2023-03-12T08:07:40.151308Z",
     "iopub.status.busy": "2023-03-12T08:07:40.150242Z",
     "iopub.status.idle": "2023-03-12T08:07:40.165888Z",
     "shell.execute_reply": "2023-03-12T08:07:40.163928Z"
    },
    "papermill": {
     "duration": 0.032946,
     "end_time": "2023-03-12T08:07:40.169223",
     "exception": false,
     "start_time": "2023-03-12T08:07:40.136277",
     "status": "completed"
    },
    "tags": []
   },
   "outputs": [
    {
     "name": "stdout",
     "output_type": "stream",
     "text": [
      "<class 'pandas.core.frame.DataFrame'>\n",
      "Int64Index: 3987 entries, 0 to 4237\n",
      "Data columns (total 13 columns):\n",
      " #   Column         Non-Null Count  Dtype  \n",
      "---  ------         --------------  -----  \n",
      " 0   age            3987 non-null   int64  \n",
      " 1   currentSmoker  3987 non-null   int64  \n",
      " 2   cigsPerDay     3987 non-null   float64\n",
      " 3   BPMeds         3987 non-null   float64\n",
      " 4   prevalentHyp   3987 non-null   int64  \n",
      " 5   diabetes       3987 non-null   int64  \n",
      " 6   totChol        3987 non-null   float64\n",
      " 7   sysBP          3987 non-null   float64\n",
      " 8   diaBP          3987 non-null   float64\n",
      " 9   BMI            3987 non-null   float64\n",
      " 10  heartRate      3987 non-null   float64\n",
      " 11  glucose        3987 non-null   float64\n",
      " 12  Heart_ stroke  3987 non-null   object \n",
      "dtypes: float64(8), int64(4), object(1)\n",
      "memory usage: 436.1+ KB\n"
     ]
    }
   ],
   "source": [
    "data4.info()\n"
   ]
  },
  {
   "cell_type": "code",
   "execution_count": 22,
   "id": "f22e5cbf",
   "metadata": {
    "execution": {
     "iopub.execute_input": "2023-03-12T08:07:40.196689Z",
     "iopub.status.busy": "2023-03-12T08:07:40.196218Z",
     "iopub.status.idle": "2023-03-12T08:07:40.206908Z",
     "shell.execute_reply": "2023-03-12T08:07:40.205643Z"
    },
    "papermill": {
     "duration": 0.027246,
     "end_time": "2023-03-12T08:07:40.209299",
     "exception": false,
     "start_time": "2023-03-12T08:07:40.182053",
     "status": "completed"
    },
    "tags": []
   },
   "outputs": [
    {
     "data": {
      "text/plain": [
       "0        postgraduate\n",
       "1       primaryschool\n",
       "2          uneducated\n",
       "3            graduate\n",
       "4            graduate\n",
       "            ...      \n",
       "4232       uneducated\n",
       "4233       uneducated\n",
       "4234         graduate\n",
       "4236       uneducated\n",
       "4237    primaryschool\n",
       "Name: education, Length: 3987, dtype: object"
      ]
     },
     "execution_count": 22,
     "metadata": {},
     "output_type": "execute_result"
    }
   ],
   "source": [
    "data['education']\n"
   ]
  },
  {
   "cell_type": "code",
   "execution_count": 23,
   "id": "ed52de4b",
   "metadata": {
    "execution": {
     "iopub.execute_input": "2023-03-12T08:07:40.236356Z",
     "iopub.status.busy": "2023-03-12T08:07:40.235885Z",
     "iopub.status.idle": "2023-03-12T08:07:40.246515Z",
     "shell.execute_reply": "2023-03-12T08:07:40.244967Z"
    },
    "papermill": {
     "duration": 0.027774,
     "end_time": "2023-03-12T08:07:40.249343",
     "exception": false,
     "start_time": "2023-03-12T08:07:40.221569",
     "status": "completed"
    },
    "tags": []
   },
   "outputs": [
    {
     "data": {
      "text/plain": [
       "uneducated       1654\n",
       "primaryschool    1210\n",
       "graduate          664\n",
       "postgraduate      459\n",
       "Name: education, dtype: int64"
      ]
     },
     "execution_count": 23,
     "metadata": {},
     "output_type": "execute_result"
    }
   ],
   "source": [
    "data['education'].value_counts()\n"
   ]
  },
  {
   "cell_type": "code",
   "execution_count": 24,
   "id": "80181c7f",
   "metadata": {
    "execution": {
     "iopub.execute_input": "2023-03-12T08:07:40.277886Z",
     "iopub.status.busy": "2023-03-12T08:07:40.277419Z",
     "iopub.status.idle": "2023-03-12T08:07:40.420065Z",
     "shell.execute_reply": "2023-03-12T08:07:40.418577Z"
    },
    "papermill": {
     "duration": 0.160768,
     "end_time": "2023-03-12T08:07:40.423225",
     "exception": false,
     "start_time": "2023-03-12T08:07:40.262457",
     "status": "completed"
    },
    "tags": []
   },
   "outputs": [],
   "source": [
    "from sklearn import preprocessing\n",
    "label_encoder = preprocessing.LabelEncoder()"
   ]
  },
  {
   "cell_type": "code",
   "execution_count": 25,
   "id": "41d8291b",
   "metadata": {
    "execution": {
     "iopub.execute_input": "2023-03-12T08:07:40.449815Z",
     "iopub.status.busy": "2023-03-12T08:07:40.449413Z",
     "iopub.status.idle": "2023-03-12T08:07:40.456897Z",
     "shell.execute_reply": "2023-03-12T08:07:40.455575Z"
    },
    "papermill": {
     "duration": 0.0239,
     "end_time": "2023-03-12T08:07:40.459541",
     "exception": false,
     "start_time": "2023-03-12T08:07:40.435641",
     "status": "completed"
    },
    "tags": []
   },
   "outputs": [],
   "source": [
    "data['education']= label_encoder.fit_transform(data['education'])"
   ]
  },
  {
   "cell_type": "code",
   "execution_count": 26,
   "id": "656d9815",
   "metadata": {
    "execution": {
     "iopub.execute_input": "2023-03-12T08:07:40.488622Z",
     "iopub.status.busy": "2023-03-12T08:07:40.487271Z",
     "iopub.status.idle": "2023-03-12T08:07:40.497015Z",
     "shell.execute_reply": "2023-03-12T08:07:40.496008Z"
    },
    "papermill": {
     "duration": 0.027172,
     "end_time": "2023-03-12T08:07:40.499391",
     "exception": false,
     "start_time": "2023-03-12T08:07:40.472219",
     "status": "completed"
    },
    "tags": []
   },
   "outputs": [
    {
     "data": {
      "text/plain": [
       "0       1\n",
       "1       2\n",
       "2       3\n",
       "3       0\n",
       "4       0\n",
       "       ..\n",
       "4232    3\n",
       "4233    3\n",
       "4234    0\n",
       "4236    3\n",
       "4237    2\n",
       "Name: education, Length: 3987, dtype: int64"
      ]
     },
     "execution_count": 26,
     "metadata": {},
     "output_type": "execute_result"
    }
   ],
   "source": [
    "data['education']\n"
   ]
  },
  {
   "cell_type": "code",
   "execution_count": 27,
   "id": "ee3af27c",
   "metadata": {
    "execution": {
     "iopub.execute_input": "2023-03-12T08:07:40.527747Z",
     "iopub.status.busy": "2023-03-12T08:07:40.527240Z",
     "iopub.status.idle": "2023-03-12T08:07:40.536752Z",
     "shell.execute_reply": "2023-03-12T08:07:40.535678Z"
    },
    "papermill": {
     "duration": 0.027059,
     "end_time": "2023-03-12T08:07:40.539192",
     "exception": false,
     "start_time": "2023-03-12T08:07:40.512133",
     "status": "completed"
    },
    "tags": []
   },
   "outputs": [
    {
     "data": {
      "text/plain": [
       "3    1654\n",
       "2    1210\n",
       "0     664\n",
       "1     459\n",
       "Name: education, dtype: int64"
      ]
     },
     "execution_count": 27,
     "metadata": {},
     "output_type": "execute_result"
    }
   ],
   "source": [
    "data['education'].value_counts()\n"
   ]
  },
  {
   "cell_type": "code",
   "execution_count": 28,
   "id": "e8fb6757",
   "metadata": {
    "execution": {
     "iopub.execute_input": "2023-03-12T08:07:40.566952Z",
     "iopub.status.busy": "2023-03-12T08:07:40.566179Z",
     "iopub.status.idle": "2023-03-12T08:07:40.573754Z",
     "shell.execute_reply": "2023-03-12T08:07:40.572711Z"
    },
    "papermill": {
     "duration": 0.024504,
     "end_time": "2023-03-12T08:07:40.576252",
     "exception": false,
     "start_time": "2023-03-12T08:07:40.551748",
     "status": "completed"
    },
    "tags": []
   },
   "outputs": [],
   "source": [
    "data['Heart_ stroke'] = label_encoder.fit_transform(data['Heart_ stroke'])\n"
   ]
  },
  {
   "cell_type": "code",
   "execution_count": 29,
   "id": "b662c3d3",
   "metadata": {
    "execution": {
     "iopub.execute_input": "2023-03-12T08:07:40.604165Z",
     "iopub.status.busy": "2023-03-12T08:07:40.603661Z",
     "iopub.status.idle": "2023-03-12T08:07:40.621763Z",
     "shell.execute_reply": "2023-03-12T08:07:40.619625Z"
    },
    "papermill": {
     "duration": 0.034952,
     "end_time": "2023-03-12T08:07:40.624362",
     "exception": false,
     "start_time": "2023-03-12T08:07:40.589410",
     "status": "completed"
    },
    "tags": []
   },
   "outputs": [
    {
     "name": "stdout",
     "output_type": "stream",
     "text": [
      "<class 'pandas.core.frame.DataFrame'>\n",
      "Int64Index: 3987 entries, 0 to 4237\n",
      "Data columns (total 16 columns):\n",
      " #   Column           Non-Null Count  Dtype  \n",
      "---  ------           --------------  -----  \n",
      " 0   Gender           3987 non-null   object \n",
      " 1   age              3987 non-null   int64  \n",
      " 2   education        3987 non-null   int64  \n",
      " 3   currentSmoker    3987 non-null   int64  \n",
      " 4   cigsPerDay       3987 non-null   float64\n",
      " 5   BPMeds           3987 non-null   float64\n",
      " 6   prevalentStroke  3987 non-null   object \n",
      " 7   prevalentHyp     3987 non-null   int64  \n",
      " 8   diabetes         3987 non-null   int64  \n",
      " 9   totChol          3987 non-null   float64\n",
      " 10  sysBP            3987 non-null   float64\n",
      " 11  diaBP            3987 non-null   float64\n",
      " 12  BMI              3987 non-null   float64\n",
      " 13  heartRate        3987 non-null   float64\n",
      " 14  glucose          3987 non-null   float64\n",
      " 15  Heart_ stroke    3987 non-null   int64  \n",
      "dtypes: float64(8), int64(6), object(2)\n",
      "memory usage: 529.5+ KB\n"
     ]
    }
   ],
   "source": [
    "data.info()\n"
   ]
  },
  {
   "cell_type": "code",
   "execution_count": 30,
   "id": "034f32e8",
   "metadata": {
    "execution": {
     "iopub.execute_input": "2023-03-12T08:07:40.652224Z",
     "iopub.status.busy": "2023-03-12T08:07:40.651701Z",
     "iopub.status.idle": "2023-03-12T08:07:40.660291Z",
     "shell.execute_reply": "2023-03-12T08:07:40.658971Z"
    },
    "papermill": {
     "duration": 0.025779,
     "end_time": "2023-03-12T08:07:40.663058",
     "exception": false,
     "start_time": "2023-03-12T08:07:40.637279",
     "status": "completed"
    },
    "tags": []
   },
   "outputs": [],
   "source": [
    "data5 = data.drop(['Gender','education','prevalentStroke'],axis=1)"
   ]
  },
  {
   "cell_type": "code",
   "execution_count": 31,
   "id": "e6f2855b",
   "metadata": {
    "execution": {
     "iopub.execute_input": "2023-03-12T08:07:40.692753Z",
     "iopub.status.busy": "2023-03-12T08:07:40.691417Z",
     "iopub.status.idle": "2023-03-12T08:07:40.840598Z",
     "shell.execute_reply": "2023-03-12T08:07:40.839297Z"
    },
    "papermill": {
     "duration": 0.167058,
     "end_time": "2023-03-12T08:07:40.843676",
     "exception": false,
     "start_time": "2023-03-12T08:07:40.676618",
     "status": "completed"
    },
    "tags": []
   },
   "outputs": [],
   "source": [
    "from sklearn.linear_model import LinearRegression, LogisticRegression\n"
   ]
  },
  {
   "cell_type": "code",
   "execution_count": 32,
   "id": "1c274f47",
   "metadata": {
    "execution": {
     "iopub.execute_input": "2023-03-12T08:07:40.873490Z",
     "iopub.status.busy": "2023-03-12T08:07:40.871840Z",
     "iopub.status.idle": "2023-03-12T08:07:40.881034Z",
     "shell.execute_reply": "2023-03-12T08:07:40.879936Z"
    },
    "papermill": {
     "duration": 0.026894,
     "end_time": "2023-03-12T08:07:40.883982",
     "exception": false,
     "start_time": "2023-03-12T08:07:40.857088",
     "status": "completed"
    },
    "tags": []
   },
   "outputs": [],
   "source": [
    "X = data5.drop(['Heart_ stroke'],axis=1)  #input\n",
    "y = data5['Heart_ stroke']  #output"
   ]
  },
  {
   "cell_type": "code",
   "execution_count": 33,
   "id": "f068f822",
   "metadata": {
    "execution": {
     "iopub.execute_input": "2023-03-12T08:07:40.914493Z",
     "iopub.status.busy": "2023-03-12T08:07:40.913499Z",
     "iopub.status.idle": "2023-03-12T08:07:40.924419Z",
     "shell.execute_reply": "2023-03-12T08:07:40.923216Z"
    },
    "papermill": {
     "duration": 0.029574,
     "end_time": "2023-03-12T08:07:40.927347",
     "exception": false,
     "start_time": "2023-03-12T08:07:40.897773",
     "status": "completed"
    },
    "tags": []
   },
   "outputs": [],
   "source": [
    "from sklearn.model_selection import train_test_split\n",
    "X_train, X_test, y_train, y_test = train_test_split(\n",
    "    X, y, test_size=0.2, random_state=42)"
   ]
  },
  {
   "cell_type": "code",
   "execution_count": 34,
   "id": "6447507e",
   "metadata": {
    "execution": {
     "iopub.execute_input": "2023-03-12T08:07:40.956183Z",
     "iopub.status.busy": "2023-03-12T08:07:40.955401Z",
     "iopub.status.idle": "2023-03-12T08:07:41.099300Z",
     "shell.execute_reply": "2023-03-12T08:07:41.097555Z"
    },
    "papermill": {
     "duration": 0.163518,
     "end_time": "2023-03-12T08:07:41.103944",
     "exception": false,
     "start_time": "2023-03-12T08:07:40.940426",
     "status": "completed"
    },
    "tags": []
   },
   "outputs": [
    {
     "name": "stderr",
     "output_type": "stream",
     "text": [
      "/opt/conda/lib/python3.7/site-packages/sklearn/linear_model/_logistic.py:818: ConvergenceWarning: lbfgs failed to converge (status=1):\n",
      "STOP: TOTAL NO. of ITERATIONS REACHED LIMIT.\n",
      "\n",
      "Increase the number of iterations (max_iter) or scale the data as shown in:\n",
      "    https://scikit-learn.org/stable/modules/preprocessing.html\n",
      "Please also refer to the documentation for alternative solver options:\n",
      "    https://scikit-learn.org/stable/modules/linear_model.html#logistic-regression\n",
      "  extra_warning_msg=_LOGISTIC_SOLVER_CONVERGENCE_MSG,\n"
     ]
    },
    {
     "data": {
      "text/plain": [
       "LogisticRegression()"
      ]
     },
     "execution_count": 34,
     "metadata": {},
     "output_type": "execute_result"
    }
   ],
   "source": [
    "clf = LogisticRegression()\n",
    "clf.fit(X_train, y_train)"
   ]
  },
  {
   "cell_type": "code",
   "execution_count": 35,
   "id": "a9e29f4c",
   "metadata": {
    "execution": {
     "iopub.execute_input": "2023-03-12T08:07:41.174131Z",
     "iopub.status.busy": "2023-03-12T08:07:41.173038Z",
     "iopub.status.idle": "2023-03-12T08:07:41.191505Z",
     "shell.execute_reply": "2023-03-12T08:07:41.189791Z"
    },
    "papermill": {
     "duration": 0.058462,
     "end_time": "2023-03-12T08:07:41.196276",
     "exception": false,
     "start_time": "2023-03-12T08:07:41.137814",
     "status": "completed"
    },
    "tags": []
   },
   "outputs": [],
   "source": [
    "accuracy = clf.score(X_test,y_test)\n"
   ]
  },
  {
   "cell_type": "code",
   "execution_count": 36,
   "id": "9a242a2d",
   "metadata": {
    "execution": {
     "iopub.execute_input": "2023-03-12T08:07:41.265688Z",
     "iopub.status.busy": "2023-03-12T08:07:41.264618Z",
     "iopub.status.idle": "2023-03-12T08:07:41.280787Z",
     "shell.execute_reply": "2023-03-12T08:07:41.279426Z"
    },
    "papermill": {
     "duration": 0.056044,
     "end_time": "2023-03-12T08:07:41.285444",
     "exception": false,
     "start_time": "2023-03-12T08:07:41.229400",
     "status": "completed"
    },
    "tags": []
   },
   "outputs": [],
   "source": [
    "y_pred = clf.predict(X_test)\n"
   ]
  },
  {
   "cell_type": "code",
   "execution_count": 37,
   "id": "eaf59aff",
   "metadata": {
    "execution": {
     "iopub.execute_input": "2023-03-12T08:07:41.357087Z",
     "iopub.status.busy": "2023-03-12T08:07:41.355272Z",
     "iopub.status.idle": "2023-03-12T08:07:41.373371Z",
     "shell.execute_reply": "2023-03-12T08:07:41.371480Z"
    },
    "papermill": {
     "duration": 0.059029,
     "end_time": "2023-03-12T08:07:41.379100",
     "exception": false,
     "start_time": "2023-03-12T08:07:41.320071",
     "status": "completed"
    },
    "tags": []
   },
   "outputs": [
    {
     "name": "stdout",
     "output_type": "stream",
     "text": [
      "0.8333333333333334\n"
     ]
    }
   ],
   "source": [
    "print(accuracy)\n"
   ]
  },
  {
   "cell_type": "code",
   "execution_count": 38,
   "id": "93e87d90",
   "metadata": {
    "execution": {
     "iopub.execute_input": "2023-03-12T08:07:41.420116Z",
     "iopub.status.busy": "2023-03-12T08:07:41.419637Z",
     "iopub.status.idle": "2023-03-12T08:07:41.537690Z",
     "shell.execute_reply": "2023-03-12T08:07:41.535831Z"
    },
    "papermill": {
     "duration": 0.136437,
     "end_time": "2023-03-12T08:07:41.540864",
     "exception": false,
     "start_time": "2023-03-12T08:07:41.404427",
     "status": "completed"
    },
    "tags": []
   },
   "outputs": [],
   "source": [
    "from sklearn.neighbors import KNeighborsClassifier\n",
    "clf_knn= KNeighborsClassifier()"
   ]
  },
  {
   "cell_type": "code",
   "execution_count": 39,
   "id": "1ad8f85f",
   "metadata": {
    "execution": {
     "iopub.execute_input": "2023-03-12T08:07:41.570404Z",
     "iopub.status.busy": "2023-03-12T08:07:41.569590Z",
     "iopub.status.idle": "2023-03-12T08:07:41.582715Z",
     "shell.execute_reply": "2023-03-12T08:07:41.581845Z"
    },
    "papermill": {
     "duration": 0.031202,
     "end_time": "2023-03-12T08:07:41.585710",
     "exception": false,
     "start_time": "2023-03-12T08:07:41.554508",
     "status": "completed"
    },
    "tags": []
   },
   "outputs": [
    {
     "data": {
      "text/plain": [
       "KNeighborsClassifier()"
      ]
     },
     "execution_count": 39,
     "metadata": {},
     "output_type": "execute_result"
    }
   ],
   "source": [
    "clf_knn.fit(X_train, y_train)\n"
   ]
  },
  {
   "cell_type": "code",
   "execution_count": 40,
   "id": "ce1d5669",
   "metadata": {
    "execution": {
     "iopub.execute_input": "2023-03-12T08:07:41.614883Z",
     "iopub.status.busy": "2023-03-12T08:07:41.614471Z",
     "iopub.status.idle": "2023-03-12T08:07:41.656710Z",
     "shell.execute_reply": "2023-03-12T08:07:41.655492Z"
    },
    "papermill": {
     "duration": 0.060656,
     "end_time": "2023-03-12T08:07:41.660026",
     "exception": false,
     "start_time": "2023-03-12T08:07:41.599370",
     "status": "completed"
    },
    "tags": []
   },
   "outputs": [],
   "source": [
    "y_knn_pred = clf_knn.predict(X_test)\n"
   ]
  },
  {
   "cell_type": "code",
   "execution_count": 41,
   "id": "27c3e4e0",
   "metadata": {
    "execution": {
     "iopub.execute_input": "2023-03-12T08:07:41.690620Z",
     "iopub.status.busy": "2023-03-12T08:07:41.690179Z",
     "iopub.status.idle": "2023-03-12T08:07:41.700028Z",
     "shell.execute_reply": "2023-03-12T08:07:41.698465Z"
    },
    "papermill": {
     "duration": 0.028928,
     "end_time": "2023-03-12T08:07:41.702572",
     "exception": false,
     "start_time": "2023-03-12T08:07:41.673644",
     "status": "completed"
    },
    "tags": []
   },
   "outputs": [
    {
     "data": {
      "text/plain": [
       "array([0, 0, 0, 0, 0, 0, 0, 0, 0, 0, 0, 0, 0, 0, 0, 0, 0, 0, 0, 0, 0, 0,\n",
       "       0, 0, 0, 1, 0, 0, 0, 0, 0, 0, 0, 0, 0, 0, 0, 0, 0, 0, 0, 0, 0, 0,\n",
       "       0, 0, 0, 1, 0, 0, 0, 0, 0, 0, 0, 0, 0, 0, 0, 0, 0, 0, 0, 0, 0, 0,\n",
       "       0, 0, 0, 0, 0, 0, 0, 0, 0, 0, 0, 0, 0, 0, 0, 0, 0, 0, 0, 0, 0, 1,\n",
       "       0, 0, 0, 0, 0, 0, 0, 0, 0, 0, 0, 0, 0, 0, 0, 0, 1, 0, 0, 0, 0, 0,\n",
       "       0, 0, 0, 0, 0, 0, 0, 0, 0, 0, 0, 0, 0, 0, 0, 0, 0, 0, 0, 0, 0, 0,\n",
       "       0, 0, 0, 0, 0, 0, 0, 0, 0, 0, 0, 0, 0, 0, 0, 0, 0, 0, 0, 0, 0, 0,\n",
       "       0, 0, 0, 0, 0, 0, 0, 0, 0, 0, 0, 0, 0, 0, 0, 0, 0, 0, 0, 0, 0, 0,\n",
       "       0, 0, 0, 0, 0, 0, 0, 0, 0, 0, 0, 0, 0, 0, 0, 0, 0, 1, 0, 0, 0, 0,\n",
       "       0, 0, 0, 0, 0, 0, 0, 0, 0, 0, 0, 0, 0, 0, 0, 0, 0, 0, 0, 0, 0, 0,\n",
       "       0, 0, 0, 0, 0, 0, 0, 0, 0, 1, 0, 0, 0, 0, 0, 0, 0, 0, 0, 0, 0, 0,\n",
       "       0, 0, 0, 0, 0, 0, 0, 0, 0, 0, 0, 0, 0, 0, 0, 0, 0, 0, 0, 0, 0, 0,\n",
       "       0, 0, 0, 0, 0, 0, 0, 0, 0, 0, 0, 0, 0, 0, 0, 0, 0, 0, 0, 0, 0, 0,\n",
       "       0, 0, 0, 0, 0, 1, 0, 0, 0, 0, 0, 0, 0, 0, 0, 0, 0, 0, 0, 0, 0, 0,\n",
       "       0, 0, 0, 0, 0, 0, 0, 0, 0, 0, 0, 0, 0, 0, 0, 0, 0, 0, 0, 0, 0, 0,\n",
       "       0, 0, 0, 0, 0, 0, 0, 0, 0, 0, 0, 0, 0, 0, 0, 0, 0, 0, 0, 0, 0, 0,\n",
       "       0, 0, 0, 0, 0, 0, 0, 0, 0, 0, 0, 0, 0, 0, 0, 0, 0, 0, 0, 0, 0, 0,\n",
       "       0, 0, 0, 0, 0, 0, 0, 0, 0, 0, 0, 0, 0, 1, 0, 0, 0, 0, 0, 0, 0, 0,\n",
       "       0, 0, 0, 0, 0, 0, 0, 0, 0, 1, 0, 0, 0, 0, 0, 0, 0, 0, 0, 0, 0, 0,\n",
       "       0, 0, 0, 0, 0, 0, 0, 0, 0, 0, 0, 0, 0, 0, 0, 0, 0, 0, 0, 0, 0, 0,\n",
       "       1, 0, 0, 0, 0, 0, 0, 0, 0, 0, 0, 0, 1, 0, 0, 0, 0, 0, 0, 0, 0, 0,\n",
       "       0, 0, 0, 0, 0, 0, 0, 0, 0, 0, 0, 0, 0, 0, 0, 1, 0, 0, 0, 0, 0, 0,\n",
       "       0, 0, 0, 0, 0, 0, 0, 0, 0, 0, 0, 0, 0, 0, 0, 0, 0, 0, 0, 0, 0, 0,\n",
       "       0, 0, 0, 0, 0, 0, 0, 0, 1, 0, 0, 0, 0, 0, 0, 0, 0, 0, 0, 0, 0, 0,\n",
       "       0, 0, 0, 0, 0, 0, 0, 0, 0, 0, 0, 0, 0, 0, 0, 0, 0, 0, 0, 0, 0, 0,\n",
       "       0, 0, 0, 0, 0, 0, 0, 0, 0, 0, 0, 0, 0, 0, 0, 0, 0, 0, 0, 1, 0, 0,\n",
       "       0, 0, 0, 0, 0, 0, 0, 0, 0, 0, 0, 0, 0, 1, 0, 0, 0, 0, 0, 0, 0, 0,\n",
       "       0, 0, 0, 0, 0, 0, 0, 0, 0, 0, 0, 0, 0, 0, 0, 0, 0, 0, 0, 0, 0, 0,\n",
       "       0, 0, 0, 0, 0, 0, 1, 0, 0, 0, 0, 0, 0, 0, 0, 0, 0, 0, 0, 0, 0, 0,\n",
       "       0, 0, 0, 0, 0, 0, 0, 0, 0, 0, 0, 0, 0, 0, 1, 0, 1, 0, 0, 0, 1, 0,\n",
       "       0, 0, 0, 0, 0, 0, 0, 0, 0, 0, 0, 0, 0, 0, 0, 1, 0, 0, 0, 0, 0, 0,\n",
       "       0, 0, 0, 0, 0, 0, 0, 0, 0, 0, 0, 0, 0, 0, 0, 0, 0, 0, 0, 0, 0, 0,\n",
       "       0, 0, 0, 0, 1, 0, 0, 0, 0, 0, 0, 0, 1, 1, 0, 0, 0, 0, 0, 0, 0, 0,\n",
       "       0, 1, 0, 0, 0, 0, 0, 0, 0, 0, 0, 0, 0, 0, 0, 0, 0, 0, 0, 0, 0, 1,\n",
       "       0, 0, 0, 0, 0, 0, 1, 0, 0, 0, 0, 0, 0, 0, 0, 0, 0, 0, 0, 0, 0, 0,\n",
       "       0, 0, 0, 0, 0, 0, 0, 0, 0, 0, 0, 0, 0, 0, 0, 0, 0, 0, 0, 1, 0, 0,\n",
       "       0, 0, 0, 0, 0, 0])"
      ]
     },
     "execution_count": 41,
     "metadata": {},
     "output_type": "execute_result"
    }
   ],
   "source": [
    "y_knn_pred\n"
   ]
  },
  {
   "cell_type": "code",
   "execution_count": 42,
   "id": "b5e0f931",
   "metadata": {
    "execution": {
     "iopub.execute_input": "2023-03-12T08:07:41.733334Z",
     "iopub.status.busy": "2023-03-12T08:07:41.732333Z",
     "iopub.status.idle": "2023-03-12T08:07:41.739957Z",
     "shell.execute_reply": "2023-03-12T08:07:41.738828Z"
    },
    "papermill": {
     "duration": 0.027625,
     "end_time": "2023-03-12T08:07:41.744081",
     "exception": false,
     "start_time": "2023-03-12T08:07:41.716456",
     "status": "completed"
    },
    "tags": []
   },
   "outputs": [],
   "source": [
    "accuracy = clf.score(X_test,y_test)\n"
   ]
  },
  {
   "cell_type": "code",
   "execution_count": 43,
   "id": "04c147fd",
   "metadata": {
    "execution": {
     "iopub.execute_input": "2023-03-12T08:07:41.792969Z",
     "iopub.status.busy": "2023-03-12T08:07:41.792285Z",
     "iopub.status.idle": "2023-03-12T08:07:41.802387Z",
     "shell.execute_reply": "2023-03-12T08:07:41.800427Z"
    },
    "papermill": {
     "duration": 0.053324,
     "end_time": "2023-03-12T08:07:41.810765",
     "exception": false,
     "start_time": "2023-03-12T08:07:41.757441",
     "status": "completed"
    },
    "tags": []
   },
   "outputs": [
    {
     "data": {
      "text/plain": [
       "0.8333333333333334"
      ]
     },
     "execution_count": 43,
     "metadata": {},
     "output_type": "execute_result"
    }
   ],
   "source": [
    "accuracy\n"
   ]
  },
  {
   "cell_type": "code",
   "execution_count": null,
   "id": "569cfb6b",
   "metadata": {
    "papermill": {
     "duration": 0.020986,
     "end_time": "2023-03-12T08:07:41.866907",
     "exception": false,
     "start_time": "2023-03-12T08:07:41.845921",
     "status": "completed"
    },
    "tags": []
   },
   "outputs": [],
   "source": []
  }
 ],
 "metadata": {
  "kernelspec": {
   "display_name": "Python 3",
   "language": "python",
   "name": "python3"
  },
  "language_info": {
   "codemirror_mode": {
    "name": "ipython",
    "version": 3
   },
   "file_extension": ".py",
   "mimetype": "text/x-python",
   "name": "python",
   "nbconvert_exporter": "python",
   "pygments_lexer": "ipython3",
   "version": "3.7.12"
  },
  "papermill": {
   "default_parameters": {},
   "duration": 14.88106,
   "end_time": "2023-03-12T08:07:42.804037",
   "environment_variables": {},
   "exception": null,
   "input_path": "__notebook__.ipynb",
   "output_path": "__notebook__.ipynb",
   "parameters": {},
   "start_time": "2023-03-12T08:07:27.922977",
   "version": "2.4.0"
  }
 },
 "nbformat": 4,
 "nbformat_minor": 5
}
