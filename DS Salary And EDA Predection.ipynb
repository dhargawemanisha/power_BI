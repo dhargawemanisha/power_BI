{
 "cells": [
  {
   "cell_type": "markdown",
   "id": "09d72f87",
   "metadata": {},
   "source": [
    "## Step - 1 (Header files importing)"
   ]
  },
  {
   "cell_type": "code",
   "execution_count": 1,
   "id": "693c46ce",
   "metadata": {},
   "outputs": [],
   "source": [
    "import pandas as pd\n",
    "import numpy as np"
   ]
  },
  {
   "cell_type": "code",
   "execution_count": 2,
   "id": "3388f441",
   "metadata": {},
   "outputs": [],
   "source": [
    "# EDA\n",
    "import seaborn as sns\n",
    "import matplotlib.pyplot as plt\n",
    "from sklearn import linear_model"
   ]
  },
  {
   "cell_type": "markdown",
   "id": "07bd80a8",
   "metadata": {},
   "source": [
    "## Step - 2 (Rading the Data)"
   ]
  },
  {
   "cell_type": "code",
   "execution_count": 3,
   "id": "0aec4760",
   "metadata": {},
   "outputs": [],
   "source": [
    "df = pd.read_csv(\"ds_salaries.csv\")"
   ]
  },
  {
   "cell_type": "code",
   "execution_count": 4,
   "id": "4c85a1cc",
   "metadata": {},
   "outputs": [
    {
     "data": {
      "text/html": [
       "<div>\n",
       "<style scoped>\n",
       "    .dataframe tbody tr th:only-of-type {\n",
       "        vertical-align: middle;\n",
       "    }\n",
       "\n",
       "    .dataframe tbody tr th {\n",
       "        vertical-align: top;\n",
       "    }\n",
       "\n",
       "    .dataframe thead th {\n",
       "        text-align: right;\n",
       "    }\n",
       "</style>\n",
       "<table border=\"1\" class=\"dataframe\">\n",
       "  <thead>\n",
       "    <tr style=\"text-align: right;\">\n",
       "      <th></th>\n",
       "      <th>S.No</th>\n",
       "      <th>work_year</th>\n",
       "      <th>experience_level</th>\n",
       "      <th>employment_type</th>\n",
       "      <th>job_title</th>\n",
       "      <th>salary</th>\n",
       "      <th>salary_currency</th>\n",
       "      <th>salary_in_usd</th>\n",
       "      <th>employee_residence</th>\n",
       "      <th>remote_ratio</th>\n",
       "      <th>company_location</th>\n",
       "      <th>company_size</th>\n",
       "    </tr>\n",
       "  </thead>\n",
       "  <tbody>\n",
       "    <tr>\n",
       "      <th>0</th>\n",
       "      <td>0</td>\n",
       "      <td>2020</td>\n",
       "      <td>MI</td>\n",
       "      <td>FT</td>\n",
       "      <td>Data Scientist</td>\n",
       "      <td>70000</td>\n",
       "      <td>EUR</td>\n",
       "      <td>79833</td>\n",
       "      <td>DE</td>\n",
       "      <td>0</td>\n",
       "      <td>DE</td>\n",
       "      <td>L</td>\n",
       "    </tr>\n",
       "    <tr>\n",
       "      <th>1</th>\n",
       "      <td>1</td>\n",
       "      <td>2020</td>\n",
       "      <td>SE</td>\n",
       "      <td>FT</td>\n",
       "      <td>Machine Learning Scientist</td>\n",
       "      <td>260000</td>\n",
       "      <td>USD</td>\n",
       "      <td>260000</td>\n",
       "      <td>JP</td>\n",
       "      <td>0</td>\n",
       "      <td>JP</td>\n",
       "      <td>S</td>\n",
       "    </tr>\n",
       "    <tr>\n",
       "      <th>2</th>\n",
       "      <td>2</td>\n",
       "      <td>2020</td>\n",
       "      <td>SE</td>\n",
       "      <td>FT</td>\n",
       "      <td>Big Data Engineer</td>\n",
       "      <td>85000</td>\n",
       "      <td>GBP</td>\n",
       "      <td>109024</td>\n",
       "      <td>GB</td>\n",
       "      <td>50</td>\n",
       "      <td>GB</td>\n",
       "      <td>M</td>\n",
       "    </tr>\n",
       "    <tr>\n",
       "      <th>3</th>\n",
       "      <td>3</td>\n",
       "      <td>2020</td>\n",
       "      <td>MI</td>\n",
       "      <td>FT</td>\n",
       "      <td>Product Data Analyst</td>\n",
       "      <td>20000</td>\n",
       "      <td>USD</td>\n",
       "      <td>20000</td>\n",
       "      <td>HN</td>\n",
       "      <td>0</td>\n",
       "      <td>HN</td>\n",
       "      <td>S</td>\n",
       "    </tr>\n",
       "    <tr>\n",
       "      <th>4</th>\n",
       "      <td>4</td>\n",
       "      <td>2020</td>\n",
       "      <td>SE</td>\n",
       "      <td>FT</td>\n",
       "      <td>Machine Learning Engineer</td>\n",
       "      <td>150000</td>\n",
       "      <td>USD</td>\n",
       "      <td>150000</td>\n",
       "      <td>US</td>\n",
       "      <td>50</td>\n",
       "      <td>US</td>\n",
       "      <td>L</td>\n",
       "    </tr>\n",
       "  </tbody>\n",
       "</table>\n",
       "</div>"
      ],
      "text/plain": [
       "   S.No  work_year experience_level employment_type  \\\n",
       "0     0       2020               MI              FT   \n",
       "1     1       2020               SE              FT   \n",
       "2     2       2020               SE              FT   \n",
       "3     3       2020               MI              FT   \n",
       "4     4       2020               SE              FT   \n",
       "\n",
       "                    job_title  salary salary_currency  salary_in_usd  \\\n",
       "0              Data Scientist   70000             EUR          79833   \n",
       "1  Machine Learning Scientist  260000             USD         260000   \n",
       "2           Big Data Engineer   85000             GBP         109024   \n",
       "3        Product Data Analyst   20000             USD          20000   \n",
       "4   Machine Learning Engineer  150000             USD         150000   \n",
       "\n",
       "  employee_residence  remote_ratio company_location company_size  \n",
       "0                 DE             0               DE            L  \n",
       "1                 JP             0               JP            S  \n",
       "2                 GB            50               GB            M  \n",
       "3                 HN             0               HN            S  \n",
       "4                 US            50               US            L  "
      ]
     },
     "execution_count": 4,
     "metadata": {},
     "output_type": "execute_result"
    }
   ],
   "source": [
    "df.head()"
   ]
  },
  {
   "cell_type": "code",
   "execution_count": 5,
   "id": "e7b3d93b",
   "metadata": {},
   "outputs": [
    {
     "data": {
      "text/html": [
       "<div>\n",
       "<style scoped>\n",
       "    .dataframe tbody tr th:only-of-type {\n",
       "        vertical-align: middle;\n",
       "    }\n",
       "\n",
       "    .dataframe tbody tr th {\n",
       "        vertical-align: top;\n",
       "    }\n",
       "\n",
       "    .dataframe thead th {\n",
       "        text-align: right;\n",
       "    }\n",
       "</style>\n",
       "<table border=\"1\" class=\"dataframe\">\n",
       "  <thead>\n",
       "    <tr style=\"text-align: right;\">\n",
       "      <th></th>\n",
       "      <th>S.No</th>\n",
       "      <th>work_year</th>\n",
       "      <th>experience_level</th>\n",
       "      <th>employment_type</th>\n",
       "      <th>job_title</th>\n",
       "      <th>salary</th>\n",
       "      <th>salary_currency</th>\n",
       "      <th>salary_in_usd</th>\n",
       "      <th>employee_residence</th>\n",
       "      <th>remote_ratio</th>\n",
       "      <th>company_location</th>\n",
       "      <th>company_size</th>\n",
       "    </tr>\n",
       "  </thead>\n",
       "  <tbody>\n",
       "    <tr>\n",
       "      <th>602</th>\n",
       "      <td>602</td>\n",
       "      <td>2022</td>\n",
       "      <td>SE</td>\n",
       "      <td>FT</td>\n",
       "      <td>Data Engineer</td>\n",
       "      <td>154000</td>\n",
       "      <td>USD</td>\n",
       "      <td>154000</td>\n",
       "      <td>US</td>\n",
       "      <td>100</td>\n",
       "      <td>US</td>\n",
       "      <td>M</td>\n",
       "    </tr>\n",
       "    <tr>\n",
       "      <th>603</th>\n",
       "      <td>603</td>\n",
       "      <td>2022</td>\n",
       "      <td>SE</td>\n",
       "      <td>FT</td>\n",
       "      <td>Data Engineer</td>\n",
       "      <td>126000</td>\n",
       "      <td>USD</td>\n",
       "      <td>126000</td>\n",
       "      <td>US</td>\n",
       "      <td>100</td>\n",
       "      <td>US</td>\n",
       "      <td>M</td>\n",
       "    </tr>\n",
       "    <tr>\n",
       "      <th>604</th>\n",
       "      <td>604</td>\n",
       "      <td>2022</td>\n",
       "      <td>SE</td>\n",
       "      <td>FT</td>\n",
       "      <td>Data Analyst</td>\n",
       "      <td>129000</td>\n",
       "      <td>USD</td>\n",
       "      <td>129000</td>\n",
       "      <td>US</td>\n",
       "      <td>0</td>\n",
       "      <td>US</td>\n",
       "      <td>M</td>\n",
       "    </tr>\n",
       "    <tr>\n",
       "      <th>605</th>\n",
       "      <td>605</td>\n",
       "      <td>2022</td>\n",
       "      <td>SE</td>\n",
       "      <td>FT</td>\n",
       "      <td>Data Analyst</td>\n",
       "      <td>150000</td>\n",
       "      <td>USD</td>\n",
       "      <td>150000</td>\n",
       "      <td>US</td>\n",
       "      <td>100</td>\n",
       "      <td>US</td>\n",
       "      <td>M</td>\n",
       "    </tr>\n",
       "    <tr>\n",
       "      <th>606</th>\n",
       "      <td>606</td>\n",
       "      <td>2022</td>\n",
       "      <td>MI</td>\n",
       "      <td>FT</td>\n",
       "      <td>AI Scientist</td>\n",
       "      <td>200000</td>\n",
       "      <td>USD</td>\n",
       "      <td>200000</td>\n",
       "      <td>IN</td>\n",
       "      <td>100</td>\n",
       "      <td>US</td>\n",
       "      <td>L</td>\n",
       "    </tr>\n",
       "  </tbody>\n",
       "</table>\n",
       "</div>"
      ],
      "text/plain": [
       "     S.No  work_year experience_level employment_type      job_title  salary  \\\n",
       "602   602       2022               SE              FT  Data Engineer  154000   \n",
       "603   603       2022               SE              FT  Data Engineer  126000   \n",
       "604   604       2022               SE              FT   Data Analyst  129000   \n",
       "605   605       2022               SE              FT   Data Analyst  150000   \n",
       "606   606       2022               MI              FT   AI Scientist  200000   \n",
       "\n",
       "    salary_currency  salary_in_usd employee_residence  remote_ratio  \\\n",
       "602             USD         154000                 US           100   \n",
       "603             USD         126000                 US           100   \n",
       "604             USD         129000                 US             0   \n",
       "605             USD         150000                 US           100   \n",
       "606             USD         200000                 IN           100   \n",
       "\n",
       "    company_location company_size  \n",
       "602               US            M  \n",
       "603               US            M  \n",
       "604               US            M  \n",
       "605               US            M  \n",
       "606               US            L  "
      ]
     },
     "execution_count": 5,
     "metadata": {},
     "output_type": "execute_result"
    }
   ],
   "source": [
    "df.tail()"
   ]
  },
  {
   "cell_type": "code",
   "execution_count": 6,
   "id": "047a58d4",
   "metadata": {},
   "outputs": [
    {
     "data": {
      "text/html": [
       "<div>\n",
       "<style scoped>\n",
       "    .dataframe tbody tr th:only-of-type {\n",
       "        vertical-align: middle;\n",
       "    }\n",
       "\n",
       "    .dataframe tbody tr th {\n",
       "        vertical-align: top;\n",
       "    }\n",
       "\n",
       "    .dataframe thead th {\n",
       "        text-align: right;\n",
       "    }\n",
       "</style>\n",
       "<table border=\"1\" class=\"dataframe\">\n",
       "  <thead>\n",
       "    <tr style=\"text-align: right;\">\n",
       "      <th></th>\n",
       "      <th>S.No</th>\n",
       "      <th>work_year</th>\n",
       "      <th>experience_level</th>\n",
       "      <th>employment_type</th>\n",
       "      <th>job_title</th>\n",
       "      <th>salary</th>\n",
       "      <th>salary_currency</th>\n",
       "      <th>salary_in_usd</th>\n",
       "      <th>employee_residence</th>\n",
       "      <th>remote_ratio</th>\n",
       "      <th>company_location</th>\n",
       "      <th>company_size</th>\n",
       "    </tr>\n",
       "  </thead>\n",
       "  <tbody>\n",
       "    <tr>\n",
       "      <th>271</th>\n",
       "      <td>271</td>\n",
       "      <td>2021</td>\n",
       "      <td>SE</td>\n",
       "      <td>FT</td>\n",
       "      <td>Computer Vision Engineer</td>\n",
       "      <td>102000</td>\n",
       "      <td>BRL</td>\n",
       "      <td>18907</td>\n",
       "      <td>BR</td>\n",
       "      <td>0</td>\n",
       "      <td>BR</td>\n",
       "      <td>M</td>\n",
       "    </tr>\n",
       "    <tr>\n",
       "      <th>115</th>\n",
       "      <td>115</td>\n",
       "      <td>2021</td>\n",
       "      <td>EN</td>\n",
       "      <td>FT</td>\n",
       "      <td>Machine Learning Scientist</td>\n",
       "      <td>225000</td>\n",
       "      <td>USD</td>\n",
       "      <td>225000</td>\n",
       "      <td>US</td>\n",
       "      <td>100</td>\n",
       "      <td>US</td>\n",
       "      <td>L</td>\n",
       "    </tr>\n",
       "    <tr>\n",
       "      <th>228</th>\n",
       "      <td>228</td>\n",
       "      <td>2021</td>\n",
       "      <td>SE</td>\n",
       "      <td>FT</td>\n",
       "      <td>Data Scientist</td>\n",
       "      <td>135000</td>\n",
       "      <td>USD</td>\n",
       "      <td>135000</td>\n",
       "      <td>US</td>\n",
       "      <td>0</td>\n",
       "      <td>US</td>\n",
       "      <td>L</td>\n",
       "    </tr>\n",
       "    <tr>\n",
       "      <th>185</th>\n",
       "      <td>185</td>\n",
       "      <td>2021</td>\n",
       "      <td>MI</td>\n",
       "      <td>FT</td>\n",
       "      <td>Data Engineer</td>\n",
       "      <td>4000</td>\n",
       "      <td>USD</td>\n",
       "      <td>4000</td>\n",
       "      <td>IR</td>\n",
       "      <td>100</td>\n",
       "      <td>IR</td>\n",
       "      <td>M</td>\n",
       "    </tr>\n",
       "    <tr>\n",
       "      <th>439</th>\n",
       "      <td>439</td>\n",
       "      <td>2022</td>\n",
       "      <td>SE</td>\n",
       "      <td>FT</td>\n",
       "      <td>Machine Learning Engineer</td>\n",
       "      <td>164996</td>\n",
       "      <td>USD</td>\n",
       "      <td>164996</td>\n",
       "      <td>US</td>\n",
       "      <td>0</td>\n",
       "      <td>US</td>\n",
       "      <td>M</td>\n",
       "    </tr>\n",
       "  </tbody>\n",
       "</table>\n",
       "</div>"
      ],
      "text/plain": [
       "     S.No  work_year experience_level employment_type  \\\n",
       "271   271       2021               SE              FT   \n",
       "115   115       2021               EN              FT   \n",
       "228   228       2021               SE              FT   \n",
       "185   185       2021               MI              FT   \n",
       "439   439       2022               SE              FT   \n",
       "\n",
       "                      job_title  salary salary_currency  salary_in_usd  \\\n",
       "271    Computer Vision Engineer  102000             BRL          18907   \n",
       "115  Machine Learning Scientist  225000             USD         225000   \n",
       "228              Data Scientist  135000             USD         135000   \n",
       "185               Data Engineer    4000             USD           4000   \n",
       "439   Machine Learning Engineer  164996             USD         164996   \n",
       "\n",
       "    employee_residence  remote_ratio company_location company_size  \n",
       "271                 BR             0               BR            M  \n",
       "115                 US           100               US            L  \n",
       "228                 US             0               US            L  \n",
       "185                 IR           100               IR            M  \n",
       "439                 US             0               US            M  "
      ]
     },
     "execution_count": 6,
     "metadata": {},
     "output_type": "execute_result"
    }
   ],
   "source": [
    "df.sample(5)"
   ]
  },
  {
   "cell_type": "code",
   "execution_count": 7,
   "id": "33db1514",
   "metadata": {},
   "outputs": [
    {
     "name": "stdout",
     "output_type": "stream",
     "text": [
      "<class 'pandas.core.frame.DataFrame'>\n",
      "RangeIndex: 607 entries, 0 to 606\n",
      "Data columns (total 12 columns):\n",
      " #   Column              Non-Null Count  Dtype \n",
      "---  ------              --------------  ----- \n",
      " 0   S.No                607 non-null    int64 \n",
      " 1   work_year           607 non-null    int64 \n",
      " 2   experience_level    607 non-null    object\n",
      " 3   employment_type     607 non-null    object\n",
      " 4   job_title           607 non-null    object\n",
      " 5   salary              607 non-null    int64 \n",
      " 6   salary_currency     607 non-null    object\n",
      " 7   salary_in_usd       607 non-null    int64 \n",
      " 8   employee_residence  607 non-null    object\n",
      " 9   remote_ratio        607 non-null    int64 \n",
      " 10  company_location    607 non-null    object\n",
      " 11  company_size        607 non-null    object\n",
      "dtypes: int64(5), object(7)\n",
      "memory usage: 57.0+ KB\n"
     ]
    }
   ],
   "source": [
    "df.info()"
   ]
  },
  {
   "cell_type": "code",
   "execution_count": 8,
   "id": "f93f8558",
   "metadata": {},
   "outputs": [
    {
     "data": {
      "text/html": [
       "<div>\n",
       "<style scoped>\n",
       "    .dataframe tbody tr th:only-of-type {\n",
       "        vertical-align: middle;\n",
       "    }\n",
       "\n",
       "    .dataframe tbody tr th {\n",
       "        vertical-align: top;\n",
       "    }\n",
       "\n",
       "    .dataframe thead th {\n",
       "        text-align: right;\n",
       "    }\n",
       "</style>\n",
       "<table border=\"1\" class=\"dataframe\">\n",
       "  <thead>\n",
       "    <tr style=\"text-align: right;\">\n",
       "      <th></th>\n",
       "      <th>S.No</th>\n",
       "      <th>work_year</th>\n",
       "      <th>salary</th>\n",
       "      <th>salary_in_usd</th>\n",
       "      <th>remote_ratio</th>\n",
       "    </tr>\n",
       "  </thead>\n",
       "  <tbody>\n",
       "    <tr>\n",
       "      <th>count</th>\n",
       "      <td>607.000000</td>\n",
       "      <td>607.000000</td>\n",
       "      <td>6.070000e+02</td>\n",
       "      <td>607.000000</td>\n",
       "      <td>607.00000</td>\n",
       "    </tr>\n",
       "    <tr>\n",
       "      <th>mean</th>\n",
       "      <td>303.000000</td>\n",
       "      <td>2021.405272</td>\n",
       "      <td>3.240001e+05</td>\n",
       "      <td>112297.869852</td>\n",
       "      <td>70.92257</td>\n",
       "    </tr>\n",
       "    <tr>\n",
       "      <th>std</th>\n",
       "      <td>175.370085</td>\n",
       "      <td>0.692133</td>\n",
       "      <td>1.544357e+06</td>\n",
       "      <td>70957.259411</td>\n",
       "      <td>40.70913</td>\n",
       "    </tr>\n",
       "    <tr>\n",
       "      <th>min</th>\n",
       "      <td>0.000000</td>\n",
       "      <td>2020.000000</td>\n",
       "      <td>4.000000e+03</td>\n",
       "      <td>2859.000000</td>\n",
       "      <td>0.00000</td>\n",
       "    </tr>\n",
       "    <tr>\n",
       "      <th>25%</th>\n",
       "      <td>151.500000</td>\n",
       "      <td>2021.000000</td>\n",
       "      <td>7.000000e+04</td>\n",
       "      <td>62726.000000</td>\n",
       "      <td>50.00000</td>\n",
       "    </tr>\n",
       "    <tr>\n",
       "      <th>50%</th>\n",
       "      <td>303.000000</td>\n",
       "      <td>2022.000000</td>\n",
       "      <td>1.150000e+05</td>\n",
       "      <td>101570.000000</td>\n",
       "      <td>100.00000</td>\n",
       "    </tr>\n",
       "    <tr>\n",
       "      <th>75%</th>\n",
       "      <td>454.500000</td>\n",
       "      <td>2022.000000</td>\n",
       "      <td>1.650000e+05</td>\n",
       "      <td>150000.000000</td>\n",
       "      <td>100.00000</td>\n",
       "    </tr>\n",
       "    <tr>\n",
       "      <th>max</th>\n",
       "      <td>606.000000</td>\n",
       "      <td>2022.000000</td>\n",
       "      <td>3.040000e+07</td>\n",
       "      <td>600000.000000</td>\n",
       "      <td>100.00000</td>\n",
       "    </tr>\n",
       "  </tbody>\n",
       "</table>\n",
       "</div>"
      ],
      "text/plain": [
       "             S.No    work_year        salary  salary_in_usd  remote_ratio\n",
       "count  607.000000   607.000000  6.070000e+02     607.000000     607.00000\n",
       "mean   303.000000  2021.405272  3.240001e+05  112297.869852      70.92257\n",
       "std    175.370085     0.692133  1.544357e+06   70957.259411      40.70913\n",
       "min      0.000000  2020.000000  4.000000e+03    2859.000000       0.00000\n",
       "25%    151.500000  2021.000000  7.000000e+04   62726.000000      50.00000\n",
       "50%    303.000000  2022.000000  1.150000e+05  101570.000000     100.00000\n",
       "75%    454.500000  2022.000000  1.650000e+05  150000.000000     100.00000\n",
       "max    606.000000  2022.000000  3.040000e+07  600000.000000     100.00000"
      ]
     },
     "execution_count": 8,
     "metadata": {},
     "output_type": "execute_result"
    }
   ],
   "source": [
    "df.describe()"
   ]
  },
  {
   "cell_type": "markdown",
   "id": "dab70e13",
   "metadata": {},
   "source": [
    "## Step - 3 (Data Wrangling/ Data Cleaning)"
   ]
  },
  {
   "cell_type": "code",
   "execution_count": 9,
   "id": "be9acde3",
   "metadata": {},
   "outputs": [
    {
     "data": {
      "text/plain": [
       "S.No                  0\n",
       "work_year             0\n",
       "experience_level      0\n",
       "employment_type       0\n",
       "job_title             0\n",
       "salary                0\n",
       "salary_currency       0\n",
       "salary_in_usd         0\n",
       "employee_residence    0\n",
       "remote_ratio          0\n",
       "company_location      0\n",
       "company_size          0\n",
       "dtype: int64"
      ]
     },
     "execution_count": 9,
     "metadata": {},
     "output_type": "execute_result"
    }
   ],
   "source": [
    "df.isnull().sum()"
   ]
  },
  {
   "cell_type": "code",
   "execution_count": 10,
   "id": "e785e584",
   "metadata": {},
   "outputs": [
    {
     "name": "stdout",
     "output_type": "stream",
     "text": [
      "S.No\n",
      "work_year\n",
      "experience_level\n",
      "employment_type\n",
      "job_title\n",
      "salary\n",
      "salary_currency\n",
      "salary_in_usd\n",
      "employee_residence\n",
      "remote_ratio\n",
      "company_location\n",
      "company_size\n"
     ]
    }
   ],
   "source": [
    "for col in df.columns:\n",
    "    print(col)"
   ]
  },
  {
   "cell_type": "code",
   "execution_count": 11,
   "id": "13be8936",
   "metadata": {},
   "outputs": [],
   "source": [
    "df = df.drop(['S.No'], axis = 1)"
   ]
  },
  {
   "cell_type": "code",
   "execution_count": 12,
   "id": "14138682",
   "metadata": {},
   "outputs": [
    {
     "name": "stdout",
     "output_type": "stream",
     "text": [
      "work_year\n",
      "================================\n",
      "2022    318\n",
      "2021    217\n",
      "2020     72\n",
      "Name: work_year, dtype: int64\n",
      "experience_level\n",
      "================================\n",
      "SE    280\n",
      "MI    213\n",
      "EN     88\n",
      "EX     26\n",
      "Name: experience_level, dtype: int64\n",
      "employment_type\n",
      "================================\n",
      "FT    588\n",
      "PT     10\n",
      "CT      5\n",
      "FL      4\n",
      "Name: employment_type, dtype: int64\n",
      "job_title\n",
      "================================\n",
      "Data Scientist                              143\n",
      "Data Engineer                               132\n",
      "Data Analyst                                 97\n",
      "Machine Learning Engineer                    41\n",
      "Research Scientist                           16\n",
      "Data Science Manager                         12\n",
      "Data Architect                               11\n",
      "Big Data Engineer                             8\n",
      "Machine Learning Scientist                    8\n",
      "Principal Data Scientist                      7\n",
      "AI Scientist                                  7\n",
      "Data Science Consultant                       7\n",
      "Director of Data Science                      7\n",
      "Data Analytics Manager                        7\n",
      "ML Engineer                                   6\n",
      "Computer Vision Engineer                      6\n",
      "BI Data Analyst                               6\n",
      "Lead Data Engineer                            6\n",
      "Data Engineering Manager                      5\n",
      "Business Data Analyst                         5\n",
      "Head of Data                                  5\n",
      "Applied Data Scientist                        5\n",
      "Applied Machine Learning Scientist            4\n",
      "Head of Data Science                          4\n",
      "Analytics Engineer                            4\n",
      "Data Analytics Engineer                       4\n",
      "Machine Learning Developer                    3\n",
      "Machine Learning Infrastructure Engineer      3\n",
      "Lead Data Scientist                           3\n",
      "Computer Vision Software Engineer             3\n",
      "Lead Data Analyst                             3\n",
      "Data Science Engineer                         3\n",
      "Principal Data Engineer                       3\n",
      "Principal Data Analyst                        2\n",
      "ETL Developer                                 2\n",
      "Product Data Analyst                          2\n",
      "Director of Data Engineering                  2\n",
      "Financial Data Analyst                        2\n",
      "Cloud Data Engineer                           2\n",
      "Lead Machine Learning Engineer                1\n",
      "NLP Engineer                                  1\n",
      "Head of Machine Learning                      1\n",
      "3D Computer Vision Researcher                 1\n",
      "Data Specialist                               1\n",
      "Staff Data Scientist                          1\n",
      "Big Data Architect                            1\n",
      "Finance Data Analyst                          1\n",
      "Marketing Data Analyst                        1\n",
      "Machine Learning Manager                      1\n",
      "Data Analytics Lead                           1\n",
      "Name: job_title, dtype: int64\n",
      "salary\n",
      "================================\n",
      "100000     18\n",
      "80000      18\n",
      "120000     15\n",
      "60000      15\n",
      "150000     14\n",
      "           ..\n",
      "256000      1\n",
      "39600       1\n",
      "1335000     1\n",
      "52500       1\n",
      "129000      1\n",
      "Name: salary, Length: 272, dtype: int64\n",
      "salary_currency\n",
      "================================\n",
      "USD    398\n",
      "EUR     95\n",
      "GBP     44\n",
      "INR     27\n",
      "CAD     18\n",
      "JPY      3\n",
      "PLN      3\n",
      "TRY      3\n",
      "CNY      2\n",
      "MXN      2\n",
      "HUF      2\n",
      "DKK      2\n",
      "SGD      2\n",
      "BRL      2\n",
      "AUD      2\n",
      "CLP      1\n",
      "CHF      1\n",
      "Name: salary_currency, dtype: int64\n",
      "salary_in_usd\n",
      "================================\n",
      "100000    15\n",
      "120000    12\n",
      "150000    12\n",
      "200000    10\n",
      "135000     9\n",
      "          ..\n",
      "74000      1\n",
      "61896      1\n",
      "26005      1\n",
      "22611      1\n",
      "129000     1\n",
      "Name: salary_in_usd, Length: 369, dtype: int64\n",
      "employee_residence\n",
      "================================\n",
      "US    332\n",
      "GB     44\n",
      "IN     30\n",
      "CA     29\n",
      "DE     25\n",
      "FR     18\n",
      "ES     15\n",
      "GR     13\n",
      "JP      7\n",
      "PT      6\n",
      "BR      6\n",
      "PK      6\n",
      "NL      5\n",
      "PL      4\n",
      "IT      4\n",
      "RU      4\n",
      "AE      3\n",
      "AT      3\n",
      "VN      3\n",
      "TR      3\n",
      "AU      3\n",
      "RO      2\n",
      "BE      2\n",
      "SG      2\n",
      "SI      2\n",
      "DK      2\n",
      "HU      2\n",
      "NG      2\n",
      "MX      2\n",
      "BO      1\n",
      "MY      1\n",
      "TN      1\n",
      "IE      1\n",
      "DZ      1\n",
      "AR      1\n",
      "CZ      1\n",
      "JE      1\n",
      "LU      1\n",
      "PR      1\n",
      "RS      1\n",
      "EE      1\n",
      "CL      1\n",
      "HK      1\n",
      "KE      1\n",
      "MD      1\n",
      "CO      1\n",
      "IR      1\n",
      "CN      1\n",
      "MT      1\n",
      "UA      1\n",
      "IQ      1\n",
      "HN      1\n",
      "BG      1\n",
      "HR      1\n",
      "PH      1\n",
      "NZ      1\n",
      "CH      1\n",
      "Name: employee_residence, dtype: int64\n",
      "remote_ratio\n",
      "================================\n",
      "100    381\n",
      "0      127\n",
      "50      99\n",
      "Name: remote_ratio, dtype: int64\n",
      "company_location\n",
      "================================\n",
      "US    355\n",
      "GB     47\n",
      "CA     30\n",
      "DE     28\n",
      "IN     24\n",
      "FR     15\n",
      "ES     14\n",
      "GR     11\n",
      "JP      6\n",
      "NL      4\n",
      "AT      4\n",
      "PT      4\n",
      "PL      4\n",
      "LU      3\n",
      "PK      3\n",
      "BR      3\n",
      "AE      3\n",
      "MX      3\n",
      "AU      3\n",
      "TR      3\n",
      "DK      3\n",
      "IT      2\n",
      "CZ      2\n",
      "SI      2\n",
      "RU      2\n",
      "CH      2\n",
      "NG      2\n",
      "CN      2\n",
      "BE      2\n",
      "VN      1\n",
      "EE      1\n",
      "AS      1\n",
      "DZ      1\n",
      "MY      1\n",
      "MD      1\n",
      "KE      1\n",
      "SG      1\n",
      "CO      1\n",
      "IR      1\n",
      "CL      1\n",
      "MT      1\n",
      "IL      1\n",
      "UA      1\n",
      "IQ      1\n",
      "RO      1\n",
      "HR      1\n",
      "NZ      1\n",
      "HU      1\n",
      "HN      1\n",
      "IE      1\n",
      "Name: company_location, dtype: int64\n",
      "company_size\n",
      "================================\n",
      "M    326\n",
      "L    198\n",
      "S     83\n",
      "Name: company_size, dtype: int64\n"
     ]
    }
   ],
   "source": [
    "for col in df.columns:\n",
    "    print(col)\n",
    "    print(\"================================\")\n",
    "    print(df[col].value_counts())"
   ]
  },
  {
   "cell_type": "markdown",
   "id": "b6a2fd2d",
   "metadata": {},
   "source": [
    "## Step - 4 (EDA)"
   ]
  },
  {
   "cell_type": "code",
   "execution_count": 13,
   "id": "d7e07ce8",
   "metadata": {},
   "outputs": [
    {
     "data": {
      "text/plain": [
       "(607, 11)"
      ]
     },
     "execution_count": 13,
     "metadata": {},
     "output_type": "execute_result"
    }
   ],
   "source": [
    "df.shape"
   ]
  },
  {
   "cell_type": "code",
   "execution_count": 14,
   "id": "548c3ab7",
   "metadata": {},
   "outputs": [],
   "source": [
    "# Univariant analysis"
   ]
  },
  {
   "cell_type": "code",
   "execution_count": 15,
   "id": "c951f47e",
   "metadata": {},
   "outputs": [
    {
     "data": {
      "text/plain": [
       "<seaborn.axisgrid.FacetGrid at 0x190e9295bb0>"
      ]
     },
     "execution_count": 15,
     "metadata": {},
     "output_type": "execute_result"
    },
    {
     "data": {
      "image/png": "[encoded data removed]",
      "text/plain": [
       "<Figure size 360x360 with 1 Axes>"
      ]
     },
     "metadata": {
      "needs_background": "light"
     },
     "output_type": "display_data"
    }
   ],
   "source": [
    "sns.displot(df['work_year'])"
   ]
  },
  {
   "cell_type": "code",
   "execution_count": 16,
   "id": "b3fa65c6",
   "metadata": {},
   "outputs": [
    {
     "data": {
      "text/plain": [
       "<AxesSubplot: xlabel='work_year'>"
      ]
     },
     "execution_count": 16,
     "metadata": {},
     "output_type": "execute_result"
    },
    {
     "data": {
      "image/png": "[encoded data removed]",
      "text/plain": [
       "<Figure size 640x480 with 1 Axes>"
      ]
     },
     "metadata": {},
     "output_type": "display_data"
    }
   ],
   "source": [
    "sns.boxplot(x ='work_year', data =df)"
   ]
  },
  {
   "cell_type": "code",
   "execution_count": 17,
   "id": "562b5616",
   "metadata": {},
   "outputs": [
    {
     "data": {
      "text/plain": [
       "<AxesSubplot: xlabel='work_year', ylabel='Count'>"
      ]
     },
     "execution_count": 17,
     "metadata": {},
     "output_type": "execute_result"
    },
    {
     "data": {
      "image/png": "[encoded data removed]",
      "text/plain": [
       "<Figure size 640x480 with 1 Axes>"
      ]
     },
     "metadata": {},
     "output_type": "display_data"
    }
   ],
   "source": [
    "sns.histplot(df['work_year'])"
   ]
  },
  {
   "cell_type": "code",
   "execution_count": 18,
   "id": "f19ac5ec",
   "metadata": {},
   "outputs": [
    {
     "data": {
      "text/plain": [
       "<AxesSubplot: xlabel='experience_level', ylabel='Count'>"
      ]
     },
     "execution_count": 18,
     "metadata": {},
     "output_type": "execute_result"
    },
    {
     "data": {
      "image/png": "[encoded data removed]",
      "text/plain": [
       "<Figure size 640x480 with 1 Axes>"
      ]
     },
     "metadata": {},
     "output_type": "display_data"
    }
   ],
   "source": [
    "sns.histplot(df['experience_level'])"
   ]
  },
  {
   "cell_type": "code",
   "execution_count": 19,
   "id": "9bc6b730",
   "metadata": {},
   "outputs": [
    {
     "data": {
      "text/plain": [
       "<AxesSubplot: xlabel='employment_type', ylabel='Count'>"
      ]
     },
     "execution_count": 19,
     "metadata": {},
     "output_type": "execute_result"
    },
    {
     "data": {
      "image/png": "[encoded data removed]",
      "text/plain": [
       "<Figure size 640x480 with 1 Axes>"
      ]
     },
     "metadata": {},
     "output_type": "display_data"
    }
   ],
   "source": [
    "sns.histplot(df['employment_type'])"
   ]
  },
  {
   "cell_type": "code",
   "execution_count": 20,
   "id": "b980c910",
   "metadata": {},
   "outputs": [
    {
     "data": {
      "text/plain": [
       "<AxesSubplot: xlabel='job_title', ylabel='Count'>"
      ]
     },
     "execution_count": 20,
     "metadata": {},
     "output_type": "execute_result"
    },
    {
     "data": {
      "image/png": "[encoded data removed]",
      "text/plain": [
       "<Figure size 640x480 with 1 Axes>"
      ]
     },
     "metadata": {},
     "output_type": "display_data"
    }
   ],
   "source": [
    "sns.histplot(df['job_title'])"
   ]
  },
  {
   "cell_type": "code",
   "execution_count": 21,
   "id": "a78600ab",
   "metadata": {},
   "outputs": [
    {
     "data": {
      "text/plain": [
       "<AxesSubplot: ylabel='salary_in_usd'>"
      ]
     },
     "execution_count": 21,
     "metadata": {},
     "output_type": "execute_result"
    },
    {
     "data": {
      "image/png": "[encoded data removed]",
      "text/plain": [
       "<Figure size 640x480 with 1 Axes>"
      ]
     },
     "metadata": {},
     "output_type": "display_data"
    }
   ],
   "source": [
    "sns.boxplot(y = 'salary_in_usd', data=df)"
   ]
  },
  {
   "cell_type": "code",
   "execution_count": 22,
   "id": "4b47d055",
   "metadata": {},
   "outputs": [
    {
     "data": {
      "text/plain": [
       "<AxesSubplot: xlabel='salary_in_usd', ylabel='Density'>"
      ]
     },
     "execution_count": 22,
     "metadata": {},
     "output_type": "execute_result"
    },
    {
     "data": {
      "image/png": "[encoded data removed]",
      "text/plain": [
       "<Figure size 640x480 with 1 Axes>"
      ]
     },
     "metadata": {},
     "output_type": "display_data"
    }
   ],
   "source": [
    "sns.kdeplot(df['salary_in_usd'])"
   ]
  },
  {
   "cell_type": "code",
   "execution_count": 23,
   "id": "9c9801ba",
   "metadata": {},
   "outputs": [],
   "source": [
    "# Bivariant Plots"
   ]
  },
  {
   "cell_type": "code",
   "execution_count": 24,
   "id": "091890bf",
   "metadata": {},
   "outputs": [
    {
     "data": {
      "text/plain": [
       "<AxesSubplot: xlabel='work_year', ylabel='salary_in_usd'>"
      ]
     },
     "execution_count": 24,
     "metadata": {},
     "output_type": "execute_result"
    },
    {
     "data": {
      "image/png": "[encoded data removed]",
      "text/plain": [
       "<Figure size 640x480 with 1 Axes>"
      ]
     },
     "metadata": {},
     "output_type": "display_data"
    }
   ],
   "source": [
    "sns.boxplot(x = 'work_year', y = 'salary_in_usd', data =df)"
   ]
  },
  {
   "cell_type": "code",
   "execution_count": 25,
   "id": "54c04269",
   "metadata": {},
   "outputs": [
    {
     "data": {
      "text/plain": [
       "<AxesSubplot: xlabel='experience_level', ylabel='salary_in_usd'>"
      ]
     },
     "execution_count": 25,
     "metadata": {},
     "output_type": "execute_result"
    },
    {
     "data": {
      "image/png": "[encoded data removed]",
      "text/plain": [
       "<Figure size 640x480 with 1 Axes>"
      ]
     },
     "metadata": {},
     "output_type": "display_data"
    }
   ],
   "source": [
    "sns.boxplot(x = 'experience_level', y = 'salary_in_usd', data =df)"
   ]
  },
  {
   "cell_type": "code",
   "execution_count": 26,
   "id": "16aff22d",
   "metadata": {},
   "outputs": [
    {
     "data": {
      "text/plain": [
       "<AxesSubplot: xlabel='experience_level', ylabel='salary_in_usd'>"
      ]
     },
     "execution_count": 26,
     "metadata": {},
     "output_type": "execute_result"
    },
    {
     "data": {
      "image/png": "[encoded data removed]",
      "text/plain": [
       "<Figure size 640x480 with 1 Axes>"
      ]
     },
     "metadata": {},
     "output_type": "display_data"
    }
   ],
   "source": [
    "sns.boxplot(x = 'experience_level', y = 'salary_in_usd', data =df)"
   ]
  },
  {
   "cell_type": "code",
   "execution_count": 27,
   "id": "64d555d7",
   "metadata": {},
   "outputs": [
    {
     "data": {
      "text/plain": [
       "<AxesSubplot: xlabel='experience_level', ylabel='salary_in_usd'>"
      ]
     },
     "execution_count": 27,
     "metadata": {},
     "output_type": "execute_result"
    },
    {
     "data": {
      "image/png": "[encoded data removed]",
      "text/plain": [
       "<Figure size 640x480 with 1 Axes>"
      ]
     },
     "metadata": {},
     "output_type": "display_data"
    }
   ],
   "source": [
    "sns.boxplot(x = 'experience_level', y = 'salary_in_usd',hue = \"work_year\" ,data =df)"
   ]
  },
  {
   "cell_type": "code",
   "execution_count": 28,
   "id": "1bec021e",
   "metadata": {},
   "outputs": [
    {
     "data": {
      "text/plain": [
       "<AxesSubplot: >"
      ]
     },
     "execution_count": 28,
     "metadata": {},
     "output_type": "execute_result"
    },
    {
     "data": {
      "image/png": "[encoded data removed]",
      "text/plain": [
       "<Figure size 640x480 with 2 Axes>"
      ]
     },
     "metadata": {},
     "output_type": "display_data"
    }
   ],
   "source": [
    "corr = df.corr()\n",
    "sns.heatmap(corr, annot = True)"
   ]
  },
  {
   "cell_type": "code",
   "execution_count": 29,
   "id": "02f3f01b",
   "metadata": {},
   "outputs": [],
   "source": [
    "df[\"work_year\"] = 2023 - df[\"work_year\"]"
   ]
  },
  {
   "cell_type": "code",
   "execution_count": 30,
   "id": "b2bdf001",
   "metadata": {},
   "outputs": [
    {
     "data": {
      "text/plain": [
       "0      3\n",
       "1      3\n",
       "2      3\n",
       "3      3\n",
       "4      3\n",
       "      ..\n",
       "602    1\n",
       "603    1\n",
       "604    1\n",
       "605    1\n",
       "606    1\n",
       "Name: work_year, Length: 607, dtype: int64"
      ]
     },
     "execution_count": 30,
     "metadata": {},
     "output_type": "execute_result"
    }
   ],
   "source": [
    "df[\"work_year\"]"
   ]
  },
  {
   "cell_type": "code",
   "execution_count": 31,
   "id": "43cfd8e1",
   "metadata": {},
   "outputs": [
    {
     "data": {
      "text/html": [
       "<div>\n",
       "<style scoped>\n",
       "    .dataframe tbody tr th:only-of-type {\n",
       "        vertical-align: middle;\n",
       "    }\n",
       "\n",
       "    .dataframe tbody tr th {\n",
       "        vertical-align: top;\n",
       "    }\n",
       "\n",
       "    .dataframe thead th {\n",
       "        text-align: right;\n",
       "    }\n",
       "</style>\n",
       "<table border=\"1\" class=\"dataframe\">\n",
       "  <thead>\n",
       "    <tr style=\"text-align: right;\">\n",
       "      <th></th>\n",
       "      <th>work_year</th>\n",
       "      <th>experience_level</th>\n",
       "      <th>employment_type</th>\n",
       "      <th>job_title</th>\n",
       "      <th>salary</th>\n",
       "      <th>salary_currency</th>\n",
       "      <th>salary_in_usd</th>\n",
       "      <th>employee_residence</th>\n",
       "      <th>remote_ratio</th>\n",
       "      <th>company_location</th>\n",
       "      <th>company_size</th>\n",
       "    </tr>\n",
       "  </thead>\n",
       "  <tbody>\n",
       "    <tr>\n",
       "      <th>0</th>\n",
       "      <td>3</td>\n",
       "      <td>MI</td>\n",
       "      <td>FT</td>\n",
       "      <td>Data Scientist</td>\n",
       "      <td>70000</td>\n",
       "      <td>EUR</td>\n",
       "      <td>79833</td>\n",
       "      <td>DE</td>\n",
       "      <td>0</td>\n",
       "      <td>DE</td>\n",
       "      <td>L</td>\n",
       "    </tr>\n",
       "    <tr>\n",
       "      <th>1</th>\n",
       "      <td>3</td>\n",
       "      <td>SE</td>\n",
       "      <td>FT</td>\n",
       "      <td>Machine Learning Scientist</td>\n",
       "      <td>260000</td>\n",
       "      <td>USD</td>\n",
       "      <td>260000</td>\n",
       "      <td>JP</td>\n",
       "      <td>0</td>\n",
       "      <td>JP</td>\n",
       "      <td>S</td>\n",
       "    </tr>\n",
       "    <tr>\n",
       "      <th>2</th>\n",
       "      <td>3</td>\n",
       "      <td>SE</td>\n",
       "      <td>FT</td>\n",
       "      <td>Big Data Engineer</td>\n",
       "      <td>85000</td>\n",
       "      <td>GBP</td>\n",
       "      <td>109024</td>\n",
       "      <td>GB</td>\n",
       "      <td>50</td>\n",
       "      <td>GB</td>\n",
       "      <td>M</td>\n",
       "    </tr>\n",
       "    <tr>\n",
       "      <th>3</th>\n",
       "      <td>3</td>\n",
       "      <td>MI</td>\n",
       "      <td>FT</td>\n",
       "      <td>Product Data Analyst</td>\n",
       "      <td>20000</td>\n",
       "      <td>USD</td>\n",
       "      <td>20000</td>\n",
       "      <td>HN</td>\n",
       "      <td>0</td>\n",
       "      <td>HN</td>\n",
       "      <td>S</td>\n",
       "    </tr>\n",
       "    <tr>\n",
       "      <th>4</th>\n",
       "      <td>3</td>\n",
       "      <td>SE</td>\n",
       "      <td>FT</td>\n",
       "      <td>Machine Learning Engineer</td>\n",
       "      <td>150000</td>\n",
       "      <td>USD</td>\n",
       "      <td>150000</td>\n",
       "      <td>US</td>\n",
       "      <td>50</td>\n",
       "      <td>US</td>\n",
       "      <td>L</td>\n",
       "    </tr>\n",
       "  </tbody>\n",
       "</table>\n",
       "</div>"
      ],
      "text/plain": [
       "   work_year experience_level employment_type                   job_title  \\\n",
       "0          3               MI              FT              Data Scientist   \n",
       "1          3               SE              FT  Machine Learning Scientist   \n",
       "2          3               SE              FT           Big Data Engineer   \n",
       "3          3               MI              FT        Product Data Analyst   \n",
       "4          3               SE              FT   Machine Learning Engineer   \n",
       "\n",
       "   salary salary_currency  salary_in_usd employee_residence  remote_ratio  \\\n",
       "0   70000             EUR          79833                 DE             0   \n",
       "1  260000             USD         260000                 JP             0   \n",
       "2   85000             GBP         109024                 GB            50   \n",
       "3   20000             USD          20000                 HN             0   \n",
       "4  150000             USD         150000                 US            50   \n",
       "\n",
       "  company_location company_size  \n",
       "0               DE            L  \n",
       "1               JP            S  \n",
       "2               GB            M  \n",
       "3               HN            S  \n",
       "4               US            L  "
      ]
     },
     "execution_count": 31,
     "metadata": {},
     "output_type": "execute_result"
    }
   ],
   "source": [
    "df.head()"
   ]
  },
  {
   "cell_type": "code",
   "execution_count": 35,
   "id": "8cf658ab",
   "metadata": {},
   "outputs": [],
   "source": [
    "from sklearn.preprocessing import OneHotEncoder\n",
    "def category_to_column(df, column, prefix=''):\n",
    "    df_copy = df.copy()\n",
    "    oe_style = OneHotEncoder()\n",
    "    oe_results = oe_style.fit_transform(df_copy[[column]])\n",
    "    name_columns = prefix + oe_style.categories_[0]\n",
    "    temp = pd.DataFrame(oe_results.toarray(), columns=name_columns, index=df_copy.index)\n",
    "    df_copy = pd.concat([df_copy, temp], axis=1)\n",
    "    return df_copy"
   ]
  },
  {
   "cell_type": "code",
   "execution_count": 38,
   "id": "a8174408",
   "metadata": {},
   "outputs": [],
   "source": [
    "from sklearn.preprocessing import OneHotEncoder\n",
    "OHE = OneHotEncoder()"
   ]
  },
  {
   "cell_type": "code",
   "execution_count": 50,
   "id": "27c31299",
   "metadata": {},
   "outputs": [
    {
     "data": {
      "text/html": [
       "<div>\n",
       "<style scoped>\n",
       "    .dataframe tbody tr th:only-of-type {\n",
       "        vertical-align: middle;\n",
       "    }\n",
       "\n",
       "    .dataframe tbody tr th {\n",
       "        vertical-align: top;\n",
       "    }\n",
       "\n",
       "    .dataframe thead th {\n",
       "        text-align: right;\n",
       "    }\n",
       "</style>\n",
       "<table border=\"1\" class=\"dataframe\">\n",
       "  <thead>\n",
       "    <tr style=\"text-align: right;\">\n",
       "      <th></th>\n",
       "      <th>work_year</th>\n",
       "      <th>employment_type</th>\n",
       "      <th>salary_in_usd</th>\n",
       "      <th>remote_ratio</th>\n",
       "      <th>company_size</th>\n",
       "      <th>EN</th>\n",
       "      <th>EX</th>\n",
       "      <th>MI</th>\n",
       "      <th>SE</th>\n",
       "    </tr>\n",
       "  </thead>\n",
       "  <tbody>\n",
       "    <tr>\n",
       "      <th>0</th>\n",
       "      <td>3</td>\n",
       "      <td>FT</td>\n",
       "      <td>79833</td>\n",
       "      <td>0</td>\n",
       "      <td>L</td>\n",
       "      <td>0.0</td>\n",
       "      <td>0.0</td>\n",
       "      <td>1.0</td>\n",
       "      <td>0.0</td>\n",
       "    </tr>\n",
       "    <tr>\n",
       "      <th>1</th>\n",
       "      <td>3</td>\n",
       "      <td>FT</td>\n",
       "      <td>260000</td>\n",
       "      <td>0</td>\n",
       "      <td>S</td>\n",
       "      <td>0.0</td>\n",
       "      <td>0.0</td>\n",
       "      <td>0.0</td>\n",
       "      <td>1.0</td>\n",
       "    </tr>\n",
       "    <tr>\n",
       "      <th>2</th>\n",
       "      <td>3</td>\n",
       "      <td>FT</td>\n",
       "      <td>109024</td>\n",
       "      <td>50</td>\n",
       "      <td>M</td>\n",
       "      <td>0.0</td>\n",
       "      <td>0.0</td>\n",
       "      <td>0.0</td>\n",
       "      <td>1.0</td>\n",
       "    </tr>\n",
       "    <tr>\n",
       "      <th>3</th>\n",
       "      <td>3</td>\n",
       "      <td>FT</td>\n",
       "      <td>20000</td>\n",
       "      <td>0</td>\n",
       "      <td>S</td>\n",
       "      <td>0.0</td>\n",
       "      <td>0.0</td>\n",
       "      <td>1.0</td>\n",
       "      <td>0.0</td>\n",
       "    </tr>\n",
       "    <tr>\n",
       "      <th>4</th>\n",
       "      <td>3</td>\n",
       "      <td>FT</td>\n",
       "      <td>150000</td>\n",
       "      <td>50</td>\n",
       "      <td>L</td>\n",
       "      <td>0.0</td>\n",
       "      <td>0.0</td>\n",
       "      <td>0.0</td>\n",
       "      <td>1.0</td>\n",
       "    </tr>\n",
       "  </tbody>\n",
       "</table>\n",
       "</div>"
      ],
      "text/plain": [
       "   work_year employment_type  salary_in_usd  remote_ratio company_size   EN  \\\n",
       "0          3              FT          79833             0            L  0.0   \n",
       "1          3              FT         260000             0            S  0.0   \n",
       "2          3              FT         109024            50            M  0.0   \n",
       "3          3              FT          20000             0            S  0.0   \n",
       "4          3              FT         150000            50            L  0.0   \n",
       "\n",
       "    EX   MI   SE  \n",
       "0  0.0  1.0  0.0  \n",
       "1  0.0  0.0  1.0  \n",
       "2  0.0  0.0  1.0  \n",
       "3  0.0  1.0  0.0  \n",
       "4  0.0  0.0  1.0  "
      ]
     },
     "execution_count": 50,
     "metadata": {},
     "output_type": "execute_result"
    }
   ],
   "source": [
    "columns_category = ['experience_level']\n",
    "for column in columns_category:\n",
    "    df = category_to_column(df, column)\n",
    "df = df.drop(columns=columns_category)\n",
    "df.head()"
   ]
  },
  {
   "cell_type": "code",
   "execution_count": 46,
   "id": "73592c16",
   "metadata": {},
   "outputs": [],
   "source": [
    "df = df.drop(['job_title','salary','salary_currency','employee_residence','company_location'],axis = 1)"
   ]
  },
  {
   "cell_type": "code",
   "execution_count": 51,
   "id": "26efccaf",
   "metadata": {},
   "outputs": [
    {
     "data": {
      "text/html": [
       "<div>\n",
       "<style scoped>\n",
       "    .dataframe tbody tr th:only-of-type {\n",
       "        vertical-align: middle;\n",
       "    }\n",
       "\n",
       "    .dataframe tbody tr th {\n",
       "        vertical-align: top;\n",
       "    }\n",
       "\n",
       "    .dataframe thead th {\n",
       "        text-align: right;\n",
       "    }\n",
       "</style>\n",
       "<table border=\"1\" class=\"dataframe\">\n",
       "  <thead>\n",
       "    <tr style=\"text-align: right;\">\n",
       "      <th></th>\n",
       "      <th>work_year</th>\n",
       "      <th>employment_type</th>\n",
       "      <th>salary_in_usd</th>\n",
       "      <th>remote_ratio</th>\n",
       "      <th>company_size</th>\n",
       "      <th>EN</th>\n",
       "      <th>EX</th>\n",
       "      <th>MI</th>\n",
       "      <th>SE</th>\n",
       "    </tr>\n",
       "  </thead>\n",
       "  <tbody>\n",
       "    <tr>\n",
       "      <th>0</th>\n",
       "      <td>3</td>\n",
       "      <td>FT</td>\n",
       "      <td>79833</td>\n",
       "      <td>0</td>\n",
       "      <td>L</td>\n",
       "      <td>0.0</td>\n",
       "      <td>0.0</td>\n",
       "      <td>1.0</td>\n",
       "      <td>0.0</td>\n",
       "    </tr>\n",
       "    <tr>\n",
       "      <th>1</th>\n",
       "      <td>3</td>\n",
       "      <td>FT</td>\n",
       "      <td>260000</td>\n",
       "      <td>0</td>\n",
       "      <td>S</td>\n",
       "      <td>0.0</td>\n",
       "      <td>0.0</td>\n",
       "      <td>0.0</td>\n",
       "      <td>1.0</td>\n",
       "    </tr>\n",
       "    <tr>\n",
       "      <th>2</th>\n",
       "      <td>3</td>\n",
       "      <td>FT</td>\n",
       "      <td>109024</td>\n",
       "      <td>50</td>\n",
       "      <td>M</td>\n",
       "      <td>0.0</td>\n",
       "      <td>0.0</td>\n",
       "      <td>0.0</td>\n",
       "      <td>1.0</td>\n",
       "    </tr>\n",
       "    <tr>\n",
       "      <th>3</th>\n",
       "      <td>3</td>\n",
       "      <td>FT</td>\n",
       "      <td>20000</td>\n",
       "      <td>0</td>\n",
       "      <td>S</td>\n",
       "      <td>0.0</td>\n",
       "      <td>0.0</td>\n",
       "      <td>1.0</td>\n",
       "      <td>0.0</td>\n",
       "    </tr>\n",
       "    <tr>\n",
       "      <th>4</th>\n",
       "      <td>3</td>\n",
       "      <td>FT</td>\n",
       "      <td>150000</td>\n",
       "      <td>50</td>\n",
       "      <td>L</td>\n",
       "      <td>0.0</td>\n",
       "      <td>0.0</td>\n",
       "      <td>0.0</td>\n",
       "      <td>1.0</td>\n",
       "    </tr>\n",
       "  </tbody>\n",
       "</table>\n",
       "</div>"
      ],
      "text/plain": [
       "   work_year employment_type  salary_in_usd  remote_ratio company_size   EN  \\\n",
       "0          3              FT          79833             0            L  0.0   \n",
       "1          3              FT         260000             0            S  0.0   \n",
       "2          3              FT         109024            50            M  0.0   \n",
       "3          3              FT          20000             0            S  0.0   \n",
       "4          3              FT         150000            50            L  0.0   \n",
       "\n",
       "    EX   MI   SE  \n",
       "0  0.0  1.0  0.0  \n",
       "1  0.0  0.0  1.0  \n",
       "2  0.0  0.0  1.0  \n",
       "3  0.0  1.0  0.0  \n",
       "4  0.0  0.0  1.0  "
      ]
     },
     "execution_count": 51,
     "metadata": {},
     "output_type": "execute_result"
    }
   ],
   "source": [
    "df.head()"
   ]
  },
  {
   "cell_type": "code",
   "execution_count": 52,
   "id": "aaca7f6d",
   "metadata": {},
   "outputs": [
    {
     "data": {
      "text/html": [
       "<div>\n",
       "<style scoped>\n",
       "    .dataframe tbody tr th:only-of-type {\n",
       "        vertical-align: middle;\n",
       "    }\n",
       "\n",
       "    .dataframe tbody tr th {\n",
       "        vertical-align: top;\n",
       "    }\n",
       "\n",
       "    .dataframe thead th {\n",
       "        text-align: right;\n",
       "    }\n",
       "</style>\n",
       "<table border=\"1\" class=\"dataframe\">\n",
       "  <thead>\n",
       "    <tr style=\"text-align: right;\">\n",
       "      <th></th>\n",
       "      <th>work_year</th>\n",
       "      <th>salary_in_usd</th>\n",
       "      <th>remote_ratio</th>\n",
       "      <th>EN</th>\n",
       "      <th>EX</th>\n",
       "      <th>MI</th>\n",
       "      <th>SE</th>\n",
       "      <th>CT</th>\n",
       "      <th>FL</th>\n",
       "      <th>FT</th>\n",
       "      <th>PT</th>\n",
       "      <th>L</th>\n",
       "      <th>M</th>\n",
       "      <th>S</th>\n",
       "    </tr>\n",
       "  </thead>\n",
       "  <tbody>\n",
       "    <tr>\n",
       "      <th>0</th>\n",
       "      <td>3</td>\n",
       "      <td>79833</td>\n",
       "      <td>0</td>\n",
       "      <td>0.0</td>\n",
       "      <td>0.0</td>\n",
       "      <td>1.0</td>\n",
       "      <td>0.0</td>\n",
       "      <td>0.0</td>\n",
       "      <td>0.0</td>\n",
       "      <td>1.0</td>\n",
       "      <td>0.0</td>\n",
       "      <td>1.0</td>\n",
       "      <td>0.0</td>\n",
       "      <td>0.0</td>\n",
       "    </tr>\n",
       "    <tr>\n",
       "      <th>1</th>\n",
       "      <td>3</td>\n",
       "      <td>260000</td>\n",
       "      <td>0</td>\n",
       "      <td>0.0</td>\n",
       "      <td>0.0</td>\n",
       "      <td>0.0</td>\n",
       "      <td>1.0</td>\n",
       "      <td>0.0</td>\n",
       "      <td>0.0</td>\n",
       "      <td>1.0</td>\n",
       "      <td>0.0</td>\n",
       "      <td>0.0</td>\n",
       "      <td>0.0</td>\n",
       "      <td>1.0</td>\n",
       "    </tr>\n",
       "    <tr>\n",
       "      <th>2</th>\n",
       "      <td>3</td>\n",
       "      <td>109024</td>\n",
       "      <td>50</td>\n",
       "      <td>0.0</td>\n",
       "      <td>0.0</td>\n",
       "      <td>0.0</td>\n",
       "      <td>1.0</td>\n",
       "      <td>0.0</td>\n",
       "      <td>0.0</td>\n",
       "      <td>1.0</td>\n",
       "      <td>0.0</td>\n",
       "      <td>0.0</td>\n",
       "      <td>1.0</td>\n",
       "      <td>0.0</td>\n",
       "    </tr>\n",
       "    <tr>\n",
       "      <th>3</th>\n",
       "      <td>3</td>\n",
       "      <td>20000</td>\n",
       "      <td>0</td>\n",
       "      <td>0.0</td>\n",
       "      <td>0.0</td>\n",
       "      <td>1.0</td>\n",
       "      <td>0.0</td>\n",
       "      <td>0.0</td>\n",
       "      <td>0.0</td>\n",
       "      <td>1.0</td>\n",
       "      <td>0.0</td>\n",
       "      <td>0.0</td>\n",
       "      <td>0.0</td>\n",
       "      <td>1.0</td>\n",
       "    </tr>\n",
       "    <tr>\n",
       "      <th>4</th>\n",
       "      <td>3</td>\n",
       "      <td>150000</td>\n",
       "      <td>50</td>\n",
       "      <td>0.0</td>\n",
       "      <td>0.0</td>\n",
       "      <td>0.0</td>\n",
       "      <td>1.0</td>\n",
       "      <td>0.0</td>\n",
       "      <td>0.0</td>\n",
       "      <td>1.0</td>\n",
       "      <td>0.0</td>\n",
       "      <td>1.0</td>\n",
       "      <td>0.0</td>\n",
       "      <td>0.0</td>\n",
       "    </tr>\n",
       "  </tbody>\n",
       "</table>\n",
       "</div>"
      ],
      "text/plain": [
       "   work_year  salary_in_usd  remote_ratio   EN   EX   MI   SE   CT   FL   FT  \\\n",
       "0          3          79833             0  0.0  0.0  1.0  0.0  0.0  0.0  1.0   \n",
       "1          3         260000             0  0.0  0.0  0.0  1.0  0.0  0.0  1.0   \n",
       "2          3         109024            50  0.0  0.0  0.0  1.0  0.0  0.0  1.0   \n",
       "3          3          20000             0  0.0  0.0  1.0  0.0  0.0  0.0  1.0   \n",
       "4          3         150000            50  0.0  0.0  0.0  1.0  0.0  0.0  1.0   \n",
       "\n",
       "    PT    L    M    S  \n",
       "0  0.0  1.0  0.0  0.0  \n",
       "1  0.0  0.0  0.0  1.0  \n",
       "2  0.0  0.0  1.0  0.0  \n",
       "3  0.0  0.0  0.0  1.0  \n",
       "4  0.0  1.0  0.0  0.0  "
      ]
     },
     "execution_count": 52,
     "metadata": {},
     "output_type": "execute_result"
    }
   ],
   "source": [
    "columns_category = ['employment_type','company_size']\n",
    "for column in columns_category:\n",
    "    df = category_to_column(df, column)\n",
    "df = df.drop(columns=columns_category)\n",
    "df.head()"
   ]
  },
  {
   "cell_type": "code",
   "execution_count": 53,
   "id": "36cfc764",
   "metadata": {},
   "outputs": [],
   "source": [
    "from sklearn import linear_model\n",
    "reg = linear_model.LinearRegression()"
   ]
  },
  {
   "cell_type": "code",
   "execution_count": 54,
   "id": "472abed4",
   "metadata": {},
   "outputs": [],
   "source": [
    "## Train_Test_Split"
   ]
  },
  {
   "cell_type": "code",
   "execution_count": 55,
   "id": "c4291025",
   "metadata": {},
   "outputs": [],
   "source": [
    "#y= mx+c  (y =b0+b1*x1+b2*x2+.....) (m = b1,b2,....)(c= b0)"
   ]
  },
  {
   "cell_type": "code",
   "execution_count": 59,
   "id": "6dc14731",
   "metadata": {},
   "outputs": [],
   "source": [
    "X = df.drop(['salary_in_usd'],axis=1)"
   ]
  },
  {
   "cell_type": "code",
   "execution_count": 60,
   "id": "6daf07c9",
   "metadata": {},
   "outputs": [],
   "source": [
    "y = df['salary_in_usd']"
   ]
  },
  {
   "cell_type": "code",
   "execution_count": 61,
   "id": "7e7813e9",
   "metadata": {},
   "outputs": [],
   "source": [
    "from sklearn.model_selection import train_test_split\n",
    "X_train, X_test, y_train, y_test = train_test_split(\n",
    "    X, y, test_size=0.2, random_state=42)"
   ]
  },
  {
   "cell_type": "code",
   "execution_count": 62,
   "id": "2c474fa0",
   "metadata": {},
   "outputs": [
    {
     "data": {
      "text/html": [
       "<div>\n",
       "<style scoped>\n",
       "    .dataframe tbody tr th:only-of-type {\n",
       "        vertical-align: middle;\n",
       "    }\n",
       "\n",
       "    .dataframe tbody tr th {\n",
       "        vertical-align: top;\n",
       "    }\n",
       "\n",
       "    .dataframe thead th {\n",
       "        text-align: right;\n",
       "    }\n",
       "</style>\n",
       "<table border=\"1\" class=\"dataframe\">\n",
       "  <thead>\n",
       "    <tr style=\"text-align: right;\">\n",
       "      <th></th>\n",
       "      <th>work_year</th>\n",
       "      <th>remote_ratio</th>\n",
       "      <th>EN</th>\n",
       "      <th>EX</th>\n",
       "      <th>MI</th>\n",
       "      <th>SE</th>\n",
       "      <th>CT</th>\n",
       "      <th>FL</th>\n",
       "      <th>FT</th>\n",
       "      <th>PT</th>\n",
       "      <th>L</th>\n",
       "      <th>M</th>\n",
       "      <th>S</th>\n",
       "    </tr>\n",
       "  </thead>\n",
       "  <tbody>\n",
       "    <tr>\n",
       "      <th>9</th>\n",
       "      <td>3</td>\n",
       "      <td>50</td>\n",
       "      <td>0.0</td>\n",
       "      <td>0.0</td>\n",
       "      <td>0.0</td>\n",
       "      <td>1.0</td>\n",
       "      <td>0.0</td>\n",
       "      <td>0.0</td>\n",
       "      <td>1.0</td>\n",
       "      <td>0.0</td>\n",
       "      <td>0.0</td>\n",
       "      <td>0.0</td>\n",
       "      <td>1.0</td>\n",
       "    </tr>\n",
       "    <tr>\n",
       "      <th>227</th>\n",
       "      <td>2</td>\n",
       "      <td>50</td>\n",
       "      <td>0.0</td>\n",
       "      <td>0.0</td>\n",
       "      <td>1.0</td>\n",
       "      <td>0.0</td>\n",
       "      <td>0.0</td>\n",
       "      <td>0.0</td>\n",
       "      <td>1.0</td>\n",
       "      <td>0.0</td>\n",
       "      <td>1.0</td>\n",
       "      <td>0.0</td>\n",
       "      <td>0.0</td>\n",
       "    </tr>\n",
       "    <tr>\n",
       "      <th>591</th>\n",
       "      <td>1</td>\n",
       "      <td>100</td>\n",
       "      <td>0.0</td>\n",
       "      <td>0.0</td>\n",
       "      <td>0.0</td>\n",
       "      <td>1.0</td>\n",
       "      <td>0.0</td>\n",
       "      <td>0.0</td>\n",
       "      <td>1.0</td>\n",
       "      <td>0.0</td>\n",
       "      <td>0.0</td>\n",
       "      <td>1.0</td>\n",
       "      <td>0.0</td>\n",
       "    </tr>\n",
       "    <tr>\n",
       "      <th>516</th>\n",
       "      <td>1</td>\n",
       "      <td>100</td>\n",
       "      <td>0.0</td>\n",
       "      <td>0.0</td>\n",
       "      <td>0.0</td>\n",
       "      <td>1.0</td>\n",
       "      <td>0.0</td>\n",
       "      <td>0.0</td>\n",
       "      <td>1.0</td>\n",
       "      <td>0.0</td>\n",
       "      <td>0.0</td>\n",
       "      <td>1.0</td>\n",
       "      <td>0.0</td>\n",
       "    </tr>\n",
       "    <tr>\n",
       "      <th>132</th>\n",
       "      <td>2</td>\n",
       "      <td>100</td>\n",
       "      <td>0.0</td>\n",
       "      <td>0.0</td>\n",
       "      <td>1.0</td>\n",
       "      <td>0.0</td>\n",
       "      <td>0.0</td>\n",
       "      <td>0.0</td>\n",
       "      <td>1.0</td>\n",
       "      <td>0.0</td>\n",
       "      <td>0.0</td>\n",
       "      <td>1.0</td>\n",
       "      <td>0.0</td>\n",
       "    </tr>\n",
       "  </tbody>\n",
       "</table>\n",
       "</div>"
      ],
      "text/plain": [
       "     work_year  remote_ratio   EN   EX   MI   SE   CT   FL   FT   PT    L  \\\n",
       "9            3            50  0.0  0.0  0.0  1.0  0.0  0.0  1.0  0.0  0.0   \n",
       "227          2            50  0.0  0.0  1.0  0.0  0.0  0.0  1.0  0.0  1.0   \n",
       "591          1           100  0.0  0.0  0.0  1.0  0.0  0.0  1.0  0.0  0.0   \n",
       "516          1           100  0.0  0.0  0.0  1.0  0.0  0.0  1.0  0.0  0.0   \n",
       "132          2           100  0.0  0.0  1.0  0.0  0.0  0.0  1.0  0.0  0.0   \n",
       "\n",
       "       M    S  \n",
       "9    0.0  1.0  \n",
       "227  0.0  0.0  \n",
       "591  1.0  0.0  \n",
       "516  1.0  0.0  \n",
       "132  1.0  0.0  "
      ]
     },
     "execution_count": 62,
     "metadata": {},
     "output_type": "execute_result"
    }
   ],
   "source": [
    "X_train.head()"
   ]
  },
  {
   "cell_type": "code",
   "execution_count": 63,
   "id": "abc87525",
   "metadata": {},
   "outputs": [
    {
     "data": {
      "text/plain": [
       "9      125000\n",
       "227     88654\n",
       "591    144854\n",
       "516    152500\n",
       "132     38400\n",
       "        ...  \n",
       "71      42197\n",
       "106    187442\n",
       "270     72500\n",
       "435     91614\n",
       "102     36259\n",
       "Name: salary_in_usd, Length: 485, dtype: int64"
      ]
     },
     "execution_count": 63,
     "metadata": {},
     "output_type": "execute_result"
    }
   ],
   "source": [
    "y_train"
   ]
  },
  {
   "cell_type": "code",
   "execution_count": 64,
   "id": "825489fb",
   "metadata": {},
   "outputs": [
    {
     "data": {
      "text/html": [
       "<style>#sk-container-id-1 {color: black;background-color: white;}#sk-container-id-1 pre{padding: 0;}#sk-container-id-1 div.sk-toggleable {background-color: white;}#sk-container-id-1 label.sk-toggleable__label {cursor: pointer;display: block;width: 100%;margin-bottom: 0;padding: 0.3em;box-sizing: border-box;text-align: center;}#sk-container-id-1 label.sk-toggleable__label-arrow:before {content: \"▸\";float: left;margin-right: 0.25em;color: #696969;}#sk-container-id-1 label.sk-toggleable__label-arrow:hover:before {color: black;}#sk-container-id-1 div.sk-estimator:hover label.sk-toggleable__label-arrow:before {color: black;}#sk-container-id-1 div.sk-toggleable__content {max-height: 0;max-width: 0;overflow: hidden;text-align: left;background-color: #f0f8ff;}#sk-container-id-1 div.sk-toggleable__content pre {margin: 0.2em;color: black;border-radius: 0.25em;background-color: #f0f8ff;}#sk-container-id-1 input.sk-toggleable__control:checked~div.sk-toggleable__content {max-height: 200px;max-width: 100%;overflow: auto;}#sk-container-id-1 input.sk-toggleable__control:checked~label.sk-toggleable__label-arrow:before {content: \"▾\";}#sk-container-id-1 div.sk-estimator input.sk-toggleable__control:checked~label.sk-toggleable__label {background-color: #d4ebff;}#sk-container-id-1 div.sk-label input.sk-toggleable__control:checked~label.sk-toggleable__label {background-color: #d4ebff;}#sk-container-id-1 input.sk-hidden--visually {border: 0;clip: rect(1px 1px 1px 1px);clip: rect(1px, 1px, 1px, 1px);height: 1px;margin: -1px;overflow: hidden;padding: 0;position: absolute;width: 1px;}#sk-container-id-1 div.sk-estimator {font-family: monospace;background-color: #f0f8ff;border: 1px dotted black;border-radius: 0.25em;box-sizing: border-box;margin-bottom: 0.5em;}#sk-container-id-1 div.sk-estimator:hover {background-color: #d4ebff;}#sk-container-id-1 div.sk-parallel-item::after {content: \"\";width: 100%;border-bottom: 1px solid gray;flex-grow: 1;}#sk-container-id-1 div.sk-label:hover label.sk-toggleable__label {background-color: #d4ebff;}#sk-container-id-1 div.sk-serial::before {content: \"\";position: absolute;border-left: 1px solid gray;box-sizing: border-box;top: 0;bottom: 0;left: 50%;z-index: 0;}#sk-container-id-1 div.sk-serial {display: flex;flex-direction: column;align-items: center;background-color: white;padding-right: 0.2em;padding-left: 0.2em;position: relative;}#sk-container-id-1 div.sk-item {position: relative;z-index: 1;}#sk-container-id-1 div.sk-parallel {display: flex;align-items: stretch;justify-content: center;background-color: white;position: relative;}#sk-container-id-1 div.sk-item::before, #sk-container-id-1 div.sk-parallel-item::before {content: \"\";position: absolute;border-left: 1px solid gray;box-sizing: border-box;top: 0;bottom: 0;left: 50%;z-index: -1;}#sk-container-id-1 div.sk-parallel-item {display: flex;flex-direction: column;z-index: 1;position: relative;background-color: white;}#sk-container-id-1 div.sk-parallel-item:first-child::after {align-self: flex-end;width: 50%;}#sk-container-id-1 div.sk-parallel-item:last-child::after {align-self: flex-start;width: 50%;}#sk-container-id-1 div.sk-parallel-item:only-child::after {width: 0;}#sk-container-id-1 div.sk-dashed-wrapped {border: 1px dashed gray;margin: 0 0.4em 0.5em 0.4em;box-sizing: border-box;padding-bottom: 0.4em;background-color: white;}#sk-container-id-1 div.sk-label label {font-family: monospace;font-weight: bold;display: inline-block;line-height: 1.2em;}#sk-container-id-1 div.sk-label-container {text-align: center;}#sk-container-id-1 div.sk-container {/* jupyter's `normalize.less` sets `[hidden] { display: none; }` but bootstrap.min.css set `[hidden] { display: none !important; }` so we also need the `!important` here to be able to override the default hidden behavior on the sphinx rendered scikit-learn.org. See: https://github.com/scikit-learn/scikit-learn/issues/21755 */display: inline-block !important;position: relative;}#sk-container-id-1 div.sk-text-repr-fallback {display: none;}</style><div id=\"sk-container-id-1\" class=\"sk-top-container\"><div class=\"sk-text-repr-fallback\"><pre>LinearRegression()</pre><b>In a Jupyter environment, please rerun this cell to show the HTML representation or trust the notebook. <br />On GitHub, the HTML representation is unable to render, please try loading this page with nbviewer.org.</b></div><div class=\"sk-container\" hidden><div class=\"sk-item\"><div class=\"sk-estimator sk-toggleable\"><input class=\"sk-toggleable__control sk-hidden--visually\" id=\"sk-estimator-id-1\" type=\"checkbox\" checked><label for=\"sk-estimator-id-1\" class=\"sk-toggleable__label sk-toggleable__label-arrow\">LinearRegression</label><div class=\"sk-toggleable__content\"><pre>LinearRegression()</pre></div></div></div></div></div>"
      ],
      "text/plain": [
       "LinearRegression()"
      ]
     },
     "execution_count": 64,
     "metadata": {},
     "output_type": "execute_result"
    }
   ],
   "source": [
    "reg.fit(X_train, y_train)"
   ]
  },
  {
   "cell_type": "code",
   "execution_count": 65,
   "id": "83f50062",
   "metadata": {},
   "outputs": [
    {
     "data": {
      "text/plain": [
       "array([ -6163.94172371,    108.34541488, -56116.32639598,  78012.11289081,\n",
       "       -34852.87924557,  12957.09275074,  46885.66574874, -22861.26136124,\n",
       "          870.30681827, -24894.71120578,  15294.26907132,    770.62757819,\n",
       "       -16064.8966495 ])"
      ]
     },
     "execution_count": 65,
     "metadata": {},
     "output_type": "execute_result"
    }
   ],
   "source": [
    "reg.coef_"
   ]
  },
  {
   "cell_type": "code",
   "execution_count": 66,
   "id": "84c21e44",
   "metadata": {},
   "outputs": [
    {
     "data": {
      "text/plain": [
       "122949.63110421976"
      ]
     },
     "execution_count": 66,
     "metadata": {},
     "output_type": "execute_result"
    }
   ],
   "source": [
    "reg.intercept_"
   ]
  },
  {
   "cell_type": "code",
   "execution_count": 67,
   "id": "f5de5d76",
   "metadata": {},
   "outputs": [],
   "source": [
    "y_pred = reg.predict(X_test)"
   ]
  },
  {
   "cell_type": "code",
   "execution_count": 69,
   "id": "98fd7bca",
   "metadata": {},
   "outputs": [
    {
     "data": {
      "text/plain": [
       "array([142218.25801522, 142218.25801522,  88244.3442952 , 148783.3447188 ,\n",
       "        91933.44430083,  88991.01527516,  33146.88970589,  61563.62640104,\n",
       "        94408.28601891,  61563.62640104,  59827.60760005, 142218.25801522,\n",
       "       142218.25801522,  97350.71504458, 129890.37456781, 142218.25801522,\n",
       "        65244.87834381, 102767.98578833,  81504.53863792, 142218.25801522,\n",
       "       124473.10382406,  59095.50537194, 142218.25801522, 102767.98578833,\n",
       "        60574.27858001,  65991.54932376, 131383.71652772,  97350.71504458,\n",
       "       142218.25801522,  94408.28601891,  76087.26789417, 142218.25801522,\n",
       "       142218.25801522,  73144.8388685 ,  65991.54932376, 142218.25801522,\n",
       "        94408.28601891, 142218.25801522,  50145.3729171 , 131383.71652772,\n",
       "       142218.25801522, 142218.25801522, 138996.74531719, 125382.73378753,\n",
       "       142218.25801522,  85769.50257712,  68201.87612131, 102767.98578833,\n",
       "        83573.74453141, 156741.89950835, 142218.25801522,  60574.27858001,\n",
       "        83573.74453141, 142218.25801522, 142218.25801522, 142218.25801522,\n",
       "       136054.31629152, 204798.43643721,  56146.35565729, 130637.04554777,\n",
       "       108931.92751204,  50145.3729171 ,  57062.0555274 , 144414.01606094,\n",
       "       150577.95778465,  83573.74453141, 145160.68704089,  83573.74453141,\n",
       "       142218.25801522,  97350.71504458, 150577.95778465,  98097.38602453,\n",
       "       113054.85034012,  50145.3729171 , 145160.68704089, 119218.79206382,\n",
       "       113801.52132007, 150577.95778465,  91933.44430083, 130637.04554777,\n",
       "       150577.95778465,  73144.8388685 ,  88244.3442952 ,  94408.28601891,\n",
       "       207273.27815529, 215632.97792471,  43981.4311934 , 156741.89950835,\n",
       "        97350.71504458, 145160.68704089, 102767.98578833,  77749.63874423,\n",
       "        94408.28601891,  96604.04406463, 131383.71652772,  73144.8388685 ,\n",
       "        70669.99715042,  83573.74453141,  85769.50257712, 142218.25801522,\n",
       "        71408.82006751, 150577.95778465, 139743.41629714, 207273.27815529,\n",
       "       142218.25801522,  66980.89714479, 142218.25801522, 142218.25801522,\n",
       "       142218.25801522,  97350.71504458,  94408.28601891,  77409.8028077 ,\n",
       "       150577.95778465, 142218.25801522,  76087.26789417,  94408.28601891,\n",
       "        88244.3442952 , 136054.31629152, 142218.25801522,  77572.76179122,\n",
       "       142218.25801522,  60574.27858001])"
      ]
     },
     "execution_count": 69,
     "metadata": {},
     "output_type": "execute_result"
    }
   ],
   "source": [
    "y_pred"
   ]
  },
  {
   "cell_type": "code",
   "execution_count": 70,
   "id": "1d9a18ad",
   "metadata": {},
   "outputs": [],
   "source": [
    "accuracy = reg.score(X_test,y_test)"
   ]
  },
  {
   "cell_type": "code",
   "execution_count": 71,
   "id": "190cd4c4",
   "metadata": {},
   "outputs": [
    {
     "name": "stdout",
     "output_type": "stream",
     "text": [
      "0.2874483239629554\n"
     ]
    }
   ],
   "source": [
    "print(accuracy)"
   ]
  },
  {
   "cell_type": "code",
   "execution_count": 72,
   "id": "1a64f9ff",
   "metadata": {},
   "outputs": [
    {
     "data": {
      "image/png": "[encoded data removed]",
      "text/plain": [
       "<Figure size 640x480 with 1 Axes>"
      ]
     },
     "metadata": {},
     "output_type": "display_data"
    }
   ],
   "source": [
    "plt.plot(X_test, y_pred, color = 'red')\n",
    "plt.show()"
   ]
  },
  {
   "cell_type": "code",
   "execution_count": 73,
   "id": "235b304a",
   "metadata": {},
   "outputs": [],
   "source": [
    "from sklearn.metrics import mean_absolute_error"
   ]
  },
  {
   "cell_type": "code",
   "execution_count": 74,
   "id": "628aae65",
   "metadata": {},
   "outputs": [
    {
     "data": {
      "text/plain": [
       "38584.85193612785"
      ]
     },
     "execution_count": 74,
     "metadata": {},
     "output_type": "execute_result"
    }
   ],
   "source": [
    "mean_absolute_error(y_test, y_pred)"
   ]
  },
  {
   "cell_type": "code",
   "execution_count": 75,
   "id": "4169305a",
   "metadata": {},
   "outputs": [
    {
     "data": {
      "text/plain": [
       "2730903590.299194"
      ]
     },
     "execution_count": 75,
     "metadata": {},
     "output_type": "execute_result"
    }
   ],
   "source": [
    "from sklearn.metrics import mean_squared_error\n",
    "mean_squared_error(y_test, y_pred)"
   ]
  },
  {
   "cell_type": "code",
   "execution_count": 76,
   "id": "c0bf34fe",
   "metadata": {},
   "outputs": [
    {
     "data": {
      "text/plain": [
       "0.2874483239629554"
      ]
     },
     "execution_count": 76,
     "metadata": {},
     "output_type": "execute_result"
    }
   ],
   "source": [
    "from sklearn.metrics import r2_score\n",
    "r2_score(y_test, y_pred)"
   ]
  },
  {
   "cell_type": "code",
   "execution_count": 77,
   "id": "2059c4d4",
   "metadata": {},
   "outputs": [],
   "source": [
    "# Ridge Regression"
   ]
  },
  {
   "cell_type": "code",
   "execution_count": 82,
   "id": "63c38cef",
   "metadata": {},
   "outputs": [
    {
     "name": "stdout",
     "output_type": "stream",
     "text": [
      "[ -6174.23689539    108.50728515 -55972.96017304  77759.58925166\n",
      " -34786.13139278  12999.50231418  45721.9871613  -21824.88459836\n",
      "    817.06833719 -24714.1709001   15294.89727612    774.11339643\n",
      " -16069.01067248]\n",
      "122954.6372813556\n"
     ]
    }
   ],
   "source": [
    "from sklearn import linear_model\n",
    "reg = linear_model.Ridge(alpha=0.1)\n",
    "reg.fit(X_train,y_train)\n",
    "\n",
    "print(reg.coef_)\n",
    "\n",
    "print(reg.intercept_)"
   ]
  },
  {
   "cell_type": "code",
   "execution_count": 83,
   "id": "f182e036",
   "metadata": {},
   "outputs": [
    {
     "name": "stdout",
     "output_type": "stream",
     "text": [
      "0.2865855214588192\n"
     ]
    }
   ],
   "source": [
    "accuracy = reg.score(X_test,y_test)\n",
    "print(accuracy)"
   ]
  },
  {
   "cell_type": "code",
   "execution_count": 84,
   "id": "4a27aaa7",
   "metadata": {},
   "outputs": [
    {
     "name": "stdout",
     "output_type": "stream",
     "text": [
      "[ -6164.06969661    108.34573894 -60577.64143361  73548.68461723\n",
      " -39314.50266051   8495.08347147  60813.64760659  -8897.14335127\n",
      "  14810.13605656 -10949.2314856   21200.40221179   6676.57594978\n",
      " -10158.60706374]\n",
      "107565.66974565112\n"
     ]
    }
   ],
   "source": [
    "from sklearn import linear_model\n",
    "reg = linear_model.Lasso(alpha=0.1)\n",
    "reg.fit(X_train,y_train)\n",
    "\n",
    "print(reg.coef_)\n",
    "\n",
    "print(reg.intercept_)"
   ]
  },
  {
   "cell_type": "code",
   "execution_count": 85,
   "id": "aac5a1cc",
   "metadata": {},
   "outputs": [
    {
     "name": "stdout",
     "output_type": "stream",
     "text": [
      "0.28743239739889015\n"
     ]
    }
   ],
   "source": [
    "accuracy = reg.score(X_test,y_test)\n",
    "print(accuracy)"
   ]
  },
  {
   "cell_type": "code",
   "execution_count": null,
   "id": "1a2b81f0",
   "metadata": {},
   "outputs": [],
   "source": []
  }
 ],
 "metadata": {
  "kernelspec": {
   "display_name": "Python 3 (ipykernel)",
   "language": "python",
   "name": "python3"
  },
  "language_info": {
   "codemirror_mode": {
    "name": "ipython",
    "version": 3
   },
   "file_extension": ".py",
   "mimetype": "text/x-python",
   "name": "python",
   "nbconvert_exporter": "python",
   "pygments_lexer": "ipython3",
   "version": "3.9.12"
  }
 },
 "nbformat": 4,
 "nbformat_minor": 5
}
