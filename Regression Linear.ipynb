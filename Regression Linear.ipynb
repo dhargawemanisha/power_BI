{
 "cells": [
  {
   "cell_type": "markdown",
   "id": "5f62eb22",
   "metadata": {
    "papermill": {
     "duration": 0.006076,
     "end_time": "2023-01-19T10:55:40.691191",
     "exception": false,
     "start_time": "2023-01-19T10:55:40.685115",
     "status": "completed"
    },
    "tags": []
   },
   "source": [
    "<div class=\"table-of-contents\" style=\"background-color:#E8DCB5; padding: 20px; margin: 10px; font-size: 110%; border-radius: 25px; box-shadow: 10px 10px 5px 0px rgba(0,0,0,0.75);\">\n",
    "  <h1 style=\"color:#000000;\">TOC</h1>\n",
    "<ol>\n",
    "      <li><a href=\"#1\" style=\"color: #000000;\">1. Imports</a></li>\n",
    "    <li><a href=\"#2\" style=\"color: #000000;\">2. Data Analysis</a></li>\n",
    "    <li><a href=\"#3\" style=\"color: #000000;\">3. Data Preprocessing</a></li>\n",
    "    <li><a href=\"#4\" style=\"color: #000000;\">4. Model Implementation</a></li>\n",
    "    <li><a href=\"#5\" style=\"color: #000000;\">5. Evaluation</a></li>\n",
    "<li><a href=\"#6\" style=\"color: #000000;\">6. Thank You</a></li> \n",
    "  </ol>\n",
    "</div>\n",
    "\n",
    "<a id=\"1\"></a>\n",
    "<h1 style='background:#E8DCB5;border:0; color:black;\n",
    "    box-shadow: 10px 10px 5px 0px rgba(0,0,0,0.75);\n",
    "    transform: rotateX(10deg);\n",
    "    '><center style='color: #000000;'>Imports</center></h1>\n",
    "\n",
    "# Imports"
   ]
  },
  {
   "cell_type": "code",
   "execution_count": 1,
   "id": "1d61e594",
   "metadata": {
    "execution": {
     "iopub.execute_input": "2023-01-19T10:55:40.703499Z",
     "iopub.status.busy": "2023-01-19T10:55:40.702976Z",
     "iopub.status.idle": "2023-01-19T10:55:42.906184Z",
     "shell.execute_reply": "2023-01-19T10:55:42.904879Z"
    },
    "papermill": {
     "duration": 2.212792,
     "end_time": "2023-01-19T10:55:42.909262",
     "exception": false,
     "start_time": "2023-01-19T10:55:40.696470",
     "status": "completed"
    },
    "tags": []
   },
   "outputs": [],
   "source": [
    "import os\n",
    "import pandas as pd \n",
    "import numpy as np\n",
    "import plotly.express as px\n",
    "from sklearn.linear_model import LinearRegression\n",
    "from sklearn.preprocessing import StandardScaler\n",
    "from sklearn.metrics import mean_squared_error"
   ]
  },
  {
   "cell_type": "markdown",
   "id": "6ef11600",
   "metadata": {
    "papermill": {
     "duration": 0.005201,
     "end_time": "2023-01-19T10:55:42.919885",
     "exception": false,
     "start_time": "2023-01-19T10:55:42.914684",
     "status": "completed"
    },
    "tags": []
   },
   "source": [
    "<a id=\"2\"></a>\n",
    "<h1 style='background:#E8DCB5;border:0; color:black;\n",
    "    box-shadow: 10px 10px 5px 0px rgba(0,0,0,0.75);\n",
    "    transform: rotateX(10deg);\n",
    "    '><center style='color: #000000;'>Data Analysis</center></h1>\n",
    "\n",
    "# Data Analysis"
   ]
  },
  {
   "cell_type": "markdown",
   "id": "c8a6948e",
   "metadata": {
    "papermill": {
     "duration": 0.004895,
     "end_time": "2023-01-19T10:55:42.930245",
     "exception": false,
     "start_time": "2023-01-19T10:55:42.925350",
     "status": "completed"
    },
    "tags": []
   },
   "source": [
    "**Before starting with the model let's preprocess our data and visualize it**"
   ]
  },
  {
   "cell_type": "code",
   "execution_count": 2,
   "id": "60fbbb17",
   "metadata": {
    "execution": {
     "iopub.execute_input": "2023-01-19T10:55:42.942812Z",
     "iopub.status.busy": "2023-01-19T10:55:42.941548Z",
     "iopub.status.idle": "2023-01-19T10:55:42.969690Z",
     "shell.execute_reply": "2023-01-19T10:55:42.968240Z"
    },
    "papermill": {
     "duration": 0.037698,
     "end_time": "2023-01-19T10:55:42.972935",
     "exception": false,
     "start_time": "2023-01-19T10:55:42.935237",
     "status": "completed"
    },
    "tags": []
   },
   "outputs": [],
   "source": [
    "train =  pd.read_csv('/kaggle/input/random-linear-regression/train.csv')\n",
    "test = pd.read_csv('/kaggle/input/random-linear-regression/test.csv')"
   ]
  },
  {
   "cell_type": "code",
   "execution_count": 3,
   "id": "2eb14446",
   "metadata": {
    "execution": {
     "iopub.execute_input": "2023-01-19T10:55:42.985006Z",
     "iopub.status.busy": "2023-01-19T10:55:42.984631Z",
     "iopub.status.idle": "2023-01-19T10:55:43.004874Z",
     "shell.execute_reply": "2023-01-19T10:55:43.004074Z"
    },
    "papermill": {
     "duration": 0.028622,
     "end_time": "2023-01-19T10:55:43.006908",
     "exception": false,
     "start_time": "2023-01-19T10:55:42.978286",
     "status": "completed"
    },
    "tags": []
   },
   "outputs": [
    {
     "data": {
      "text/html": [
       "<div>\n",
       "<style scoped>\n",
       "    .dataframe tbody tr th:only-of-type {\n",
       "        vertical-align: middle;\n",
       "    }\n",
       "\n",
       "    .dataframe tbody tr th {\n",
       "        vertical-align: top;\n",
       "    }\n",
       "\n",
       "    .dataframe thead th {\n",
       "        text-align: right;\n",
       "    }\n",
       "</style>\n",
       "<table border=\"1\" class=\"dataframe\">\n",
       "  <thead>\n",
       "    <tr style=\"text-align: right;\">\n",
       "      <th></th>\n",
       "      <th>x</th>\n",
       "      <th>y</th>\n",
       "    </tr>\n",
       "  </thead>\n",
       "  <tbody>\n",
       "    <tr>\n",
       "      <th>0</th>\n",
       "      <td>24.0</td>\n",
       "      <td>21.549452</td>\n",
       "    </tr>\n",
       "    <tr>\n",
       "      <th>1</th>\n",
       "      <td>50.0</td>\n",
       "      <td>47.464463</td>\n",
       "    </tr>\n",
       "    <tr>\n",
       "      <th>2</th>\n",
       "      <td>15.0</td>\n",
       "      <td>17.218656</td>\n",
       "    </tr>\n",
       "    <tr>\n",
       "      <th>3</th>\n",
       "      <td>38.0</td>\n",
       "      <td>36.586398</td>\n",
       "    </tr>\n",
       "    <tr>\n",
       "      <th>4</th>\n",
       "      <td>87.0</td>\n",
       "      <td>87.288984</td>\n",
       "    </tr>\n",
       "  </tbody>\n",
       "</table>\n",
       "</div>"
      ],
      "text/plain": [
       "      x          y\n",
       "0  24.0  21.549452\n",
       "1  50.0  47.464463\n",
       "2  15.0  17.218656\n",
       "3  38.0  36.586398\n",
       "4  87.0  87.288984"
      ]
     },
     "execution_count": 3,
     "metadata": {},
     "output_type": "execute_result"
    }
   ],
   "source": [
    "train.head()"
   ]
  },
  {
   "cell_type": "code",
   "execution_count": 4,
   "id": "25c447e0",
   "metadata": {
    "execution": {
     "iopub.execute_input": "2023-01-19T10:55:43.019627Z",
     "iopub.status.busy": "2023-01-19T10:55:43.019244Z",
     "iopub.status.idle": "2023-01-19T10:55:43.027972Z",
     "shell.execute_reply": "2023-01-19T10:55:43.026909Z"
    },
    "papermill": {
     "duration": 0.018166,
     "end_time": "2023-01-19T10:55:43.030684",
     "exception": false,
     "start_time": "2023-01-19T10:55:43.012518",
     "status": "completed"
    },
    "tags": []
   },
   "outputs": [
    {
     "data": {
      "text/plain": [
       "x    0\n",
       "y    1\n",
       "dtype: int64"
      ]
     },
     "execution_count": 4,
     "metadata": {},
     "output_type": "execute_result"
    }
   ],
   "source": [
    "train.isnull().sum()"
   ]
  },
  {
   "cell_type": "code",
   "execution_count": 5,
   "id": "55b7f96f",
   "metadata": {
    "execution": {
     "iopub.execute_input": "2023-01-19T10:55:43.043361Z",
     "iopub.status.busy": "2023-01-19T10:55:43.042987Z",
     "iopub.status.idle": "2023-01-19T10:55:43.053663Z",
     "shell.execute_reply": "2023-01-19T10:55:43.051866Z"
    },
    "papermill": {
     "duration": 0.0204,
     "end_time": "2023-01-19T10:55:43.056896",
     "exception": false,
     "start_time": "2023-01-19T10:55:43.036496",
     "status": "completed"
    },
    "tags": []
   },
   "outputs": [
    {
     "data": {
      "text/plain": [
       "x    0\n",
       "y    0\n",
       "dtype: int64"
      ]
     },
     "execution_count": 5,
     "metadata": {},
     "output_type": "execute_result"
    }
   ],
   "source": [
    "test.isnull().sum()"
   ]
  },
  {
   "cell_type": "markdown",
   "id": "b7927453",
   "metadata": {
    "papermill": {
     "duration": 0.005827,
     "end_time": "2023-01-19T10:55:43.069257",
     "exception": false,
     "start_time": "2023-01-19T10:55:43.063430",
     "status": "completed"
    },
    "tags": []
   },
   "source": [
    "<a id=\"3\"></a>\n",
    "<h1 style='background:#E8DCB5;border:0; color:black;\n",
    "    box-shadow: 10px 10px 5px 0px rgba(0,0,0,0.75);\n",
    "    transform: rotateX(10deg);\n",
    "    '><center style='color: #000000;'>Data Preprocessing</center></h1>\n",
    "\n",
    "# Data Preprocessing"
   ]
  },
  {
   "cell_type": "code",
   "execution_count": 6,
   "id": "20af3d87",
   "metadata": {
    "execution": {
     "iopub.execute_input": "2023-01-19T10:55:43.082270Z",
     "iopub.status.busy": "2023-01-19T10:55:43.081829Z",
     "iopub.status.idle": "2023-01-19T10:55:43.092263Z",
     "shell.execute_reply": "2023-01-19T10:55:43.090558Z"
    },
    "papermill": {
     "duration": 0.019786,
     "end_time": "2023-01-19T10:55:43.094725",
     "exception": false,
     "start_time": "2023-01-19T10:55:43.074939",
     "status": "completed"
    },
    "tags": []
   },
   "outputs": [],
   "source": [
    "#Drop null values\n",
    "train = train.dropna()"
   ]
  },
  {
   "cell_type": "code",
   "execution_count": 7,
   "id": "635bdcfb",
   "metadata": {
    "execution": {
     "iopub.execute_input": "2023-01-19T10:55:43.110406Z",
     "iopub.status.busy": "2023-01-19T10:55:43.109751Z",
     "iopub.status.idle": "2023-01-19T10:55:43.119713Z",
     "shell.execute_reply": "2023-01-19T10:55:43.118765Z"
    },
    "papermill": {
     "duration": 0.020414,
     "end_time": "2023-01-19T10:55:43.122245",
     "exception": false,
     "start_time": "2023-01-19T10:55:43.101831",
     "status": "completed"
    },
    "tags": []
   },
   "outputs": [],
   "source": [
    "#Set training data and targets\n",
    "X_train = train['x']\n",
    "y_train = train['y']\n",
    "\n",
    "#Set testing data and targets\n",
    "X_test = test['x']\n",
    "y_test = test['y']"
   ]
  },
  {
   "cell_type": "markdown",
   "id": "422011e3",
   "metadata": {
    "papermill": {
     "duration": 0.005122,
     "end_time": "2023-01-19T10:55:43.134067",
     "exception": false,
     "start_time": "2023-01-19T10:55:43.128945",
     "status": "completed"
    },
    "tags": []
   },
   "source": [
    "<div class=\"alert alert-block alert-warning\">  \n",
    "<b>Careful: </b>We need to reshape the data in order to fit our model  \n",
    "</div>"
   ]
  },
  {
   "cell_type": "code",
   "execution_count": 8,
   "id": "1cb96e21",
   "metadata": {
    "execution": {
     "iopub.execute_input": "2023-01-19T10:55:43.147792Z",
     "iopub.status.busy": "2023-01-19T10:55:43.147361Z",
     "iopub.status.idle": "2023-01-19T10:55:43.152738Z",
     "shell.execute_reply": "2023-01-19T10:55:43.151576Z"
    },
    "papermill": {
     "duration": 0.014374,
     "end_time": "2023-01-19T10:55:43.154793",
     "exception": false,
     "start_time": "2023-01-19T10:55:43.140419",
     "status": "completed"
    },
    "tags": []
   },
   "outputs": [],
   "source": [
    "X_train = X_train.values.reshape(-1, 1)\n",
    "X_test = X_test.values.reshape(-1,1)"
   ]
  },
  {
   "cell_type": "markdown",
   "id": "ef8980b4",
   "metadata": {
    "papermill": {
     "duration": 0.005598,
     "end_time": "2023-01-19T10:55:43.166219",
     "exception": false,
     "start_time": "2023-01-19T10:55:43.160621",
     "status": "completed"
    },
    "tags": []
   },
   "source": [
    "**Now let's scale the data**\n",
    "\n",
    "**Scaling the data helps our model converge faster**"
   ]
  },
  {
   "cell_type": "code",
   "execution_count": 9,
   "id": "9c36a99d",
   "metadata": {
    "execution": {
     "iopub.execute_input": "2023-01-19T10:55:43.179537Z",
     "iopub.status.busy": "2023-01-19T10:55:43.179137Z",
     "iopub.status.idle": "2023-01-19T10:55:43.184894Z",
     "shell.execute_reply": "2023-01-19T10:55:43.184204Z"
    },
    "papermill": {
     "duration": 0.015153,
     "end_time": "2023-01-19T10:55:43.187057",
     "exception": false,
     "start_time": "2023-01-19T10:55:43.171904",
     "status": "completed"
    },
    "tags": []
   },
   "outputs": [
    {
     "name": "stdout",
     "output_type": "stream",
     "text": [
      "Transformation sucessful\n"
     ]
    }
   ],
   "source": [
    "scaler = StandardScaler()\n",
    "\n",
    "scaler.fit(X_train)\n",
    "\n",
    "X_train = scaler.transform(X_train)\n",
    "X_test = scaler.transform(X_test)\n",
    "print(\"Transformation sucessful\")"
   ]
  },
  {
   "cell_type": "code",
   "execution_count": 10,
   "id": "5ad0c07e",
   "metadata": {
    "execution": {
     "iopub.execute_input": "2023-01-19T10:55:43.199769Z",
     "iopub.status.busy": "2023-01-19T10:55:43.199396Z",
     "iopub.status.idle": "2023-01-19T10:55:43.206560Z",
     "shell.execute_reply": "2023-01-19T10:55:43.205598Z"
    },
    "papermill": {
     "duration": 0.01638,
     "end_time": "2023-01-19T10:55:43.209004",
     "exception": false,
     "start_time": "2023-01-19T10:55:43.192624",
     "status": "completed"
    },
    "tags": []
   },
   "outputs": [
    {
     "data": {
      "text/plain": [
       "(-1.72857469859145, 1.7275858114641094)"
      ]
     },
     "execution_count": 10,
     "metadata": {},
     "output_type": "execute_result"
    }
   ],
   "source": [
    "X_train.min(),X_train.max()"
   ]
  },
  {
   "cell_type": "markdown",
   "id": "b909a7a6",
   "metadata": {
    "papermill": {
     "duration": 0.005594,
     "end_time": "2023-01-19T10:55:43.220399",
     "exception": false,
     "start_time": "2023-01-19T10:55:43.214805",
     "status": "completed"
    },
    "tags": []
   },
   "source": [
    "## Visualize The Data"
   ]
  },
  {
   "cell_type": "code",
   "execution_count": 11,
   "id": "506d3e24",
   "metadata": {
    "execution": {
     "iopub.execute_input": "2023-01-19T10:55:43.233982Z",
     "iopub.status.busy": "2023-01-19T10:55:43.233563Z",
     "iopub.status.idle": "2023-01-19T10:55:43.596806Z",
     "shell.execute_reply": "2023-01-19T10:55:43.595741Z"
    },
    "papermill": {
     "duration": 0.373223,
     "end_time": "2023-01-19T10:55:43.599432",
     "exception": false,
     "start_time": "2023-01-19T10:55:43.226209",
     "status": "completed"
    },
    "tags": []
   },
   "outputs": [
    {
     "data": {
      "text/html": [
       "        <script type=\"text/javascript\">\n",
       "        window.PlotlyConfig = {MathJaxConfig: 'local'};\n",
       "        if (window.MathJax && window.MathJax.Hub && window.MathJax.Hub.Config) {window.MathJax.Hub.Config({SVG: {font: \"STIX-Web\"}});}\n",
       "        if (typeof require !== 'undefined') {\n",
       "        require.undef(\"plotly\");\n",
       "        requirejs.config({\n",
       "            paths: {\n",
       "                'plotly': ['https://cdn.plot.ly/plotly-2.14.0.min']\n",
       "            }\n",
       "        });\n",
       "        require(['plotly'], function(Plotly) {\n",
       "            window._Plotly = Plotly;\n",
       "        });\n",
       "        }\n",
       "        </script>\n",
       "        "
      ]
     },
     "metadata": {},
     "output_type": "display_data"
    },
    {
     "data": {
      "text/html": [
       "<div>                            <div id=\"1fac42c5-2ce3-492d-ac9f-a8afd1ef2093\" class=\"plotly-graph-div\" style=\"height:525px; width:100%;\"></div>            <script type=\"text/javascript\">                require([\"plotly\"], function(Plotly) {                    window.PLOTLYENV=window.PLOTLYENV || {};                                    if (document.getElementById(\"1fac42c5-2ce3-492d-ac9f-a8afd1ef2093\")) {                    Plotly.newPlot(                        \"1fac42c5-2ce3-492d-ac9f-a8afd1ef2093\",                        [{\"hovertemplate\":\"x=%{x}<br>y=%{y}<extra></extra>\",\"legendgroup\":\"\",\"marker\":{\"color\":\"#1F77B4\",\"symbol\":\"circle\"},\"mode\":\"markers\",\"name\":\"\",\"orientation\":\"v\",\"showlegend\":false,\"x\":[24.0,50.0,15.0,38.0,87.0,36.0,12.0,81.0,25.0,5.0,16.0,16.0,24.0,39.0,54.0,60.0,26.0,73.0,29.0,31.0,68.0,87.0,58.0,54.0,84.0,58.0,49.0,20.0,90.0,48.0,4.0,25.0,42.0,0.0,60.0,93.0,39.0,7.0,21.0,68.0,84.0,0.0,58.0,19.0,36.0,19.0,59.0,51.0,19.0,33.0,85.0,44.0,5.0,59.0,14.0,9.0,75.0,69.0,10.0,17.0,58.0,74.0,21.0,51.0,19.0,50.0,24.0,0.0,12.0,75.0,21.0,64.0,5.0,58.0,32.0,41.0,7.0,4.0,5.0,49.0,90.0,3.0,11.0,32.0,83.0,25.0,83.0,26.0,76.0,95.0,53.0,77.0,42.0,25.0,54.0,55.0,0.0,73.0,35.0,86.0,90.0,13.0,46.0,46.0,32.0,8.0,71.0,28.0,24.0,56.0,49.0,79.0,90.0,89.0,41.0,27.0,58.0,26.0,31.0,70.0,71.0,39.0,7.0,48.0,56.0,45.0,41.0,3.0,37.0,24.0,68.0,47.0,27.0,68.0,74.0,95.0,79.0,21.0,95.0,54.0,56.0,80.0,26.0,25.0,8.0,95.0,94.0,54.0,7.0,99.0,36.0,48.0,65.0,42.0,93.0,86.0,26.0,51.0,100.0,94.0,6.0,24.0,75.0,7.0,53.0,73.0,16.0,80.0,77.0,89.0,80.0,55.0,19.0,56.0,47.0,56.0,2.0,82.0,57.0,44.0,26.0,52.0,41.0,44.0,3.0,31.0,97.0,21.0,17.0,7.0,61.0,10.0,52.0,10.0,65.0,71.0,4.0,24.0,26.0,51.0,42.0,62.0,74.0,77.0,3.0,50.0,24.0,37.0,58.0,52.0,27.0,14.0,100.0,72.0,5.0,71.0,54.0,84.0,42.0,54.0,74.0,54.0,53.0,78.0,97.0,49.0,71.0,48.0,51.0,89.0,99.0,93.0,49.0,18.0,65.0,83.0,100.0,41.0,52.0,29.0,97.0,7.0,51.0,58.0,50.0,67.0,89.0,76.0,35.0,99.0,31.0,52.0,11.0,66.0,50.0,39.0,60.0,35.0,53.0,14.0,49.0,16.0,76.0,13.0,51.0,70.0,98.0,86.0,100.0,46.0,51.0,50.0,91.0,48.0,81.0,38.0,40.0,79.0,96.0,60.0,70.0,44.0,11.0,6.0,5.0,72.0,55.0,95.0,41.0,25.0,1.0,55.0,4.0,48.0,55.0,75.0,68.0,100.0,25.0,75.0,34.0,38.0,92.0,21.0,88.0,75.0,76.0,44.0,10.0,21.0,16.0,32.0,13.0,26.0,70.0,77.0,77.0,88.0,35.0,24.0,17.0,91.0,32.0,36.0,89.0,69.0,30.0,6.0,22.0,67.0,9.0,74.0,50.0,85.0,3.0,0.0,59.0,62.0,17.0,90.0,23.0,19.0,93.0,14.0,58.0,87.0,37.0,20.0,35.0,63.0,56.0,62.0,98.0,90.0,51.0,93.0,22.0,38.0,13.0,98.0,99.0,31.0,94.0,73.0,37.0,23.0,11.0,88.0,47.0,79.0,91.0,71.0,10.0,39.0,92.0,99.0,28.0,32.0,32.0,75.0,99.0,27.0,64.0,98.0,38.0,46.0,13.0,96.0,9.0,34.0,49.0,1.0,50.0,94.0,27.0,20.0,12.0,45.0,91.0,61.0,10.0,47.0,33.0,84.0,24.0,48.0,48.0,9.0,93.0,99.0,8.0,20.0,38.0,78.0,81.0,42.0,95.0,78.0,44.0,68.0,87.0,58.0,52.0,26.0,75.0,48.0,71.0,77.0,34.0,24.0,70.0,29.0,76.0,98.0,28.0,87.0,9.0,87.0,33.0,64.0,17.0,49.0,95.0,75.0,89.0,81.0,25.0,47.0,50.0,5.0,68.0,84.0,8.0,41.0,26.0,89.0,78.0,34.0,92.0,27.0,12.0,2.0,22.0,0.0,26.0,50.0,84.0,70.0,66.0,42.0,19.0,94.0,71.0,19.0,16.0,49.0,29.0,29.0,86.0,50.0,86.0,30.0,23.0,20.0,16.0,57.0,8.0,8.0,62.0,55.0,30.0,86.0,62.0,51.0,61.0,86.0,61.0,21.0,81.0,97.0,5.0,61.0,47.0,98.0,30.0,63.0,0.0,100.0,18.0,30.0,98.0,16.0,22.0,55.0,43.0,75.0,91.0,46.0,85.0,55.0,36.0,49.0,94.0,43.0,22.0,37.0,24.0,95.0,61.0,75.0,68.0,58.0,5.0,53.0,80.0,83.0,25.0,34.0,26.0,90.0,60.0,49.0,19.0,92.0,29.0,8.0,57.0,29.0,19.0,81.0,50.0,15.0,70.0,39.0,43.0,21.0,98.0,86.0,16.0,25.0,31.0,93.0,67.0,49.0,25.0,88.0,54.0,21.0,8.0,32.0,35.0,67.0,90.0,59.0,15.0,67.0,42.0,44.0,77.0,68.0,36.0,11.0,10.0,65.0,98.0,98.0,49.0,31.0,56.0,70.0,91.0,25.0,54.0,39.0,91.0,3.0,22.0,2.0,2.0,65.0,71.0,42.0,76.0,43.0,8.0,86.0,87.0,3.0,58.0,62.0,89.0,95.0,28.0,0.0,1.0,49.0,21.0,46.0,11.0,89.0,37.0,29.0,44.0,96.0,16.0,74.0,35.0,42.0,16.0,56.0,18.0,100.0,54.0,92.0,63.0,81.0,73.0,48.0,1.0,85.0,14.0,25.0,45.0,98.0,97.0,58.0,93.0,88.0,89.0,47.0,6.0,34.0,30.0,16.0,86.0,40.0,52.0,15.0,4.0,95.0,99.0,35.0,58.0,10.0,16.0,53.0,58.0,42.0,24.0,84.0,64.0,12.0,61.0,75.0,15.0,100.0,43.0,13.0,48.0,45.0,52.0,34.0,30.0,65.0,100.0,67.0,99.0,45.0,87.0,73.0,9.0,81.0,72.0,81.0,58.0,93.0,82.0,66.0,97.0],\"xaxis\":\"x\",\"y\":[21.54945196,47.46446305,17.21865634,36.58639803,87.28898389,32.46387493,10.78089683,80.7633986,24.61215147,6.963319071,11.23757338,13.53290206,24.60323899,39.40049976,48.43753838,61.69900319,26.92832418,70.4052055,29.34092408,25.30895192,69.02934339,84.99484703,57.04310305,50.5921991,83.02772202,57.05752706,47.95883341,24.34226432,94.68488281,48.03970696,7.08132338,21.99239907,42.33151664,0.329089443,61.92303698,91.17716423,39.45358014,5.996069607,22.59015942,61.18044414,85.02778957,-1.28631089,61.94273962,21.96033347,33.66194193,17.60946242,58.5630564,52.82390762,22.1363481,35.07467353,86.18822311,42.63227697,4.09817744,61.2229864,17.70677576,11.85312574,80.23051695,62.64931741,9.616859804,20.02797699,61.7510743,71.61010303,23.77154623,51.90142035,22.66073682,50.02897927,26.68794368,0.376911899,6.806419002,77.33986001,28.90260209,66.7346608,0.707510638,57.07748383,28.41453196,44.46272123,7.459605998,2.316708112,4.928546187,52.50336074,91.19109623,8.489164326,6.963371967,31.97989959,81.4281205,22.62365422,78.52505087,25.80714057,73.51081775,91.775467,49.21863516,80.50445387,50.05636123,25.46292549,55.32164264,59.1244888,1.100686692,71.98020786,30.13666408,83.88427405,89.91004752,8.335654576,47.88388961,45.00397413,31.15664574,9.190375682,74.83135003,30.23177607,24.21914027,57.87219151,50.61728392,78.67470043,86.236707,89.10409255,43.26595082,26.68273277,59.46383041,28.90055826,31.300416,71.1433266,68.4739206,39.98238856,4.075776144,47.85817542,51.20390217,43.9367213,38.13626679,3.574661632,36.4139958,22.21908523,63.5312572,49.86702787,21.53140009,64.05710234,70.77549842,92.15749762,81.22259156,25.10114067,94.08853397,53.25166165,59.16236621,75.24148428,28.22325833,25.33323728,6.364615703,95.4609216,88.64183756,58.70318693,6.815491279,99.40394676,32.77049249,47.0586788,60.53321778,40.30929858,89.42222685,86.82132066,26.11697543,53.26657596,96.62327888,95.78441027,6.047286687,24.47387908,75.96844763,3.829381009,52.51703683,72.80457527,14.10999096,80.86087062,77.01988215,86.26972444,77.13735466,51.47649476,17.34557531,57.72853572,44.15029394,59.24362743,-1.053275611,86.79002254,60.14031858,44.04222058,24.5227488,52.95305521,43.16133498,45.67562576,-2.830749501,29.19693178,96.49812401,22.5453232,20.10741433,4.035430253,61.14568518,13.97163653,55.34529893,12.18441166,64.00077658,70.3188322,-0.936895047,18.91422276,23.87590331,47.5775361,43.2736092,66.48278755,75.72605529,80.59643338,-2.235879852,47.04654956,21.59635575,32.87558963,57.95782956,52.24760027,24.58286902,12.12573805,100.0158026,74.04682658,1.611947467,70.36836307,52.26831735,83.1286166,43.64765048,49.44785426,72.6356699,52.78130641,57.11195136,79.1050629,101.6228548,53.5825402,68.92139297,46.9666961,51.02642868,85.52073551,99.51685756,94.63911256,46.78357742,21.21321959,58.37266004,87.22059677,102.4967859,43.88314335,53.06655757,26.33464785,98.52008934,9.400497579,52.94026699,53.83020877,45.94511142,65.0132736,86.5069584,75.63280796,36.78035027,100.5328916,29.04466136,51.70352433,9.199954718,71.70015848,49.82634062,37.49971096,53.65084683,33.92561965,49.92639685,8.148154262,49.72359037,16.16712757,75.30033002,9.577368568,48.38088357,72.95331671,92.59573853,88.85523586,99.00361771,45.09439571,46.94362684,48.33449605,94.92329574,47.78165248,81.28960746,37.83155021,39.69185252,76.92664854,88.02990531,56.99178872,72.58929383,44.98103442,11.99017641,1.919513328,1.628826073,66.27746655,57.53887255,94.70291077,41.21469904,25.04169243,3.778209914,50.50711779,9.682408486,48.88147608,54.40348599,71.70233156,69.35848388,99.98491591,26.03323718,75.48910307,36.59623056,40.95102191,86.78316267,15.50701184,85.86077871,79.20610113,80.80643766,48.59717283,13.93415049,27.3051179,14.00226297,33.67416,13.11612884,24.76649193,73.68477876,77.53149541,76.24503196,88.0578931,35.02445799,21.65857739,17.33681562,94.36778957,33.43396307,32.52179399,90.57741298,71.25634126,31.23212856,5.398840061,18.56241391,71.97121038,5.225759566,73.5964342,49.76948983,82.69087513,1.652309089,-3.836652144,62.03811556,61.26514581,13.24991628,88.61672694,21.13655528,23.85017475,92.01203405,10.26712261,54.14681616,87.00645713,37.69447352,19.62278654,34.78561007,62.03190983,52.67003801,58.09031476,97.19448821,90.50155298,50.5123462,94.45211871,21.10794636,37.36298431,10.28574844,96.04932416,100.0953697,30.6063167,96.19000542,71.30828034,34.59311043,19.02332876,10.76669688,90.5799868,48.71787679,78.74139764,85.23492274,71.65789964,8.938990554,39.89606046,91.85091116,99.11200375,26.22196486,33.21584226,35.72392691,76.88604495,99.30874567,25.77161074,67.85169407,98.50371084,31.11331895,45.51171028,12.65537808,95.56065366,9.526431641,36.10893209,46.43628318,-3.83998112,48.97302037,93.25305499,23.47650968,17.13551132,14.55896144,41.53992729,91.64730552,66.16652565,9.230857489,47.41377893,34.76441561,86.10796637,21.81267954,48.89963951,46.78108638,12.91328547,94.55203143,94.97068753,2.379172481,21.47982988,35.79795462,82.0763803,78.87097714,47.2492425,96.18852325,78.38491927,42.94274064,64.43231595,84.21191485,57.3069783,52.52101436,25.7440243,75.42283401,53.62523007,75.14466308,74.12151511,36.24807243,20.21665898,66.94758118,34.07278254,73.13850045,92.85929155,28.36793808,85.59308727,10.68453755,86.10708624,33.22031418,66.09563422,19.30486546,48.84542083,93.73176312,75.45758614,91.24239226,87.15690853,25.53752833,46.06629478,49.65277661,7.382244165,71.11189935,83.50570521,8.791139893,33.30638903,26.40362524,91.72960726,82.53030719,36.67762733,86.98450355,32.34784175,16.78353974,1.576584383,17.4618141,2.116113029,24.34804332,48.29491198,85.52145453,73.71434779,63.15189497,38.46213684,19.47100788,94.07428225,67.92051286,22.58096241,16.01629889,48.43307886,29.6673599,26.65566328,86.28206739,50.82304924,88.57251713,32.59980745,21.02469368,20.72894979,20.38051187,57.25180153,6.967537054,10.240085,64.94841088,55.35893915,31.24365589,90.72048818,58.750127,55.85003198,60.19925869,85.03295412,60.38823085,18.44679787,82.18839247,94.2963344,7.682024586,61.01858089,53.60562216,94.47728801,27.9645947,62.55662585,1.406254414,101.7003412,13.84973988,28.99769315,99.04315693,15.56135514,24.63528393,53.98393374,42.91449728,74.29662112,91.17012883,49.42440876,82.47683519,56.15303953,37.17063131,46.36928662,97.02383456,40.83182104,24.08498313,41.14386358,21.97388066,100.740897,61.19971596,74.39517002,69.04377173,56.68718792,5.860391715,55.72021356,79.22021816,86.30177517,25.26971886,36.33294447,27.65574228,94.79690531,58.67366671,56.15934471,18.40919388,86.26936988,26.59436195,8.452520159,56.18131518,27.65452669,20.87391785,77.83354439,50.01787825,9.290856256,75.0284725,38.3037698,44.70786405,22.51016575,102.4959452,86.76845244,13.89748578,24.81824269,33.94224862,92.26970059,68.73365081,47.38516883,32.37576914,87.67388681,54.57648371,18.06450222,7.896539841,35.00341078,36.72823317,65.84975426,89.59295492,61.69026202,11.60499315,71.0826803,43.71901164,41.57421008,74.25552425,66.28310437,36.62438077,10.32374866,7.156457657,67.88603132,101.1097591,98.6132033,50.19083844,27.83896261,55.9249564,76.47340872,92.05756378,27.35245439,55.32083476,41.39990349,93.59057024,5.297054029,21.01429422,2.267059451,-0.121860502,66.49546208,73.83637687,42.10140878,77.35135732,41.02251779,14.75305272,83.28199022,89.93374342,2.286571686,55.61421297,62.15313408,89.55803528,94.00291863,26.78023848,-0.764537626,0.282866003,44.26800515,19.85174138,47.15960005,8.359366572,92.08157084,41.88734051,30.5413129,46.87654473,96.35659485,17.9170699,71.67949917,32.64997554,39.34482965,17.03401999,52.87524074,15.85414849,108.8716183,49.30477253,89.4749477,63.67348242,83.78410946,73.51136922,46.80297244,5.809946802,85.23027975,10.58213964,21.37698317,46.0537745,95.2389253,94.15149206,54.54868046,87.36260449,88.47741598,84.48045678,48.79647071,10.76675683,30.48882921,29.76846185,13.51574749,86.12955884,43.30022747,51.92110232,16.49185287,7.998073432,97.66689567,89.80545367,38.07166567,60.27852322,6.709195759,18.35488924,56.37058203,62.80064204,41.25155632,19.42637541,82.88935804,63.61364981,11.29627199,60.02274882,72.60339326,11.87964573,100.7012737,45.12420809,14.81106804,48.09368034,42.29145672,52.73389794,36.72396986,28.64535198,62.16675273,95.58459518,66.04325304,99.9566225,46.14941984,89.13754963,69.71787806,12.31736648,78.20296268,71.30995371,81.45544709,58.59500642,94.62509374,88.60376995,63.64868529,94.9752655],\"yaxis\":\"y\",\"type\":\"scatter\"}],                        {\"template\":{\"data\":{\"pie\":[{\"automargin\":true,\"type\":\"pie\"}]},\"layout\":{\"xaxis\":{\"showgrid\":true,\"title\":{\"standoff\":15}},\"yaxis\":{\"showgrid\":true,\"title\":{\"standoff\":15}}}},\"xaxis\":{\"anchor\":\"y\",\"domain\":[0.0,1.0],\"title\":{\"text\":\"x\"}},\"yaxis\":{\"anchor\":\"x\",\"domain\":[0.0,1.0],\"title\":{\"text\":\"y\"}},\"legend\":{\"tracegroupgap\":0},\"margin\":{\"t\":60}},                        {\"responsive\": true}                    ).then(function(){\n",
       "                            \n",
       "var gd = document.getElementById('1fac42c5-2ce3-492d-ac9f-a8afd1ef2093');\n",
       "var x = new MutationObserver(function (mutations, observer) {{\n",
       "        var display = window.getComputedStyle(gd).display;\n",
       "        if (!display || display === 'none') {{\n",
       "            console.log([gd, 'removed!']);\n",
       "            Plotly.purge(gd);\n",
       "            observer.disconnect();\n",
       "        }}\n",
       "}});\n",
       "\n",
       "// Listen for the removal of the full notebook cells\n",
       "var notebookContainer = gd.closest('#notebook-container');\n",
       "if (notebookContainer) {{\n",
       "    x.observe(notebookContainer, {childList: true});\n",
       "}}\n",
       "\n",
       "// Listen for the clearing of the current output cell\n",
       "var outputEl = gd.closest('.output');\n",
       "if (outputEl) {{\n",
       "    x.observe(outputEl, {childList: true});\n",
       "}}\n",
       "\n",
       "                        })                };                });            </script>        </div>"
      ]
     },
     "metadata": {},
     "output_type": "display_data"
    }
   ],
   "source": [
    "px.scatter(x=train['x'], y=train['y'],template='gridon')"
   ]
  },
  {
   "cell_type": "markdown",
   "id": "c7555f90",
   "metadata": {
    "papermill": {
     "duration": 0.006369,
     "end_time": "2023-01-19T10:55:43.612263",
     "exception": false,
     "start_time": "2023-01-19T10:55:43.605894",
     "status": "completed"
    },
    "tags": []
   },
   "source": [
    "<a id=\"4\"></a>\n",
    "<h1 style='background:#E8DCB5;border:0; color:black;\n",
    "    box-shadow: 10px 10px 5px 0px rgba(0,0,0,0.75);\n",
    "    transform: rotateX(10deg);\n",
    "    '><center style='color: #000000;'>Model</center></h1>\n",
    "\n",
    "# Model"
   ]
  },
  {
   "cell_type": "code",
   "execution_count": 12,
   "id": "b45e32f3",
   "metadata": {
    "execution": {
     "iopub.execute_input": "2023-01-19T10:55:43.627684Z",
     "iopub.status.busy": "2023-01-19T10:55:43.626992Z",
     "iopub.status.idle": "2023-01-19T10:55:43.661433Z",
     "shell.execute_reply": "2023-01-19T10:55:43.659342Z"
    },
    "papermill": {
     "duration": 0.04579,
     "end_time": "2023-01-19T10:55:43.664480",
     "exception": false,
     "start_time": "2023-01-19T10:55:43.618690",
     "status": "completed"
    },
    "tags": []
   },
   "outputs": [
    {
     "data": {
      "text/plain": [
       "LinearRegression()"
      ]
     },
     "execution_count": 12,
     "metadata": {},
     "output_type": "execute_result"
    }
   ],
   "source": [
    "model = LinearRegression() #Create linear regression instance\n",
    "\n",
    "model.fit(X_train, y_train) #fit the linear regression model to the training data and labels"
   ]
  },
  {
   "cell_type": "markdown",
   "id": "6ca36c88",
   "metadata": {
    "papermill": {
     "duration": 0.006048,
     "end_time": "2023-01-19T10:55:43.676952",
     "exception": false,
     "start_time": "2023-01-19T10:55:43.670904",
     "status": "completed"
    },
    "tags": []
   },
   "source": [
    "<a id=\"5\"></a>\n",
    "<h1 style='background:#E8DCB5;border:0; color:black;\n",
    "    box-shadow: 10px 10px 5px 0px rgba(0,0,0,0.75);\n",
    "    transform: rotateX(10deg);\n",
    "    '><center style='color: #000000;'>Evaluation</center></h1>\n",
    "\n",
    "# Evaluation\n",
    "\n",
    "**Now let's evaluate the results on the test set**"
   ]
  },
  {
   "cell_type": "code",
   "execution_count": 13,
   "id": "4f278d7d",
   "metadata": {
    "execution": {
     "iopub.execute_input": "2023-01-19T10:55:43.693762Z",
     "iopub.status.busy": "2023-01-19T10:55:43.693399Z",
     "iopub.status.idle": "2023-01-19T10:55:43.699475Z",
     "shell.execute_reply": "2023-01-19T10:55:43.698499Z"
    },
    "papermill": {
     "duration": 0.016473,
     "end_time": "2023-01-19T10:55:43.701473",
     "exception": false,
     "start_time": "2023-01-19T10:55:43.685000",
     "status": "completed"
    },
    "tags": []
   },
   "outputs": [],
   "source": [
    "predictions = model.predict(X_test)"
   ]
  },
  {
   "cell_type": "code",
   "execution_count": 14,
   "id": "b10b935f",
   "metadata": {
    "execution": {
     "iopub.execute_input": "2023-01-19T10:55:43.715759Z",
     "iopub.status.busy": "2023-01-19T10:55:43.715377Z",
     "iopub.status.idle": "2023-01-19T10:55:43.721288Z",
     "shell.execute_reply": "2023-01-19T10:55:43.719740Z"
    },
    "papermill": {
     "duration": 0.016351,
     "end_time": "2023-01-19T10:55:43.724143",
     "exception": false,
     "start_time": "2023-01-19T10:55:43.707792",
     "status": "completed"
    },
    "tags": []
   },
   "outputs": [],
   "source": [
    "mse = mean_squared_error(y_test, predictions) #Get the mean squared error as the evaluation metric"
   ]
  },
  {
   "cell_type": "code",
   "execution_count": 15,
   "id": "a60caf99",
   "metadata": {
    "execution": {
     "iopub.execute_input": "2023-01-19T10:55:43.738816Z",
     "iopub.status.busy": "2023-01-19T10:55:43.738464Z",
     "iopub.status.idle": "2023-01-19T10:55:43.743833Z",
     "shell.execute_reply": "2023-01-19T10:55:43.742438Z"
    },
    "papermill": {
     "duration": 0.015739,
     "end_time": "2023-01-19T10:55:43.746221",
     "exception": false,
     "start_time": "2023-01-19T10:55:43.730482",
     "status": "completed"
    },
    "tags": []
   },
   "outputs": [
    {
     "name": "stdout",
     "output_type": "stream",
     "text": [
      "the mean squared error is: 9.432922192039317\n"
     ]
    }
   ],
   "source": [
    "print(f'the mean squared error is: {mse}')"
   ]
  },
  {
   "cell_type": "markdown",
   "id": "6d50406d",
   "metadata": {
    "papermill": {
     "duration": 0.007272,
     "end_time": "2023-01-19T10:55:43.760138",
     "exception": false,
     "start_time": "2023-01-19T10:55:43.752866",
     "status": "completed"
    },
    "tags": []
   },
   "source": [
    "<a id=\"6\"></a>\n",
    "<h1 style='background:#E8DCB5;border:0; color:black;\n",
    "    box-shadow: 10px 10px 5px 0px rgba(0,0,0,0.75);\n",
    "    transform: rotateX(10deg);\n",
    "    '><center style='color: #000000;'>Thank You</center></h1>\n",
    "\n",
    "# Thank You\n",
    "\n",
    "**Thank you for taking your time and going through this notebook**\n",
    "\n",
    "**If you have any suggestions please let me know**"
   ]
  },
  {
   "cell_type": "markdown",
   "id": "37e5cd0d",
   "metadata": {
    "papermill": {
     "duration": 0.005818,
     "end_time": "2023-01-19T10:55:43.772547",
     "exception": false,
     "start_time": "2023-01-19T10:55:43.766729",
     "status": "completed"
    },
    "tags": []
   },
   "source": [
    "**Thanks for going through this notebook if you have any feedback please let me know**\n",
    "\n",
    "**To see how to implement Linear Regression from scratch please check this [notebook](https://www.kaggle.com/code/fareselmenshawii/from-scratch-linearregression)**"
   ]
  }
 ],
 "metadata": {
  "kernelspec": {
   "display_name": "Python 3",
   "language": "python",
   "name": "python3"
  },
  "language_info": {
   "codemirror_mode": {
    "name": "ipython",
    "version": 3
   },
   "file_extension": ".py",
   "mimetype": "text/x-python",
   "name": "python",
   "nbconvert_exporter": "python",
   "pygments_lexer": "ipython3",
   "version": "3.7.12"
  },
  "papermill": {
   "default_parameters": {},
   "duration": 11.740815,
   "end_time": "2023-01-19T10:55:44.700141",
   "environment_variables": {},
   "exception": null,
   "input_path": "__notebook__.ipynb",
   "output_path": "__notebook__.ipynb",
   "parameters": {},
   "start_time": "2023-01-19T10:55:32.959326",
   "version": "2.3.4"
  }
 },
 "nbformat": 4,
 "nbformat_minor": 5
}
