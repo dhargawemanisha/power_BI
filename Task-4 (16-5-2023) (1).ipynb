{
 "cells": [
  {
   "cell_type": "code",
   "execution_count": 44,
   "id": "ec832215",
   "metadata": {},
   "outputs": [],
   "source": [
    "import numpy as np"
   ]
  },
  {
   "cell_type": "code",
   "execution_count": 117,
   "id": "0954fbd6",
   "metadata": {},
   "outputs": [],
   "source": [
    "arr1 = np.array([1, 2, 3, 4, 5])\n"
   ]
  },
  {
   "cell_type": "code",
   "execution_count": 126,
   "id": "65aa0539",
   "metadata": {},
   "outputs": [
    {
     "name": "stdout",
     "output_type": "stream",
     "text": [
      "[[0 1]\n",
      " [2 3]\n",
      " [4 5]]\n"
     ]
    }
   ],
   "source": [
    "print(arr1)"
   ]
  },
  {
   "cell_type": "code",
   "execution_count": 127,
   "id": "92236196",
   "metadata": {},
   "outputs": [
    {
     "name": "stdout",
     "output_type": "stream",
     "text": [
      "Shape of arr1: (3, 2)\n"
     ]
    }
   ],
   "source": [
    "print(\"Shape of arr1:\", arr1.shape)\n"
   ]
  },
  {
   "cell_type": "code",
   "execution_count": 128,
   "id": "427d7e32",
   "metadata": {},
   "outputs": [],
   "source": [
    "arr1 = np.array([(0, 1), (2, 3), (4,5)])\n"
   ]
  },
  {
   "cell_type": "code",
   "execution_count": 129,
   "id": "0dc4053f",
   "metadata": {},
   "outputs": [],
   "source": [
    "arr2 = arr1.reshape(2, 3)\n"
   ]
  },
  {
   "cell_type": "code",
   "execution_count": 130,
   "id": "f04a1ae6",
   "metadata": {},
   "outputs": [
    {
     "name": "stdout",
     "output_type": "stream",
     "text": [
      "Shape of arr2: (2, 3)\n"
     ]
    }
   ],
   "source": [
    "print(\"Shape of arr2:\", arr2.shape)"
   ]
  },
  {
   "cell_type": "code",
   "execution_count": 131,
   "id": "4784bc6e",
   "metadata": {},
   "outputs": [
    {
     "name": "stdout",
     "output_type": "stream",
     "text": [
      "Second array:\n",
      "[ 6  7  8  9 10]\n"
     ]
    }
   ],
   "source": [
    "arr3 = np.array([6, 7, 8, 9, 10])\n",
    "\n",
    "print(\"Second array:\")\n",
    "print(arr3)"
   ]
  },
  {
   "cell_type": "code",
   "execution_count": 135,
   "id": "02569cac",
   "metadata": {},
   "outputs": [],
   "source": [
    "a_1=np.array([6,7,8])\n",
    "a_2=np.array([9,10])"
   ]
  },
  {
   "cell_type": "code",
   "execution_count": 133,
   "id": "c12dd81e",
   "metadata": {},
   "outputs": [
    {
     "name": "stdout",
     "output_type": "stream",
     "text": [
      "Concatenated array:\n",
      "[ 6  7  8  9 10]\n"
     ]
    }
   ],
   "source": [
    "result = np.concatenate((a_1, a_2))\n",
    "\n",
    "print(\"Concatenated array:\")\n",
    "print(result)\n"
   ]
  },
  {
   "cell_type": "code",
   "execution_count": 134,
   "id": "43c055c0",
   "metadata": {},
   "outputs": [
    {
     "name": "stdout",
     "output_type": "stream",
     "text": [
      "Mean: 8.0\n",
      "Median: 8.0\n",
      "Standard Deviation: 1.4142135623730951\n"
     ]
    }
   ],
   "source": [
    "mean_value = np.mean(result)\n",
    "median_value = np.median(result)\n",
    "std_dev = np.std(result)\n",
    "\n",
    "print(\"Mean:\", mean_value)\n",
    "print(\"Median:\", median_value)\n",
    "print(\"Standard Deviation:\", std_dev)"
   ]
  },
  {
   "cell_type": "code",
   "execution_count": null,
   "id": "9e19f79d",
   "metadata": {},
   "outputs": [],
   "source": []
  },
  {
   "cell_type": "code",
   "execution_count": null,
   "id": "d1c0bbdb",
   "metadata": {},
   "outputs": [],
   "source": []
  },
  {
   "cell_type": "code",
   "execution_count": null,
   "id": "1219ba53",
   "metadata": {},
   "outputs": [],
   "source": []
  }
 ],
 "metadata": {
  "kernelspec": {
   "display_name": "Python 3 (ipykernel)",
   "language": "python",
   "name": "python3"
  },
  "language_info": {
   "codemirror_mode": {
    "name": "ipython",
    "version": 3
   },
   "file_extension": ".py",
   "mimetype": "text/x-python",
   "name": "python",
   "nbconvert_exporter": "python",
   "pygments_lexer": "ipython3",
   "version": "3.9.12"
  }
 },
 "nbformat": 4,
 "nbformat_minor": 5
}
